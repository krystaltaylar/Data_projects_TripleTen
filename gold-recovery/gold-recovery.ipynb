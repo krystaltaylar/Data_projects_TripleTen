{
 "cells": [
  {
   "cell_type": "markdown",
   "metadata": {},
   "source": [
    "# Introduction"
   ]
  },
  {
   "cell_type": "markdown",
   "metadata": {},
   "source": [
    "For this project, OilyGiant mining company is searching for the best region for a new well. Using the data on oil samples from three regions, I will build a model to help pick the region with the highest profit margin, then analyze potential profit and risks. \n",
    "\n",
    "The features are as follows: id — unique oil well identifier, f0, f1, f2 — three features of points (their specific meaning is unimportant, but the features themselves are significant).\n",
    "\n",
    "The target is as follows: product — volume of reserves in the oil well (thousand barrels)."
   ]
  },
  {
   "cell_type": "markdown",
   "metadata": {},
   "source": [
    "## Step 1"
   ]
  },
  {
   "cell_type": "markdown",
   "metadata": {},
   "source": [
    "Importing all necessary libraries and modules. Preprocessing the data."
   ]
  },
  {
   "cell_type": "code",
   "execution_count": 1,
   "metadata": {
    "trusted": false
   },
   "outputs": [],
   "source": [
    "import pandas as pd\n",
    "import numpy as np\n",
    "from scipy import stats as st\n",
    "import plotly.express as px \n",
    "from sklearn.linear_model import LinearRegression\n",
    "from sklearn.model_selection import train_test_split, cross_val_score\n",
    "from sklearn.metrics import mean_squared_error\n",
    "\n"
   ]
  },
  {
   "cell_type": "code",
   "execution_count": 2,
   "metadata": {
    "trusted": false
   },
   "outputs": [],
   "source": [
    "try:\n",
    "    gd_0 = pd.read_csv('/System/Volumes/Data/Users/krystaltaylar/Desktop/TripleTen Projects/Sprint 9/geo_data_0.csv')\n",
    "except FileNotFoundError:\n",
    "    gd_0 = pd.read_csv('geo_data_0.csv')\n",
    "    \n",
    "try:\n",
    "    gd_1 = pd.read_csv('/System/Volumes/Data/Users/krystaltaylar/Desktop/TripleTen Projects/Sprint 9/geo_data_1.csv')\n",
    "except FileNotFoundError:\n",
    "    gd_1 = pd.read_csv('geo_data_1.csv')\n",
    "\n",
    "try:\n",
    "    gd_2 = pd.read_csv('/System/Volumes/Data/Users/krystaltaylar/Desktop/TripleTen Projects/Sprint 9/geo_data_2.csv')\n",
    "except FileNotFoundError:\n",
    "    gd_2 = pd.read_csv('geo_data_2.csv')\n",
    "    \n",
    "# read datasets"
   ]
  },
  {
   "cell_type": "code",
   "execution_count": 3,
   "metadata": {
    "trusted": false
   },
   "outputs": [
    {
     "name": "stdout",
     "output_type": "stream",
     "text": [
      "<class 'pandas.core.frame.DataFrame'>\n",
      "RangeIndex: 100000 entries, 0 to 99999\n",
      "Data columns (total 5 columns):\n",
      " #   Column   Non-Null Count   Dtype  \n",
      "---  ------   --------------   -----  \n",
      " 0   id       100000 non-null  object \n",
      " 1   f0       100000 non-null  float64\n",
      " 2   f1       100000 non-null  float64\n",
      " 3   f2       100000 non-null  float64\n",
      " 4   product  100000 non-null  float64\n",
      "dtypes: float64(4), object(1)\n",
      "memory usage: 3.8+ MB\n"
     ]
    },
    {
     "data": {
      "text/plain": [
       "None"
      ]
     },
     "metadata": {},
     "output_type": "display_data"
    },
    {
     "data": {
      "text/plain": [
       "(100000, 5)"
      ]
     },
     "metadata": {},
     "output_type": "display_data"
    },
    {
     "data": {
      "text/html": [
       "<div>\n",
       "<style scoped>\n",
       "    .dataframe tbody tr th:only-of-type {\n",
       "        vertical-align: middle;\n",
       "    }\n",
       "\n",
       "    .dataframe tbody tr th {\n",
       "        vertical-align: top;\n",
       "    }\n",
       "\n",
       "    .dataframe thead th {\n",
       "        text-align: right;\n",
       "    }\n",
       "</style>\n",
       "<table border=\"1\" class=\"dataframe\">\n",
       "  <thead>\n",
       "    <tr style=\"text-align: right;\">\n",
       "      <th></th>\n",
       "      <th>id</th>\n",
       "      <th>f0</th>\n",
       "      <th>f1</th>\n",
       "      <th>f2</th>\n",
       "      <th>product</th>\n",
       "    </tr>\n",
       "  </thead>\n",
       "  <tbody>\n",
       "    <tr>\n",
       "      <th>18490</th>\n",
       "      <td>TBCZX</td>\n",
       "      <td>0.791891</td>\n",
       "      <td>-0.008148</td>\n",
       "      <td>4.126439</td>\n",
       "      <td>148.595641</td>\n",
       "    </tr>\n",
       "    <tr>\n",
       "      <th>74185</th>\n",
       "      <td>PtDTy</td>\n",
       "      <td>1.611976</td>\n",
       "      <td>-0.206749</td>\n",
       "      <td>-0.724736</td>\n",
       "      <td>58.892678</td>\n",
       "    </tr>\n",
       "    <tr>\n",
       "      <th>42333</th>\n",
       "      <td>EXBl5</td>\n",
       "      <td>0.196319</td>\n",
       "      <td>1.160043</td>\n",
       "      <td>5.585835</td>\n",
       "      <td>59.913868</td>\n",
       "    </tr>\n",
       "    <tr>\n",
       "      <th>69918</th>\n",
       "      <td>3617i</td>\n",
       "      <td>0.530577</td>\n",
       "      <td>0.774575</td>\n",
       "      <td>3.478925</td>\n",
       "      <td>97.526241</td>\n",
       "    </tr>\n",
       "    <tr>\n",
       "      <th>15989</th>\n",
       "      <td>A8N8q</td>\n",
       "      <td>1.794770</td>\n",
       "      <td>-0.291387</td>\n",
       "      <td>5.495769</td>\n",
       "      <td>159.910943</td>\n",
       "    </tr>\n",
       "    <tr>\n",
       "      <th>86443</th>\n",
       "      <td>eXzxR</td>\n",
       "      <td>-0.249685</td>\n",
       "      <td>0.995128</td>\n",
       "      <td>4.026519</td>\n",
       "      <td>59.669947</td>\n",
       "    </tr>\n",
       "    <tr>\n",
       "      <th>13608</th>\n",
       "      <td>J1vpY</td>\n",
       "      <td>-0.747116</td>\n",
       "      <td>0.641750</td>\n",
       "      <td>-0.080416</td>\n",
       "      <td>24.205354</td>\n",
       "    </tr>\n",
       "    <tr>\n",
       "      <th>48600</th>\n",
       "      <td>kVcWg</td>\n",
       "      <td>-0.849000</td>\n",
       "      <td>0.032056</td>\n",
       "      <td>3.967369</td>\n",
       "      <td>130.864315</td>\n",
       "    </tr>\n",
       "    <tr>\n",
       "      <th>38884</th>\n",
       "      <td>tqLBC</td>\n",
       "      <td>1.221502</td>\n",
       "      <td>-0.388941</td>\n",
       "      <td>1.838478</td>\n",
       "      <td>72.993649</td>\n",
       "    </tr>\n",
       "    <tr>\n",
       "      <th>46020</th>\n",
       "      <td>eZI6Q</td>\n",
       "      <td>1.028638</td>\n",
       "      <td>0.231397</td>\n",
       "      <td>1.931040</td>\n",
       "      <td>77.963066</td>\n",
       "    </tr>\n",
       "  </tbody>\n",
       "</table>\n",
       "</div>"
      ],
      "text/plain": [
       "          id        f0        f1        f2     product\n",
       "18490  TBCZX  0.791891 -0.008148  4.126439  148.595641\n",
       "74185  PtDTy  1.611976 -0.206749 -0.724736   58.892678\n",
       "42333  EXBl5  0.196319  1.160043  5.585835   59.913868\n",
       "69918  3617i  0.530577  0.774575  3.478925   97.526241\n",
       "15989  A8N8q  1.794770 -0.291387  5.495769  159.910943\n",
       "86443  eXzxR -0.249685  0.995128  4.026519   59.669947\n",
       "13608  J1vpY -0.747116  0.641750 -0.080416   24.205354\n",
       "48600  kVcWg -0.849000  0.032056  3.967369  130.864315\n",
       "38884  tqLBC  1.221502 -0.388941  1.838478   72.993649\n",
       "46020  eZI6Q  1.028638  0.231397  1.931040   77.963066"
      ]
     },
     "metadata": {},
     "output_type": "display_data"
    }
   ],
   "source": [
    "display(gd_0.info())\n",
    "display(gd_0.shape)\n",
    "display(gd_0.sample(10))"
   ]
  },
  {
   "cell_type": "code",
   "execution_count": 4,
   "metadata": {
    "trusted": false
   },
   "outputs": [
    {
     "name": "stdout",
     "output_type": "stream",
     "text": [
      "<class 'pandas.core.frame.DataFrame'>\n",
      "RangeIndex: 100000 entries, 0 to 99999\n",
      "Data columns (total 5 columns):\n",
      " #   Column   Non-Null Count   Dtype  \n",
      "---  ------   --------------   -----  \n",
      " 0   id       100000 non-null  object \n",
      " 1   f0       100000 non-null  float64\n",
      " 2   f1       100000 non-null  float64\n",
      " 3   f2       100000 non-null  float64\n",
      " 4   product  100000 non-null  float64\n",
      "dtypes: float64(4), object(1)\n",
      "memory usage: 3.8+ MB\n"
     ]
    },
    {
     "data": {
      "text/plain": [
       "None"
      ]
     },
     "metadata": {},
     "output_type": "display_data"
    },
    {
     "data": {
      "text/plain": [
       "(100000, 5)"
      ]
     },
     "metadata": {},
     "output_type": "display_data"
    },
    {
     "data": {
      "text/html": [
       "<div>\n",
       "<style scoped>\n",
       "    .dataframe tbody tr th:only-of-type {\n",
       "        vertical-align: middle;\n",
       "    }\n",
       "\n",
       "    .dataframe tbody tr th {\n",
       "        vertical-align: top;\n",
       "    }\n",
       "\n",
       "    .dataframe thead th {\n",
       "        text-align: right;\n",
       "    }\n",
       "</style>\n",
       "<table border=\"1\" class=\"dataframe\">\n",
       "  <thead>\n",
       "    <tr style=\"text-align: right;\">\n",
       "      <th></th>\n",
       "      <th>id</th>\n",
       "      <th>f0</th>\n",
       "      <th>f1</th>\n",
       "      <th>f2</th>\n",
       "      <th>product</th>\n",
       "    </tr>\n",
       "  </thead>\n",
       "  <tbody>\n",
       "    <tr>\n",
       "      <th>65737</th>\n",
       "      <td>GV63W</td>\n",
       "      <td>-8.277506</td>\n",
       "      <td>4.256231</td>\n",
       "      <td>1.999234</td>\n",
       "      <td>57.085625</td>\n",
       "    </tr>\n",
       "    <tr>\n",
       "      <th>3796</th>\n",
       "      <td>BISf3</td>\n",
       "      <td>9.332995</td>\n",
       "      <td>-0.141692</td>\n",
       "      <td>2.994690</td>\n",
       "      <td>80.859783</td>\n",
       "    </tr>\n",
       "    <tr>\n",
       "      <th>18592</th>\n",
       "      <td>XV4aV</td>\n",
       "      <td>14.833983</td>\n",
       "      <td>-1.026746</td>\n",
       "      <td>0.005034</td>\n",
       "      <td>0.000000</td>\n",
       "    </tr>\n",
       "    <tr>\n",
       "      <th>87182</th>\n",
       "      <td>qrFEj</td>\n",
       "      <td>3.805392</td>\n",
       "      <td>-0.120883</td>\n",
       "      <td>0.988387</td>\n",
       "      <td>26.953261</td>\n",
       "    </tr>\n",
       "    <tr>\n",
       "      <th>48899</th>\n",
       "      <td>Yi5EE</td>\n",
       "      <td>10.981053</td>\n",
       "      <td>-11.363496</td>\n",
       "      <td>1.006123</td>\n",
       "      <td>26.953261</td>\n",
       "    </tr>\n",
       "    <tr>\n",
       "      <th>46453</th>\n",
       "      <td>V2CiU</td>\n",
       "      <td>4.536915</td>\n",
       "      <td>-6.060011</td>\n",
       "      <td>4.989641</td>\n",
       "      <td>137.945408</td>\n",
       "    </tr>\n",
       "    <tr>\n",
       "      <th>79112</th>\n",
       "      <td>m7n7s</td>\n",
       "      <td>-6.545592</td>\n",
       "      <td>-9.942127</td>\n",
       "      <td>4.997426</td>\n",
       "      <td>137.945408</td>\n",
       "    </tr>\n",
       "    <tr>\n",
       "      <th>42005</th>\n",
       "      <td>htObm</td>\n",
       "      <td>-12.518764</td>\n",
       "      <td>-11.613894</td>\n",
       "      <td>-0.003448</td>\n",
       "      <td>3.179103</td>\n",
       "    </tr>\n",
       "    <tr>\n",
       "      <th>81950</th>\n",
       "      <td>S2VGP</td>\n",
       "      <td>11.878952</td>\n",
       "      <td>-10.505874</td>\n",
       "      <td>3.992188</td>\n",
       "      <td>107.813044</td>\n",
       "    </tr>\n",
       "    <tr>\n",
       "      <th>26127</th>\n",
       "      <td>9nH31</td>\n",
       "      <td>-15.892690</td>\n",
       "      <td>-12.016477</td>\n",
       "      <td>4.999542</td>\n",
       "      <td>137.945408</td>\n",
       "    </tr>\n",
       "  </tbody>\n",
       "</table>\n",
       "</div>"
      ],
      "text/plain": [
       "          id         f0         f1        f2     product\n",
       "65737  GV63W  -8.277506   4.256231  1.999234   57.085625\n",
       "3796   BISf3   9.332995  -0.141692  2.994690   80.859783\n",
       "18592  XV4aV  14.833983  -1.026746  0.005034    0.000000\n",
       "87182  qrFEj   3.805392  -0.120883  0.988387   26.953261\n",
       "48899  Yi5EE  10.981053 -11.363496  1.006123   26.953261\n",
       "46453  V2CiU   4.536915  -6.060011  4.989641  137.945408\n",
       "79112  m7n7s  -6.545592  -9.942127  4.997426  137.945408\n",
       "42005  htObm -12.518764 -11.613894 -0.003448    3.179103\n",
       "81950  S2VGP  11.878952 -10.505874  3.992188  107.813044\n",
       "26127  9nH31 -15.892690 -12.016477  4.999542  137.945408"
      ]
     },
     "metadata": {},
     "output_type": "display_data"
    }
   ],
   "source": [
    "display(gd_1.info())\n",
    "display(gd_1.shape)\n",
    "display(gd_1.sample(10))"
   ]
  },
  {
   "cell_type": "code",
   "execution_count": 5,
   "metadata": {
    "trusted": false
   },
   "outputs": [
    {
     "name": "stdout",
     "output_type": "stream",
     "text": [
      "<class 'pandas.core.frame.DataFrame'>\n",
      "RangeIndex: 100000 entries, 0 to 99999\n",
      "Data columns (total 5 columns):\n",
      " #   Column   Non-Null Count   Dtype  \n",
      "---  ------   --------------   -----  \n",
      " 0   id       100000 non-null  object \n",
      " 1   f0       100000 non-null  float64\n",
      " 2   f1       100000 non-null  float64\n",
      " 3   f2       100000 non-null  float64\n",
      " 4   product  100000 non-null  float64\n",
      "dtypes: float64(4), object(1)\n",
      "memory usage: 3.8+ MB\n"
     ]
    },
    {
     "data": {
      "text/plain": [
       "None"
      ]
     },
     "metadata": {},
     "output_type": "display_data"
    },
    {
     "data": {
      "text/plain": [
       "(100000, 5)"
      ]
     },
     "metadata": {},
     "output_type": "display_data"
    },
    {
     "data": {
      "text/html": [
       "<div>\n",
       "<style scoped>\n",
       "    .dataframe tbody tr th:only-of-type {\n",
       "        vertical-align: middle;\n",
       "    }\n",
       "\n",
       "    .dataframe tbody tr th {\n",
       "        vertical-align: top;\n",
       "    }\n",
       "\n",
       "    .dataframe thead th {\n",
       "        text-align: right;\n",
       "    }\n",
       "</style>\n",
       "<table border=\"1\" class=\"dataframe\">\n",
       "  <thead>\n",
       "    <tr style=\"text-align: right;\">\n",
       "      <th></th>\n",
       "      <th>id</th>\n",
       "      <th>f0</th>\n",
       "      <th>f1</th>\n",
       "      <th>f2</th>\n",
       "      <th>product</th>\n",
       "    </tr>\n",
       "  </thead>\n",
       "  <tbody>\n",
       "    <tr>\n",
       "      <th>45802</th>\n",
       "      <td>b8dNM</td>\n",
       "      <td>0.957119</td>\n",
       "      <td>-1.135107</td>\n",
       "      <td>7.478646</td>\n",
       "      <td>130.056189</td>\n",
       "    </tr>\n",
       "    <tr>\n",
       "      <th>26966</th>\n",
       "      <td>pTUfq</td>\n",
       "      <td>-0.733959</td>\n",
       "      <td>1.276891</td>\n",
       "      <td>6.357212</td>\n",
       "      <td>153.717643</td>\n",
       "    </tr>\n",
       "    <tr>\n",
       "      <th>9824</th>\n",
       "      <td>God39</td>\n",
       "      <td>-2.295875</td>\n",
       "      <td>-2.477390</td>\n",
       "      <td>3.752415</td>\n",
       "      <td>33.563408</td>\n",
       "    </tr>\n",
       "    <tr>\n",
       "      <th>48986</th>\n",
       "      <td>CYalD</td>\n",
       "      <td>1.197518</td>\n",
       "      <td>-0.232797</td>\n",
       "      <td>-2.028930</td>\n",
       "      <td>38.754482</td>\n",
       "    </tr>\n",
       "    <tr>\n",
       "      <th>64576</th>\n",
       "      <td>37moJ</td>\n",
       "      <td>-2.627670</td>\n",
       "      <td>-0.460912</td>\n",
       "      <td>-0.278532</td>\n",
       "      <td>101.266048</td>\n",
       "    </tr>\n",
       "    <tr>\n",
       "      <th>14437</th>\n",
       "      <td>zyo0J</td>\n",
       "      <td>-1.003587</td>\n",
       "      <td>-1.761955</td>\n",
       "      <td>3.056210</td>\n",
       "      <td>78.155932</td>\n",
       "    </tr>\n",
       "    <tr>\n",
       "      <th>88713</th>\n",
       "      <td>9hLbn</td>\n",
       "      <td>-1.438696</td>\n",
       "      <td>-0.229112</td>\n",
       "      <td>-0.368589</td>\n",
       "      <td>88.904997</td>\n",
       "    </tr>\n",
       "    <tr>\n",
       "      <th>55784</th>\n",
       "      <td>qSy9l</td>\n",
       "      <td>1.175126</td>\n",
       "      <td>0.727027</td>\n",
       "      <td>5.742154</td>\n",
       "      <td>143.832990</td>\n",
       "    </tr>\n",
       "    <tr>\n",
       "      <th>43403</th>\n",
       "      <td>GltG1</td>\n",
       "      <td>0.562616</td>\n",
       "      <td>2.248483</td>\n",
       "      <td>1.969330</td>\n",
       "      <td>55.175280</td>\n",
       "    </tr>\n",
       "    <tr>\n",
       "      <th>26829</th>\n",
       "      <td>amVTh</td>\n",
       "      <td>1.643551</td>\n",
       "      <td>0.134511</td>\n",
       "      <td>3.400927</td>\n",
       "      <td>30.259202</td>\n",
       "    </tr>\n",
       "  </tbody>\n",
       "</table>\n",
       "</div>"
      ],
      "text/plain": [
       "          id        f0        f1        f2     product\n",
       "45802  b8dNM  0.957119 -1.135107  7.478646  130.056189\n",
       "26966  pTUfq -0.733959  1.276891  6.357212  153.717643\n",
       "9824   God39 -2.295875 -2.477390  3.752415   33.563408\n",
       "48986  CYalD  1.197518 -0.232797 -2.028930   38.754482\n",
       "64576  37moJ -2.627670 -0.460912 -0.278532  101.266048\n",
       "14437  zyo0J -1.003587 -1.761955  3.056210   78.155932\n",
       "88713  9hLbn -1.438696 -0.229112 -0.368589   88.904997\n",
       "55784  qSy9l  1.175126  0.727027  5.742154  143.832990\n",
       "43403  GltG1  0.562616  2.248483  1.969330   55.175280\n",
       "26829  amVTh  1.643551  0.134511  3.400927   30.259202"
      ]
     },
     "metadata": {},
     "output_type": "display_data"
    }
   ],
   "source": [
    "display(gd_2.info())\n",
    "display(gd_2.shape)\n",
    "display(gd_2.sample(10))"
   ]
  },
  {
   "cell_type": "code",
   "execution_count": 6,
   "metadata": {
    "trusted": false
   },
   "outputs": [
    {
     "data": {
      "text/plain": [
       "np.int64(10)"
      ]
     },
     "execution_count": 6,
     "metadata": {},
     "output_type": "execute_result"
    }
   ],
   "source": [
    "gd_0['id'].duplicated().sum()"
   ]
  },
  {
   "cell_type": "code",
   "execution_count": 7,
   "metadata": {
    "trusted": false
   },
   "outputs": [
    {
     "name": "stdout",
     "output_type": "stream",
     "text": [
      "          id        f0        f1         f2     product\n",
      "66136  74z30  1.084962 -0.312358   6.990771  127.643327\n",
      "64022  74z30  0.741456  0.459229   5.153109  140.771492\n",
      "51970  A5aEY -0.180335  0.935548  -2.094773   33.020205\n",
      "3389   A5aEY -0.039949  0.156872   0.209861   89.249364\n",
      "69163  AGS9W -0.933795  0.116194  -3.655896   19.230453\n",
      "42529  AGS9W  1.454747 -0.479651   0.683380  126.370504\n",
      "931    HZww2  0.755284  0.368511   1.863211   30.681774\n",
      "7530   HZww2  1.061194 -0.373969  10.430210  158.828695\n",
      "63593  QcMuo  0.635635 -0.473422   0.862670   64.578675\n",
      "1949   QcMuo  0.506563 -0.323775  -2.215583   75.496502\n",
      "75715  Tdehs  0.112079  0.430296   3.218993   60.964018\n",
      "21426  Tdehs  0.829407  0.298807  -0.049563   96.035308\n",
      "92341  TtcGQ  0.110711  1.022689   0.911381  101.318008\n",
      "60140  TtcGQ  0.569276 -0.104876   6.440215   85.350186\n",
      "89582  bsk9y  0.398908 -0.400253  10.122376  163.433078\n",
      "97785  bsk9y  0.378429  0.005837   0.160827  160.637302\n",
      "41724  bxg6G -0.823752  0.546319   3.630479   93.007798\n",
      "1364   bxg6G  0.411645  0.856830  -3.653440   73.604260\n",
      "16633  fiKDv  0.157341  1.028359   5.585586   95.817889\n",
      "90815  fiKDv  0.049883  0.841313   6.394613  137.346586\n"
     ]
    }
   ],
   "source": [
    "duplicate_ids = gd_0[gd_0.duplicated(subset=['id'], keep=False)]\n",
    "print(duplicate_ids.sort_values(by='id'))"
   ]
  },
  {
   "cell_type": "code",
   "execution_count": 8,
   "metadata": {
    "trusted": false
   },
   "outputs": [
    {
     "data": {
      "text/plain": [
       "np.int64(4)"
      ]
     },
     "execution_count": 8,
     "metadata": {},
     "output_type": "execute_result"
    }
   ],
   "source": [
    "gd_1['id'].duplicated().sum()"
   ]
  },
  {
   "cell_type": "code",
   "execution_count": 9,
   "metadata": {
    "trusted": false
   },
   "outputs": [
    {
     "name": "stdout",
     "output_type": "stream",
     "text": [
      "          id         f0         f1        f2     product\n",
      "5849   5ltQ6  -3.435401 -12.296043  1.999796   57.085625\n",
      "84461  5ltQ6  18.213839   2.191999  3.993869  107.813044\n",
      "1305   LHZR0  11.170835  -1.945066  3.002872   80.859783\n",
      "41906  LHZR0  -8.989672  -4.286607  2.009139   57.085625\n",
      "2721   bfPNe  -9.494442  -5.463692  4.006042  110.992147\n",
      "82178  bfPNe  -6.202799  -4.820045  2.995107   84.038886\n",
      "47591  wt4Uk  -9.091098  -8.109279 -0.002314    3.179103\n",
      "82873  wt4Uk  10.259972  -9.376355  4.994297  134.766305\n"
     ]
    }
   ],
   "source": [
    "duplicate_ids = gd_1[gd_1.duplicated(subset=['id'], keep=False)]\n",
    "print(duplicate_ids.sort_values(by='id'))"
   ]
  },
  {
   "cell_type": "code",
   "execution_count": 10,
   "metadata": {
    "trusted": false
   },
   "outputs": [
    {
     "data": {
      "text/plain": [
       "np.int64(4)"
      ]
     },
     "execution_count": 10,
     "metadata": {},
     "output_type": "execute_result"
    }
   ],
   "source": [
    "gd_2['id'].duplicated().sum()"
   ]
  },
  {
   "cell_type": "code",
   "execution_count": 11,
   "metadata": {
    "trusted": false
   },
   "outputs": [
    {
     "name": "stdout",
     "output_type": "stream",
     "text": [
      "          id        f0        f1        f2     product\n",
      "45404  KUPhW  0.231846 -1.698941  4.990775   11.716299\n",
      "55967  KUPhW  1.211150  3.176408  5.543540  132.831802\n",
      "11449  VF7Jo  2.122656 -0.858275  5.746001  181.716817\n",
      "49564  VF7Jo -0.883115  0.560537  0.723601  136.233420\n",
      "44378  Vcm5J -1.229484 -2.439204  1.222909  137.968290\n",
      "95090  Vcm5J  2.587702  1.986875  2.482245   92.327572\n",
      "28039  xCHr8  1.633027  0.368135 -2.378367    6.120525\n",
      "43233  xCHr8 -0.847066  2.101796  5.597130  184.388641\n"
     ]
    }
   ],
   "source": [
    "duplicate_ids = gd_2[gd_2.duplicated(subset=['id'], keep=False)]\n",
    "print(duplicate_ids.sort_values(by='id'))"
   ]
  },
  {
   "cell_type": "markdown",
   "metadata": {},
   "source": [
    "In this step, I checked the shape, datatypes, and a sample of each dataset. I can see there are no missing entries after calling info on each dataset. I checked for duplicates and though there appears to be a number of duplicate IDs in each dataset, their corresponding f0, f1, f2, and product values are different. These could be distinct obbservations, therefore, I didn't want to do anything to remove them from the dataset."
   ]
  },
  {
   "cell_type": "markdown",
   "metadata": {},
   "source": [
    "## Step 2\n",
    "Train and test the model for each region\n",
    "\n",
    "Each dataset will be split into the training and validation sets at a 75:25 ratio. In this portion, I will calculate the average volume of predicted reserves and model RMSE."
   ]
  },
  {
   "cell_type": "code",
   "execution_count": 12,
   "metadata": {
    "trusted": false
   },
   "outputs": [
    {
     "name": "stdout",
     "output_type": "stream",
     "text": [
      "RMSE of the Linear Regression Model on the gd_0 validation set: 37.5794217150813\n",
      "Average Predicted Reserves: 92.59256778438035\n"
     ]
    }
   ],
   "source": [
    "# extract the features and the target\n",
    "gd_0_features = gd_0.drop(['product', 'id'], axis=1)\n",
    "gd_0_target = gd_0['product']\n",
    "\n",
    "gd_0_features_train, gd_0_features_valid, gd_0_target_train, gd_0_target_valid = train_test_split(\n",
    "    gd_0_features, gd_0_target, test_size=0.25, random_state=12345) # split 25% of data to make validation set\n",
    "\n",
    "gd_0_model = LinearRegression()\n",
    "gd_0_model.fit(gd_0_features_train, gd_0_target_train)\n",
    "gd_0_predictions_valid = gd_0_model.predict(gd_0_features_valid)\n",
    "\n",
    "gd_0_result = mean_squared_error(gd_0_target_valid, gd_0_predictions_valid) **0.5\n",
    "print(\"RMSE of the Linear Regression Model on the gd_0 validation set:\", gd_0_result)\n",
    "avg_pred_gd_0 = gd_0_predictions_valid.mean()\n",
    "print(\"Average Predicted Reserves:\", avg_pred_gd_0)\n",
    "\n",
    "\n",
    "\n"
   ]
  },
  {
   "cell_type": "code",
   "execution_count": 13,
   "metadata": {
    "trusted": false
   },
   "outputs": [
    {
     "name": "stdout",
     "output_type": "stream",
     "text": [
      "RMSE of the Linear Regression Model on the gd_1 validation set: 0.893099286775617\n",
      "Average Predicted Reserves: 68.728546895446\n"
     ]
    }
   ],
   "source": [
    "# extract the features and the target\n",
    "gd_1_features = gd_1.drop(['product', 'id'], axis=1)\n",
    "gd_1_target = gd_1['product']\n",
    "\n",
    "gd_1_features_train, gd_1_features_valid, gd_1_target_train, gd_1_target_valid = train_test_split(\n",
    "    gd_1_features, gd_1_target, test_size=0.25, random_state=12345) # split 25% of data to make validation set\n",
    "\n",
    "gd_1_model = LinearRegression()\n",
    "gd_1_model.fit(gd_1_features_train, gd_1_target_train)\n",
    "gd_1_predictions_valid = gd_1_model.predict(gd_1_features_valid)\n",
    "\n",
    "gd_1_result = mean_squared_error(gd_1_target_valid, gd_1_predictions_valid) **0.5\n",
    "print(\"RMSE of the Linear Regression Model on the gd_1 validation set:\", gd_1_result)\n",
    "avg_pred_gd_1 = gd_1_predictions_valid.mean()\n",
    "print(\"Average Predicted Reserves:\", avg_pred_gd_1)"
   ]
  },
  {
   "cell_type": "code",
   "execution_count": 14,
   "metadata": {
    "trusted": false
   },
   "outputs": [
    {
     "name": "stdout",
     "output_type": "stream",
     "text": [
      "RMSE of the Linear Regression Model on the gd_2 validation set: 40.02970873393434\n",
      "Average Predicted Reserves: 94.96504596800489\n"
     ]
    }
   ],
   "source": [
    "# extract the features and the target\n",
    "gd_2_features = gd_2.drop(['product', 'id'], axis=1)\n",
    "gd_2_target = gd_2['product']\n",
    "\n",
    "gd_2_features_train, gd_2_features_valid, gd_2_target_train, gd_2_target_valid = train_test_split(\n",
    "    gd_2_features, gd_2_target, test_size=0.25, random_state=12345) # split 25% of data to make validation set\n",
    "\n",
    "gd_2_model = LinearRegression()\n",
    "gd_2_model.fit(gd_2_features_train, gd_2_target_train)\n",
    "gd_2_predictions_valid = gd_2_model.predict(gd_2_features_valid)\n",
    "\n",
    "gd_2_result = mean_squared_error(gd_2_target_valid, gd_2_predictions_valid) **0.5\n",
    "print(\"RMSE of the Linear Regression Model on the gd_2 validation set:\", gd_2_result)\n",
    "avg_pred_gd_2 = gd_2_predictions_valid.mean()\n",
    "print(\"Average Predicted Reserves:\", avg_pred_gd_2)"
   ]
  },
  {
   "cell_type": "markdown",
   "metadata": {},
   "source": [
    "On average, Region 0 has the second highest amount of predicted reserves. It's RMSE reveals it's, on average, around 37 thousand barrels off from the actual reserves. Region 1 has the lowest amount of predicted reserves, but also the lowest RMSE. Region 2 has the highest amount of predicted reserves, but also the highest RMSE."
   ]
  },
  {
   "cell_type": "code",
   "execution_count": 15,
   "metadata": {
    "trusted": false
   },
   "outputs": [
    {
     "name": "stdout",
     "output_type": "stream",
     "text": [
      "Actual Mean Reserves - gd_0: 92.50000000000001\n",
      "Actual Mean Reserves - gd_1: 68.82500000000002\n",
      "Actual Mean Reserves - gd_2: 95.00000000000004\n"
     ]
    }
   ],
   "source": [
    "actual_mean_gd_0 = gd_0['product'].mean()\n",
    "actual_mean_gd_1 = gd_1['product'].mean()\n",
    "actual_mean_gd_2 = gd_2['product'].mean()\n",
    "\n",
    "print(f\"Actual Mean Reserves - gd_0: {actual_mean_gd_0}\")\n",
    "print(f\"Actual Mean Reserves - gd_1: {actual_mean_gd_1}\")\n",
    "print(f\"Actual Mean Reserves - gd_2: {actual_mean_gd_2}\")"
   ]
  },
  {
   "cell_type": "markdown",
   "metadata": {},
   "source": [
    "#### Step 3\n",
    "Prepare for profit calculation"
   ]
  },
  {
   "cell_type": "code",
   "execution_count": 16,
   "metadata": {
    "trusted": false
   },
   "outputs": [
    {
     "name": "stdout",
     "output_type": "stream",
     "text": [
      "Cost of developing one well (USD): 500000.0\n"
     ]
    }
   ],
   "source": [
    "# store all key values for calculation in separate values\n",
    "budget = 100_000_000 # 100 million usd\n",
    "wells = 200 # number of wells for development\n",
    "barrel_rev = 4500 # 4500 per 1000 barrels, in usd\n",
    "\n",
    "cost_per_well = budget/wells\n",
    "\n",
    "print(\"Cost of developing one well (USD):\", cost_per_well)"
   ]
  },
  {
   "cell_type": "markdown",
   "metadata": {},
   "source": [
    "Calculate the volume of reserves sufficient for developing a new well without lossess. Compare the obtained value with the average volume of reserves in each region."
   ]
  },
  {
   "cell_type": "code",
   "execution_count": 17,
   "metadata": {
    "trusted": false
   },
   "outputs": [
    {
     "name": "stdout",
     "output_type": "stream",
     "text": [
      "Minimum reserves per well needed: 111.11111111111111\n"
     ]
    }
   ],
   "source": [
    "min_reserves_needed = cost_per_well/barrel_rev\n",
    "print(\"Minimum reserves per well needed:\", min_reserves_needed)"
   ]
  },
  {
   "cell_type": "code",
   "execution_count": 18,
   "metadata": {
    "trusted": false
   },
   "outputs": [
    {
     "name": "stdout",
     "output_type": "stream",
     "text": [
      "Region 0: Average predicted reserves = 92.59 thousand barrels\n",
      "Region 0 does NOT meet the break-even requirement.\n",
      "\n",
      "Region 1: Average predicted reserves = 68.73 thousand barrels\n",
      "Region 1 does NOT meet the break-even requirement.\n",
      "\n",
      "Region 2: Average predicted reserves = 94.97 thousand barrels\n",
      "Region 2 does NOT meet the break-even requirement.\n",
      "\n"
     ]
    }
   ],
   "source": [
    "# Compare break-even volume with average reserves in each region\n",
    "regions_avg_reserves = [avg_pred_gd_0, avg_pred_gd_1, avg_pred_gd_2]\n",
    "\n",
    "for i, avg_reserves in enumerate(regions_avg_reserves):\n",
    "    print(f\"Region {i}: Average predicted reserves = {avg_reserves:.2f} thousand barrels\")\n",
    "    if avg_reserves >= min_reserves_needed:\n",
    "        print(f\"Region {i} meets the break-even requirement.\\n\")\n",
    "    else:\n",
    "        print(f\"Region {i} does NOT meet the break-even requirement.\\n\")"
   ]
  },
  {
   "cell_type": "markdown",
   "metadata": {},
   "source": [
    "Each region is performing under the amount of reserves necessary for profit."
   ]
  },
  {
   "cell_type": "markdown",
   "metadata": {},
   "source": [
    "#### Step 4\n",
    "Write a function to calculate profit from a set of selected oil wells and model predictions."
   ]
  },
  {
   "cell_type": "code",
   "execution_count": 19,
   "metadata": {
    "trusted": false
   },
   "outputs": [],
   "source": [
    "gd_0_predictions_valid = pd.Series(gd_0_predictions_valid).reset_index(drop=True)\n",
    "gd_1_predictions_valid = pd.Series(gd_1_predictions_valid).reset_index(drop=True)\n",
    "gd_2_predictions_valid = pd.Series(gd_2_predictions_valid).reset_index(drop=True)\n",
    "\n",
    "gd_0_target_valid = gd_0_target_valid.reset_index(drop=True)\n",
    "gd_1_target_valid = gd_1_target_valid.reset_index(drop=True)\n",
    "gd_2_target_valid = gd_2_target_valid.reset_index(drop=True)"
   ]
  },
  {
   "cell_type": "code",
   "execution_count": 20,
   "metadata": {
    "trusted": false
   },
   "outputs": [],
   "source": [
    "budget = 1000000\n",
    "cost_point = 5000\n",
    "points_budget = budget // cost_point\n",
    "product_price = 45\n",
    "\n",
    "def profit(target, predictions):\n",
    "    predictions_sorted = predictions.sort_values(ascending=False)\n",
    "    selected_points = target[predictions_sorted.index][:points_budget]\n",
    "    product = selected_points.sum()\n",
    "    revenue = product * product_price\n",
    "    cost = budget\n",
    "    return revenue - cost"
   ]
  },
  {
   "cell_type": "code",
   "execution_count": 21,
   "metadata": {
    "trusted": false
   },
   "outputs": [
    {
     "name": "stdout",
     "output_type": "stream",
     "text": [
      "Region 0 Profit: 332082.604313985\n",
      "Region_1 Profit: 241508.66966815107\n",
      "Region_2 Profit: 271034.9963599832\n",
      "The best region for oil wells' development is Region 0 with a profit of 332082.60 USD.\n"
     ]
    }
   ],
   "source": [
    "# Calculate profits for each region\n",
    "region_profit_0 = profit(target=gd_0_target_valid, predictions=gd_0_predictions_valid)\n",
    "region_profit_1 = profit(target=gd_1_target_valid, predictions=gd_1_predictions_valid)\n",
    "region_profit_2 = profit(target=gd_2_target_valid, predictions=gd_2_predictions_valid)\n",
    "\n",
    "print(f\"Region 0 Profit:\", region_profit_0)\n",
    "print(f\"Region_1 Profit:\", region_profit_1)\n",
    "print(f\"Region_2 Profit:\", region_profit_2)\n",
    "\n",
    "# Store the region profits\n",
    "region_profits = {\n",
    "    'Region 0': region_profit_0,\n",
    "    'Region 1': region_profit_1,\n",
    "    'Region 2': region_profit_2\n",
    "}\n",
    "\n",
    "# Find the region with the highest profit\n",
    "best_region = max(region_profits, key=region_profits.get)\n",
    "best_profit = region_profits[best_region]\n",
    "\n",
    "print(f\"The best region for oil wells' development is {best_region} with a profit of {best_profit:.2f} USD.\")"
   ]
  },
  {
   "cell_type": "markdown",
   "metadata": {},
   "source": [
    "#### Step 5\n",
    "Calculate risks and profit for each region:"
   ]
  },
  {
   "cell_type": "code",
   "execution_count": 22,
   "metadata": {
    "trusted": false
   },
   "outputs": [
    {
     "name": "stdout",
     "output_type": "stream",
     "text": [
      "Mean profit = 40884.03060788564 for region  0\n",
      "95% confidence interval: (np.float64(-12175.927995071554), np.float64(92761.9110715063))\n",
      "Risk of losses = 6.6000000000000005 %\n"
     ]
    }
   ],
   "source": [
    "target = gd_0_target_valid\n",
    "predictions = gd_0_predictions_valid\n",
    "region = 0\n",
    "sample_size = 500\n",
    "boostrap_size = 1000\n",
    "state = np.random.RandomState(42)\n",
    "profit_values = []\n",
    "for i in range(boostrap_size):\n",
    "    target_sample = target.sample(sample_size, replace=True, random_state=state)\n",
    "    predictions_sample = predictions[target_sample.index]\n",
    "    profit_values.append(profit(target_sample, predictions_sample))\n",
    "profit_values = pd.Series(profit_values)\n",
    "        \n",
    "mean_profit = profit_values.mean()\n",
    "confidence_interval = (profit_values.quantile(0.025), profit_values.quantile(0.975))\n",
    "negative_profit_chance = (profit_values < 0).mean()\n",
    "\n",
    "print(\"Mean profit =\", mean_profit, \"for region \", region)\n",
    "print(\"95% confidence interval:\", confidence_interval)\n",
    "print(\"Risk of losses =\", negative_profit_chance * 100, \"%\")"
   ]
  },
  {
   "cell_type": "code",
   "execution_count": 23,
   "metadata": {
    "trusted": false
   },
   "outputs": [
    {
     "data": {
      "application/vnd.plotly.v1+json": {
       "config": {
        "plotlyServerURL": "https://plot.ly"
       },
       "data": [
        {
         "alignmentgroup": "True",
         "bingroup": "x",
         "hovertemplate": "Profit=%{x}<br>count=%{y}<extra></extra>",
         "legendgroup": "",
         "marker": {
          "color": "#636efa",
          "pattern": {
           "shape": ""
          }
         },
         "name": "",
         "nbinsx": 30,
         "offsetgroup": "",
         "orientation": "v",
         "showlegend": false,
         "type": "histogram",
         "x": [
          74505.27566242847,
          1016.2526290258393,
          28368.746848313138,
          19255.62428659969,
          97886.73705065483,
          1357.1151974541135,
          -12662.20584634028,
          61708.53413087549,
          34231.73060016846,
          26109.27148210432,
          30282.20907808363,
          92758.2516755187,
          76809.81617884175,
          49959.39096219465,
          32019.576845058124,
          33716.79134876118,
          32345.85938083986,
          41913.084834826994,
          32460.426856363774,
          63720.40613432252,
          40341.6766520713,
          64725.15418014163,
          9560.83049924986,
          58122.73770201276,
          46794.33780389046,
          20044.845997998025,
          75324.49030959746,
          91878.27357338881,
          9815.287668919773,
          63677.709336712025,
          15365.76225230738,
          11372.511834880104,
          4468.880613307119,
          51851.14806937985,
          44166.9884381654,
          39645.195518402965,
          23121.547143916134,
          3062.0730766904308,
          27816.637551777763,
          29331.129259251757,
          101967.67323470651,
          43744.73893920833,
          271.6575639821822,
          69169.845735949,
          48349.60848318541,
          34161.04588484112,
          17406.414344919263,
          13034.7273028614,
          62107.355832549976,
          59146.02849641419,
          50304.855568887666,
          40403.50576012011,
          48438.30427338625,
          64165.022409123136,
          54932.237641527085,
          9811.613721958012,
          77189.3951781462,
          37935.50488141738,
          34016.535381744616,
          70614.37700745091,
          69176.9144661338,
          64006.386311186245,
          63769.343241609866,
          94882.7522506041,
          34508.18390554085,
          48811.07245955733,
          37125.58665140055,
          36006.73819562781,
          -32900.86848995893,
          20058.473619207274,
          76282.36753760441,
          19464.635481963167,
          66574.20415573823,
          26352.683696228196,
          30382.611511402065,
          1990.2618644171162,
          47811.95444782055,
          40055.77431130363,
          63145.281833472196,
          31082.3940733294,
          20125.464036956662,
          70606.75618342985,
          28223.81631878554,
          96993.01118863211,
          16738.139593477827,
          38381.59139254864,
          59953.527896664105,
          52773.2502353529,
          24523.61566079012,
          24910.198212437448,
          36597.0239953798,
          17539.6663173103,
          60402.824436829425,
          17916.27875263756,
          76246.91044048336,
          77621.20929152006,
          17081.104621964972,
          51161.94939640025,
          54145.368160072016,
          53899.877701255726,
          -32029.320252056583,
          37221.586259284406,
          33254.86757635535,
          77868.75426271372,
          70710.34856441477,
          60042.25824279105,
          31309.044031570316,
          37467.483597468585,
          34465.23426624469,
          128387.19197025266,
          24244.788231992046,
          32741.48928590014,
          89118.21710622404,
          26034.182374916156,
          45723.19274937094,
          43223.58331346989,
          83448.48247123533,
          46686.74712734553,
          55026.149040022865,
          16562.288297493127,
          47105.71713506745,
          17519.282077976386,
          67821.56173583213,
          92904.62751502311,
          20040.708317944198,
          62375.58269462804,
          77154.79065862531,
          36368.29657764593,
          40102.25624356151,
          63400.766820390476,
          37513.24027793354,
          40869.082657598075,
          59936.93419201183,
          46424.38136878796,
          13764.145536165684,
          31449.52943329909,
          58259.15053586732,
          29613.93765618,
          30105.47039162251,
          7439.5637767344015,
          41692.20627571794,
          21333.053814005107,
          51196.85325261252,
          42183.84891192964,
          37305.94974761619,
          45157.54050301097,
          42472.267357690725,
          41906.49347726186,
          30275.49248326244,
          60464.54145135381,
          45488.3710972328,
          43113.20351062436,
          64086.456217950676,
          -5891.7112493212335,
          59172.260705092456,
          49733.596266500885,
          21259.46997470979,
          30622.65633499052,
          36768.6696335068,
          28846.812100931536,
          56496.70601638919,
          68402.97279689088,
          61538.9217609372,
          32494.50639166741,
          18938.61464318214,
          51605.75693755993,
          87287.03522178228,
          46208.16646534577,
          16564.788883575122,
          25259.485584679176,
          44171.90333614417,
          78030.47933040233,
          60590.487656219164,
          27026.383660492254,
          28893.7640676836,
          79984.83300125017,
          17417.893998825457,
          63140.302759095095,
          70853.02497390052,
          46232.4172040167,
          48040.475998499314,
          61462.27396073751,
          76526.83735651732,
          34204.8670417089,
          31903.877450218308,
          63681.45347894961,
          61986.01017524209,
          21303.484946932527,
          64659.79621530953,
          -11086.357016345486,
          82689.84109777352,
          33112.004629683914,
          54514.27886720002,
          22808.269539644476,
          16938.72779874329,
          41958.876887137536,
          48400.87414908828,
          -5484.884934264468,
          -3119.1962221249705,
          20702.07092789386,
          9316.45503956452,
          26089.218301987974,
          46249.92245685612,
          27524.19963400613,
          98463.07074093702,
          -27186.017156781396,
          36844.1854022264,
          26264.26208419958,
          44837.10216078069,
          71235.34348563873,
          21135.728843126446,
          41541.99833830714,
          56804.53455547849,
          71481.8442612032,
          28014.509963542572,
          -3942.385833206936,
          63202.069018299924,
          31437.05960768182,
          -6756.824154447066,
          28768.829049629392,
          54840.89711030433,
          21877.720505465986,
          52354.468138109194,
          26870.776236420148,
          43984.71186588588,
          83128.0036506441,
          44533.80289120949,
          31247.670011281734,
          17772.40128030791,
          19690.855431959848,
          63370.23128566588,
          55960.0565205873,
          47454.35891944042,
          36889.48499325535,
          44888.44634620845,
          74662.26002864027,
          39897.73109710915,
          34476.80327338539,
          -15068.588754382683,
          10577.432600572123,
          59350.552973514656,
          -9086.636233444791,
          37312.18248379871,
          15692.76153418643,
          41564.473980488605,
          125975.3650320291,
          62639.64068292803,
          81227.58359070797,
          20613.927257070434,
          47999.29359430121,
          74453.62837633886,
          42087.82488310058,
          63132.03957851906,
          43547.369324734085,
          26010.030827306095,
          48924.809196948074,
          72154.7284575156,
          26770.550566958962,
          101022.81708118343,
          98185.29151350213,
          42138.53048091475,
          46514.90761987481,
          68211.29749896075,
          36654.38408824208,
          40282.99990800873,
          46803.915130620706,
          84096.12236180971,
          59847.435615392635,
          48009.42745924357,
          52057.9888442792,
          17999.101325579803,
          37289.47541490663,
          -5670.460546202958,
          58092.15887657227,
          23623.678067942383,
          61341.58339373628,
          30640.642219194793,
          31992.84393007832,
          25638.962273282,
          31741.100219964515,
          63847.32012360077,
          47820.751180023886,
          67608.95960785449,
          59662.608232070925,
          54910.463782036444,
          -6047.726948435069,
          41061.99859963462,
          33401.04731025838,
          60939.61279844609,
          53283.6921850394,
          6946.076149865985,
          53626.05787342391,
          83069.72682451736,
          78878.7305759769,
          11860.854309758637,
          33005.10956352623,
          3713.632449318189,
          95685.12477828702,
          56690.030811580364,
          51614.9899963995,
          9164.652445516898,
          40814.61064907175,
          -21406.046022736933,
          90751.20423814282,
          39896.578330847784,
          47891.97988399037,
          86695.58347176085,
          41138.05470856908,
          1457.4469978457782,
          17601.473674082546,
          -6469.930727756349,
          56876.30919887731,
          46955.699529458885,
          35444.630366563215,
          43858.87061382388,
          22184.109507587156,
          43736.3662287991,
          42309.96770387166,
          48299.76228358166,
          36260.487225904944,
          39496.823286450235,
          82678.47373328405,
          41244.46806256811,
          37561.62889059074,
          46461.08571280027,
          -8190.802799292258,
          45785.767773550004,
          45647.31165403838,
          61909.3099238351,
          65733.77071556053,
          686.7839666139334,
          70088.14163902006,
          43572.78744899854,
          54822.7472286853,
          66188.83483604365,
          75964.21507451148,
          52583.12085555983,
          38175.549440656905,
          44853.274749898585,
          43948.161249981495,
          -1697.3953289050842,
          53207.88985130284,
          34971.87464477494,
          -7067.464550930774,
          33027.15412406076,
          -29028.456768864417,
          47825.73095327476,
          10361.128431934514,
          8225.650938106235,
          48980.92704502563,
          26952.254228391568,
          69691.37146947253,
          13231.046965663903,
          41909.521321180626,
          81022.99384296942,
          42961.67027251923,
          5055.598879568046,
          68721.03488086327,
          39583.3144410433,
          77302.06578252953,
          15350.117966104532,
          76312.88080310542,
          8038.006977880956,
          25428.452074014465,
          51488.69823801983,
          -25766.449776302907,
          67220.92443995271,
          44335.065917168045,
          23519.22790686786,
          -11520.533623731113,
          30838.293919996708,
          59987.09766297531,
          69241.96654568799,
          16533.4859400657,
          -6165.150513159926,
          52557.815497287316,
          -23080.622321941657,
          33204.98666096665,
          11306.407948177424,
          71190.14541567676,
          5199.801887172973,
          39117.26992573554,
          53813.98474463471,
          81800.40266751708,
          4985.509371488937,
          29768.263736643246,
          84206.74981401535,
          11288.705518720904,
          78597.7524596476,
          16757.718969167443,
          48842.85483693471,
          43840.029311874416,
          82854.20932252193,
          8458.172741891933,
          31588.760161072016,
          16982.27375166386,
          75606.69014334423,
          60655.28448773199,
          49469.233061292674,
          86012.88236206234,
          41986.66067415383,
          56295.26401826786,
          73368.85996871442,
          32307.369916886324,
          45555.030888444395,
          81397.45060305367,
          -4414.193899710313,
          14470.788701310637,
          71913.61981165432,
          7303.9430859979475,
          47976.899404791184,
          -8734.741263003321,
          1224.6473843327258,
          26947.27539613878,
          -4225.459053614177,
          81910.78678314574,
          21932.48013607366,
          38851.16609208123,
          17998.542488752282,
          46535.57478566584,
          5627.249704157235,
          23966.555519819492,
          15699.588281294913,
          16911.557734524948,
          9942.79142860719,
          33578.192749003065,
          33195.13892046886,
          33322.19385092135,
          42246.134646262624,
          50734.557605151786,
          40189.40806300042,
          51143.69290632731,
          67140.00375723606,
          34966.08163852303,
          62654.02987030451,
          62150.85871554958,
          40088.15188128932,
          19133.712343425956,
          47635.92659232253,
          65320.51184835122,
          66937.88166007306,
          59392.115955178626,
          70114.62116321991,
          27115.046876010718,
          33500.35180466727,
          72645.81317022722,
          27014.10048182169,
          45267.49245347059,
          24076.93497196969,
          53906.88148107799,
          45664.40057114605,
          68437.06035167398,
          -735.2768600386335,
          52721.457236844115,
          75939.09974812018,
          14892.520771457115,
          7719.50774582359,
          13103.020582144381,
          83422.81608445244,
          53471.56133851828,
          55074.23645022046,
          22324.214533953695,
          51339.36758707184,
          29107.827157746768,
          54145.93454601453,
          6813.897836414748,
          31590.375193993677,
          71908.07012987649,
          38146.63651842589,
          56930.63358962559,
          19838.613593969378,
          61820.714971984504,
          15006.052697075997,
          39346.06790916482,
          35928.124187498586,
          38774.558911296655,
          79583.00871421676,
          13938.453396593453,
          29397.143076694105,
          36218.14005307527,
          -443.77565441676416,
          79769.61389542557,
          25402.520142772584,
          9067.333601759863,
          -10798.620335984859,
          52568.25629655435,
          11070.784564035013,
          69296.17650847393,
          17957.73136319255,
          37169.857341331895,
          62302.72156698536,
          33379.36752639222,
          83756.52545043756,
          9454.703051375924,
          58541.55641649477,
          21143.758881992195,
          30768.810563576408,
          69929.37980803568,
          70653.42007361958,
          55990.304730100324,
          59375.14891963126,
          40650.96527972934,
          11917.601332200808,
          19155.013290936593,
          77680.09303975734,
          19957.285831130575,
          22996.047831793316,
          65134.29299942963,
          33593.36418114696,
          38829.145227282424,
          19455.558687951183,
          31747.53419064416,
          67313.88475692249,
          70193.4213595083,
          74257.00054165674,
          50527.03947935207,
          61552.96757488954,
          729.0996603906387,
          81022.67015014356,
          45934.91412071814,
          36928.79233411839,
          13022.430061404477,
          36013.22084146459,
          81208.27390699717,
          64649.37204281497,
          39101.46971720795,
          4490.545902413898,
          42530.925051985425,
          15454.287959785666,
          10512.85707780614,
          78113.90454389714,
          25570.047127954895,
          55173.53361366829,
          -26085.542786562582,
          67711.78145260527,
          57421.21504537179,
          70017.45504923398,
          68428.351495679,
          32269.842961192247,
          27980.70652968157,
          32843.88129620557,
          2444.9396804765565,
          35445.02041843999,
          62380.26798560633,
          21934.437801508233,
          51056.37758709281,
          -6514.106023035012,
          41811.597286843346,
          69328.8636139317,
          47581.76515637303,
          39530.566904232255,
          24425.2069547266,
          21451.983702373924,
          78244.81864037155,
          32599.509617969394,
          20078.688197253854,
          19608.60738868802,
          34888.806136922096,
          8016.250616824371,
          66768.66452910728,
          28653.846815925557,
          62564.289111808175,
          22182.805531293154,
          26547.888105125166,
          32951.95605813002,
          17207.806757842423,
          29341.89424097864,
          15343.3987506876,
          64899.48287571175,
          8188.854312792537,
          -33207.792515104986,
          25431.93472302251,
          50216.88400843134,
          71872.25138223474,
          49850.85350123444,
          -31803.84631093056,
          66449.73526795325,
          62105.0392527997,
          -2439.1797860912047,
          -5682.629363635206,
          16263.576995283132,
          20589.37362743693,
          49639.610924911685,
          15738.910500836559,
          32608.265193629777,
          58907.01151356986,
          15715.401684922166,
          69853.1611558441,
          12278.002260852372,
          34151.72880163428,
          13541.526204178575,
          30076.914812216535,
          1821.245021215058,
          39954.72669155791,
          44066.96127706801,
          95916.97256174381,
          83954.14957176615,
          26620.097951219883,
          74666.33104142966,
          42665.06336443685,
          71446.581988947,
          36617.98650705069,
          -17577.075285916682,
          55409.60572211305,
          81634.88788995566,
          31204.760854960303,
          23295.591462096665,
          3533.2275742514757,
          58768.70429795841,
          34294.320576830185,
          65295.864219018025,
          50933.3245037992,
          -14105.595762701822,
          74466.77145565278,
          36459.6033801873,
          74625.3924983493,
          83661.2390729026,
          91522.10397600126,
          -15118.896899540792,
          86859.97345052776,
          16250.57672259619,
          26507.53862595884,
          32287.407015795936,
          86361.75912198494,
          29761.010652335943,
          8750.368846696336,
          43488.80479160207,
          4796.633366628783,
          31283.993498463416,
          -6035.972689120215,
          57944.684081082465,
          53438.355388823664,
          27598.90374604438,
          16640.58739228046,
          196.88627458224073,
          37179.413702008314,
          65677.86719029397,
          36976.322951257345,
          60234.022953971755,
          47662.06494593981,
          72036.85543041816,
          60798.2339449774,
          20048.062046185834,
          28710.029004842858,
          1266.7556972526945,
          67577.771767064,
          97096.5890253575,
          28808.45880828856,
          49283.50462267245,
          25658.947767445818,
          61959.72430687072,
          16403.154295564513,
          103165.48838577443,
          23745.20372487523,
          43205.92681490199,
          18424.917321910034,
          57804.2159005506,
          62017.30001204414,
          57287.6055430898,
          57024.27285910142,
          57980.84367865976,
          80711.06715732324,
          23830.514207586646,
          49605.961968615884,
          72918.14134511445,
          32258.519996616174,
          95864.5815216077,
          38843.74912411405,
          -16655.591471439577,
          -998.3484288179316,
          72710.5839185894,
          65802.88823958603,
          53588.94406176731,
          14902.196176130907,
          16706.818493257975,
          46039.76086096931,
          -7299.331781344023,
          -4593.152118347236,
          76953.29154124064,
          56804.56565579283,
          75268.94575013104,
          30941.085280434694,
          34944.11761134013,
          101624.41139422846,
          25989.9286008348,
          5869.406510999659,
          99503.22046136647,
          86491.38328091172,
          25666.542375236633,
          48555.8896109059,
          48181.797334824805,
          70771.93212994235,
          43752.80635270639,
          28299.466980489087,
          51161.433966051554,
          55970.75976841827,
          15164.44927741692,
          37434.69977167749,
          25768.47455719195,
          54694.12763633649,
          13559.810100759147,
          39792.53748727287,
          38372.18966082926,
          117206.60602316447,
          34670.70588642801,
          -14435.227115844376,
          59249.315194411436,
          93092.01699819788,
          43224.44818728941,
          48210.02239983913,
          34724.82256067963,
          19671.97557613568,
          19456.82303614542,
          -7225.048430992174,
          41460.068033986376,
          45703.97395790508,
          11862.14371377509,
          38489.20764139993,
          50730.53970450722,
          67073.00470727775,
          74268.36109205382,
          22010.344292477705,
          54308.175456374185,
          -20851.113506781054,
          27247.05207863485,
          71185.00125636393,
          22864.309931496857,
          85998.40851693694,
          56895.061561604496,
          46520.653714594315,
          14818.63613069104,
          57525.61972338124,
          16450.274773362326,
          24924.682513985666,
          38927.38450705062,
          38389.46709942864,
          41911.68981565221,
          45434.802001506556,
          57615.53497671429,
          68599.31578457751,
          31570.02524579107,
          51140.45111285569,
          -8504.933958237409,
          27158.91718572122,
          39335.03561383509,
          67092.84441618924,
          4618.6584838537965,
          67004.87601084099,
          46719.50614017341,
          -8048.998674742761,
          36949.9164653226,
          15257.047291487223,
          66190.575552898,
          29347.21108016267,
          53425.32472073729,
          24042.552940939902,
          70450.41706063435,
          48815.044984770706,
          60166.14389869827,
          -379.01139434205834,
          44342.590128504205,
          25661.23668114294,
          33599.50759174058,
          -1401.6283558711875,
          44891.62255022279,
          12383.976539529278,
          29193.68422135408,
          42898.29742547055,
          3604.3510912763886,
          40001.0537411822,
          57270.53710843809,
          76344.64180405391,
          44727.5289040606,
          40955.33500715066,
          21175.252112517715,
          37309.08779149898,
          38200.06854568713,
          -29285.53887050785,
          82413.81171194022,
          39623.34657227155,
          40848.827868707594,
          54435.42077777372,
          51947.97823621426,
          12998.814776432351,
          17153.029006200726,
          71384.39074499579,
          48101.35624401085,
          26427.316790951998,
          40412.32944043644,
          15778.760018273955,
          -3246.6255797888152,
          26628.392663106206,
          19128.193040710525,
          33190.92892134993,
          5832.913068091497,
          76676.53093584417,
          75313.19605589681,
          33521.476146236644,
          45131.30676550348,
          21860.082510938868,
          48466.63411540084,
          53929.75482775946,
          23946.668253143667,
          16420.90243472706,
          36590.832048186334,
          41539.134122052,
          1096.298633321654,
          36243.36351971107,
          2710.7872430024436,
          35853.119140103925,
          60058.71793830348,
          40638.301060066675,
          4372.559237097739,
          37345.34368787112,
          27980.834236191004,
          -8270.62140299927,
          50805.93108689389,
          15762.144202190102,
          1043.090244824998,
          42040.134100771626,
          -3844.0883192940382,
          59330.83314358676,
          60621.833874566015,
          49876.37581288535,
          17486.854916140786,
          64748.46736618504,
          12701.035097672488,
          66615.78354537487,
          -15951.367923644953,
          9274.357584360288,
          20452.610539631918,
          55748.94063924602,
          51052.73091073427,
          86880.31896774587,
          37918.128108707606,
          42352.582507176674,
          85126.08557227813,
          26428.95531174075,
          8737.93295903271,
          63409.49151853961,
          45544.05848253204,
          -43474.86155803292,
          66729.48815109069,
          10820.74653982697,
          15941.64378060191,
          46678.96614047536,
          61240.65328146564,
          86151.44173131045,
          29516.806845715037,
          86850.01456927974,
          20750.436371876625,
          34554.75237031223,
          74291.97431103955,
          60138.36585090775,
          -16403.260269907187,
          45814.871845818474,
          3424.078505752259,
          101754.72693972755,
          35457.94340231223,
          78913.06187092862,
          18336.029890339007,
          65882.90575765376,
          62999.129316955805,
          31176.354683867656,
          99378.7820613517,
          4230.4735382498475,
          99171.68705807277,
          28364.269751048996,
          35448.31312793214,
          48506.51333714381,
          51553.52473251638,
          11998.234890661435,
          42534.542668399285,
          65390.87028044672,
          70621.94351874338,
          37622.97311091237,
          64133.63201115676,
          62354.099350110395,
          67823.90664018178,
          53702.897234460805,
          42349.12728301645,
          61011.18981455895,
          101402.99189137947,
          10176.052391442237,
          65234.80705393292,
          70933.51190099143,
          75356.16394583392,
          43634.379311240744,
          33255.50607727503,
          -5703.648618895211,
          48343.007716544205,
          29544.896587972646,
          9043.07885311998,
          5976.149721728638,
          28653.25968663057,
          71108.95897469157,
          10800.148591126082,
          71282.28831573878,
          21398.220922374865,
          -5766.300808722153,
          85393.33272519615,
          69913.93078196794,
          73426.2856619563,
          47931.67081406375,
          18266.761332929367,
          75855.24689660524,
          40427.87627081829,
          33515.059917097446,
          31931.589108377928,
          77712.61738483771,
          62182.061552228406,
          32731.461018838803,
          57196.143366614124,
          48187.52331459755,
          38646.48046756396,
          48040.07224585686,
          52248.407775932224,
          -12163.45933221851,
          46591.441088093794,
          11235.456324756728,
          11206.010495572118,
          46224.97742097289,
          79897.05770192202,
          -13842.043458092492,
          127868.33355021663,
          12950.195219910587,
          81010.54566572537,
          42096.28906288196,
          53909.24795480911,
          -12805.666633585934,
          74824.63138427469,
          29040.840479246923,
          54232.74243344995,
          17262.124310186715,
          73120.77187891933,
          5443.738533627824,
          83062.39871837222,
          76648.97972414154,
          7630.9456118380185,
          39260.467589157866,
          54886.46271687071,
          59286.28765093931,
          60364.153460576665,
          18072.8491990997,
          27202.511195654748,
          69408.77044196823,
          36647.58068512764,
          50376.92825704464,
          49711.99208219303,
          44590.69009157189,
          23900.389377061394,
          24534.67850771791,
          44592.724532400025,
          44901.96020226332,
          33515.48208401096,
          -2405.381355290534,
          34364.55599553243,
          66987.92840496288,
          100859.54778898088,
          -14110.042474285117,
          20092.27073300944,
          45790.974261329044,
          82232.6891402672,
          49987.87159274309,
          19263.43423161097,
          -9145.244850794086,
          28501.850717621506,
          87804.60561038787,
          19397.883596818545,
          32284.12623771606,
          33484.09454126842,
          57611.24098404497,
          35483.76691834943,
          24864.719636170194,
          57744.842725512804,
          14450.498938399483,
          54185.69777962705,
          40108.99041446776,
          37438.00317643769,
          58013.44574055681,
          51311.22497648094,
          28237.76170090877,
          71962.00271567842,
          79841.55222514179,
          49593.96892676945,
          8322.490842011408,
          11536.870399136911,
          30705.430896285223,
          36359.76472878014,
          33749.41859319783,
          45627.72848773375,
          57557.11898597074,
          28227.99198259192,
          75772.55645279796,
          47715.43881613505,
          84369.0471572692,
          62414.09878419549,
          54083.31725174934,
          41089.088635825785,
          10884.21585044032
         ],
         "xaxis": "x",
         "yaxis": "y"
        }
       ],
       "layout": {
        "barmode": "relative",
        "legend": {
         "tracegroupgap": 0
        },
        "template": {
         "data": {
          "bar": [
           {
            "error_x": {
             "color": "#2a3f5f"
            },
            "error_y": {
             "color": "#2a3f5f"
            },
            "marker": {
             "line": {
              "color": "#E5ECF6",
              "width": 0.5
             },
             "pattern": {
              "fillmode": "overlay",
              "size": 10,
              "solidity": 0.2
             }
            },
            "type": "bar"
           }
          ],
          "barpolar": [
           {
            "marker": {
             "line": {
              "color": "#E5ECF6",
              "width": 0.5
             },
             "pattern": {
              "fillmode": "overlay",
              "size": 10,
              "solidity": 0.2
             }
            },
            "type": "barpolar"
           }
          ],
          "carpet": [
           {
            "aaxis": {
             "endlinecolor": "#2a3f5f",
             "gridcolor": "white",
             "linecolor": "white",
             "minorgridcolor": "white",
             "startlinecolor": "#2a3f5f"
            },
            "baxis": {
             "endlinecolor": "#2a3f5f",
             "gridcolor": "white",
             "linecolor": "white",
             "minorgridcolor": "white",
             "startlinecolor": "#2a3f5f"
            },
            "type": "carpet"
           }
          ],
          "choropleth": [
           {
            "colorbar": {
             "outlinewidth": 0,
             "ticks": ""
            },
            "type": "choropleth"
           }
          ],
          "contour": [
           {
            "colorbar": {
             "outlinewidth": 0,
             "ticks": ""
            },
            "colorscale": [
             [
              0,
              "#0d0887"
             ],
             [
              0.1111111111111111,
              "#46039f"
             ],
             [
              0.2222222222222222,
              "#7201a8"
             ],
             [
              0.3333333333333333,
              "#9c179e"
             ],
             [
              0.4444444444444444,
              "#bd3786"
             ],
             [
              0.5555555555555556,
              "#d8576b"
             ],
             [
              0.6666666666666666,
              "#ed7953"
             ],
             [
              0.7777777777777778,
              "#fb9f3a"
             ],
             [
              0.8888888888888888,
              "#fdca26"
             ],
             [
              1,
              "#f0f921"
             ]
            ],
            "type": "contour"
           }
          ],
          "contourcarpet": [
           {
            "colorbar": {
             "outlinewidth": 0,
             "ticks": ""
            },
            "type": "contourcarpet"
           }
          ],
          "heatmap": [
           {
            "colorbar": {
             "outlinewidth": 0,
             "ticks": ""
            },
            "colorscale": [
             [
              0,
              "#0d0887"
             ],
             [
              0.1111111111111111,
              "#46039f"
             ],
             [
              0.2222222222222222,
              "#7201a8"
             ],
             [
              0.3333333333333333,
              "#9c179e"
             ],
             [
              0.4444444444444444,
              "#bd3786"
             ],
             [
              0.5555555555555556,
              "#d8576b"
             ],
             [
              0.6666666666666666,
              "#ed7953"
             ],
             [
              0.7777777777777778,
              "#fb9f3a"
             ],
             [
              0.8888888888888888,
              "#fdca26"
             ],
             [
              1,
              "#f0f921"
             ]
            ],
            "type": "heatmap"
           }
          ],
          "heatmapgl": [
           {
            "colorbar": {
             "outlinewidth": 0,
             "ticks": ""
            },
            "colorscale": [
             [
              0,
              "#0d0887"
             ],
             [
              0.1111111111111111,
              "#46039f"
             ],
             [
              0.2222222222222222,
              "#7201a8"
             ],
             [
              0.3333333333333333,
              "#9c179e"
             ],
             [
              0.4444444444444444,
              "#bd3786"
             ],
             [
              0.5555555555555556,
              "#d8576b"
             ],
             [
              0.6666666666666666,
              "#ed7953"
             ],
             [
              0.7777777777777778,
              "#fb9f3a"
             ],
             [
              0.8888888888888888,
              "#fdca26"
             ],
             [
              1,
              "#f0f921"
             ]
            ],
            "type": "heatmapgl"
           }
          ],
          "histogram": [
           {
            "marker": {
             "pattern": {
              "fillmode": "overlay",
              "size": 10,
              "solidity": 0.2
             }
            },
            "type": "histogram"
           }
          ],
          "histogram2d": [
           {
            "colorbar": {
             "outlinewidth": 0,
             "ticks": ""
            },
            "colorscale": [
             [
              0,
              "#0d0887"
             ],
             [
              0.1111111111111111,
              "#46039f"
             ],
             [
              0.2222222222222222,
              "#7201a8"
             ],
             [
              0.3333333333333333,
              "#9c179e"
             ],
             [
              0.4444444444444444,
              "#bd3786"
             ],
             [
              0.5555555555555556,
              "#d8576b"
             ],
             [
              0.6666666666666666,
              "#ed7953"
             ],
             [
              0.7777777777777778,
              "#fb9f3a"
             ],
             [
              0.8888888888888888,
              "#fdca26"
             ],
             [
              1,
              "#f0f921"
             ]
            ],
            "type": "histogram2d"
           }
          ],
          "histogram2dcontour": [
           {
            "colorbar": {
             "outlinewidth": 0,
             "ticks": ""
            },
            "colorscale": [
             [
              0,
              "#0d0887"
             ],
             [
              0.1111111111111111,
              "#46039f"
             ],
             [
              0.2222222222222222,
              "#7201a8"
             ],
             [
              0.3333333333333333,
              "#9c179e"
             ],
             [
              0.4444444444444444,
              "#bd3786"
             ],
             [
              0.5555555555555556,
              "#d8576b"
             ],
             [
              0.6666666666666666,
              "#ed7953"
             ],
             [
              0.7777777777777778,
              "#fb9f3a"
             ],
             [
              0.8888888888888888,
              "#fdca26"
             ],
             [
              1,
              "#f0f921"
             ]
            ],
            "type": "histogram2dcontour"
           }
          ],
          "mesh3d": [
           {
            "colorbar": {
             "outlinewidth": 0,
             "ticks": ""
            },
            "type": "mesh3d"
           }
          ],
          "parcoords": [
           {
            "line": {
             "colorbar": {
              "outlinewidth": 0,
              "ticks": ""
             }
            },
            "type": "parcoords"
           }
          ],
          "pie": [
           {
            "automargin": true,
            "type": "pie"
           }
          ],
          "scatter": [
           {
            "fillpattern": {
             "fillmode": "overlay",
             "size": 10,
             "solidity": 0.2
            },
            "type": "scatter"
           }
          ],
          "scatter3d": [
           {
            "line": {
             "colorbar": {
              "outlinewidth": 0,
              "ticks": ""
             }
            },
            "marker": {
             "colorbar": {
              "outlinewidth": 0,
              "ticks": ""
             }
            },
            "type": "scatter3d"
           }
          ],
          "scattercarpet": [
           {
            "marker": {
             "colorbar": {
              "outlinewidth": 0,
              "ticks": ""
             }
            },
            "type": "scattercarpet"
           }
          ],
          "scattergeo": [
           {
            "marker": {
             "colorbar": {
              "outlinewidth": 0,
              "ticks": ""
             }
            },
            "type": "scattergeo"
           }
          ],
          "scattergl": [
           {
            "marker": {
             "colorbar": {
              "outlinewidth": 0,
              "ticks": ""
             }
            },
            "type": "scattergl"
           }
          ],
          "scattermapbox": [
           {
            "marker": {
             "colorbar": {
              "outlinewidth": 0,
              "ticks": ""
             }
            },
            "type": "scattermapbox"
           }
          ],
          "scatterpolar": [
           {
            "marker": {
             "colorbar": {
              "outlinewidth": 0,
              "ticks": ""
             }
            },
            "type": "scatterpolar"
           }
          ],
          "scatterpolargl": [
           {
            "marker": {
             "colorbar": {
              "outlinewidth": 0,
              "ticks": ""
             }
            },
            "type": "scatterpolargl"
           }
          ],
          "scatterternary": [
           {
            "marker": {
             "colorbar": {
              "outlinewidth": 0,
              "ticks": ""
             }
            },
            "type": "scatterternary"
           }
          ],
          "surface": [
           {
            "colorbar": {
             "outlinewidth": 0,
             "ticks": ""
            },
            "colorscale": [
             [
              0,
              "#0d0887"
             ],
             [
              0.1111111111111111,
              "#46039f"
             ],
             [
              0.2222222222222222,
              "#7201a8"
             ],
             [
              0.3333333333333333,
              "#9c179e"
             ],
             [
              0.4444444444444444,
              "#bd3786"
             ],
             [
              0.5555555555555556,
              "#d8576b"
             ],
             [
              0.6666666666666666,
              "#ed7953"
             ],
             [
              0.7777777777777778,
              "#fb9f3a"
             ],
             [
              0.8888888888888888,
              "#fdca26"
             ],
             [
              1,
              "#f0f921"
             ]
            ],
            "type": "surface"
           }
          ],
          "table": [
           {
            "cells": {
             "fill": {
              "color": "#EBF0F8"
             },
             "line": {
              "color": "white"
             }
            },
            "header": {
             "fill": {
              "color": "#C8D4E3"
             },
             "line": {
              "color": "white"
             }
            },
            "type": "table"
           }
          ]
         },
         "layout": {
          "annotationdefaults": {
           "arrowcolor": "#2a3f5f",
           "arrowhead": 0,
           "arrowwidth": 1
          },
          "autotypenumbers": "strict",
          "coloraxis": {
           "colorbar": {
            "outlinewidth": 0,
            "ticks": ""
           }
          },
          "colorscale": {
           "diverging": [
            [
             0,
             "#8e0152"
            ],
            [
             0.1,
             "#c51b7d"
            ],
            [
             0.2,
             "#de77ae"
            ],
            [
             0.3,
             "#f1b6da"
            ],
            [
             0.4,
             "#fde0ef"
            ],
            [
             0.5,
             "#f7f7f7"
            ],
            [
             0.6,
             "#e6f5d0"
            ],
            [
             0.7,
             "#b8e186"
            ],
            [
             0.8,
             "#7fbc41"
            ],
            [
             0.9,
             "#4d9221"
            ],
            [
             1,
             "#276419"
            ]
           ],
           "sequential": [
            [
             0,
             "#0d0887"
            ],
            [
             0.1111111111111111,
             "#46039f"
            ],
            [
             0.2222222222222222,
             "#7201a8"
            ],
            [
             0.3333333333333333,
             "#9c179e"
            ],
            [
             0.4444444444444444,
             "#bd3786"
            ],
            [
             0.5555555555555556,
             "#d8576b"
            ],
            [
             0.6666666666666666,
             "#ed7953"
            ],
            [
             0.7777777777777778,
             "#fb9f3a"
            ],
            [
             0.8888888888888888,
             "#fdca26"
            ],
            [
             1,
             "#f0f921"
            ]
           ],
           "sequentialminus": [
            [
             0,
             "#0d0887"
            ],
            [
             0.1111111111111111,
             "#46039f"
            ],
            [
             0.2222222222222222,
             "#7201a8"
            ],
            [
             0.3333333333333333,
             "#9c179e"
            ],
            [
             0.4444444444444444,
             "#bd3786"
            ],
            [
             0.5555555555555556,
             "#d8576b"
            ],
            [
             0.6666666666666666,
             "#ed7953"
            ],
            [
             0.7777777777777778,
             "#fb9f3a"
            ],
            [
             0.8888888888888888,
             "#fdca26"
            ],
            [
             1,
             "#f0f921"
            ]
           ]
          },
          "colorway": [
           "#636efa",
           "#EF553B",
           "#00cc96",
           "#ab63fa",
           "#FFA15A",
           "#19d3f3",
           "#FF6692",
           "#B6E880",
           "#FF97FF",
           "#FECB52"
          ],
          "font": {
           "color": "#2a3f5f"
          },
          "geo": {
           "bgcolor": "white",
           "lakecolor": "white",
           "landcolor": "#E5ECF6",
           "showlakes": true,
           "showland": true,
           "subunitcolor": "white"
          },
          "hoverlabel": {
           "align": "left"
          },
          "hovermode": "closest",
          "mapbox": {
           "style": "light"
          },
          "paper_bgcolor": "white",
          "plot_bgcolor": "#E5ECF6",
          "polar": {
           "angularaxis": {
            "gridcolor": "white",
            "linecolor": "white",
            "ticks": ""
           },
           "bgcolor": "#E5ECF6",
           "radialaxis": {
            "gridcolor": "white",
            "linecolor": "white",
            "ticks": ""
           }
          },
          "scene": {
           "xaxis": {
            "backgroundcolor": "#E5ECF6",
            "gridcolor": "white",
            "gridwidth": 2,
            "linecolor": "white",
            "showbackground": true,
            "ticks": "",
            "zerolinecolor": "white"
           },
           "yaxis": {
            "backgroundcolor": "#E5ECF6",
            "gridcolor": "white",
            "gridwidth": 2,
            "linecolor": "white",
            "showbackground": true,
            "ticks": "",
            "zerolinecolor": "white"
           },
           "zaxis": {
            "backgroundcolor": "#E5ECF6",
            "gridcolor": "white",
            "gridwidth": 2,
            "linecolor": "white",
            "showbackground": true,
            "ticks": "",
            "zerolinecolor": "white"
           }
          },
          "shapedefaults": {
           "line": {
            "color": "#2a3f5f"
           }
          },
          "ternary": {
           "aaxis": {
            "gridcolor": "white",
            "linecolor": "white",
            "ticks": ""
           },
           "baxis": {
            "gridcolor": "white",
            "linecolor": "white",
            "ticks": ""
           },
           "bgcolor": "#E5ECF6",
           "caxis": {
            "gridcolor": "white",
            "linecolor": "white",
            "ticks": ""
           }
          },
          "title": {
           "x": 0.05
          },
          "xaxis": {
           "automargin": true,
           "gridcolor": "white",
           "linecolor": "white",
           "ticks": "",
           "title": {
            "standoff": 15
           },
           "zerolinecolor": "white",
           "zerolinewidth": 2
          },
          "yaxis": {
           "automargin": true,
           "gridcolor": "white",
           "linecolor": "white",
           "ticks": "",
           "title": {
            "standoff": 15
           },
           "zerolinecolor": "white",
           "zerolinewidth": 2
          }
         }
        },
        "title": {
         "text": "Profit Distribution for Region 0"
        },
        "xaxis": {
         "anchor": "y",
         "domain": [
          0,
          1
         ],
         "title": {
          "text": "Profit"
         }
        },
        "yaxis": {
         "anchor": "x",
         "domain": [
          0,
          1
         ],
         "title": {
          "text": "count"
         }
        }
       }
      }
     },
     "metadata": {},
     "output_type": "display_data"
    }
   ],
   "source": [
    "# Convert profit values to a DataFrame\n",
    "df_profit_0 = pd.DataFrame({'Profit': profit_values})\n",
    "\n",
    "fig = px.histogram(df_profit_0, x='Profit', title='Profit Distribution for Region 0', nbins=30)\n",
    "fig.show()"
   ]
  },
  {
   "cell_type": "code",
   "execution_count": 24,
   "metadata": {
    "trusted": false
   },
   "outputs": [
    {
     "name": "stdout",
     "output_type": "stream",
     "text": [
      "Mean profit = 50853.971237051956 for region  1\n",
      "95% confidence interval: (np.float64(10018.773136972128), np.float64(94660.15058751087))\n",
      "Risk of losses = 0.4 %\n"
     ]
    }
   ],
   "source": [
    "target = gd_1_target_valid\n",
    "predictions = gd_1_predictions_valid\n",
    "region = 1\n",
    "sample_size = 500\n",
    "boostrap_size = 1000\n",
    "state = np.random.RandomState(42)\n",
    "profit_values = []\n",
    "for i in range(boostrap_size):\n",
    "    target_sample = target.sample(sample_size, replace=True, random_state=state)\n",
    "    predictions_sample = predictions[target_sample.index]\n",
    "    profit_values.append(profit(target_sample, predictions_sample))\n",
    "profit_values = pd.Series(profit_values)\n",
    "        \n",
    "mean_profit = profit_values.mean()\n",
    "confidence_interval = (profit_values.quantile(0.025), profit_values.quantile(0.975))\n",
    "negative_profit_chance = (profit_values < 0).mean()\n",
    "\n",
    "print(\"Mean profit =\", mean_profit, \"for region \", region)\n",
    "print(\"95% confidence interval:\", confidence_interval)\n",
    "print(\"Risk of losses =\", negative_profit_chance * 100, \"%\")"
   ]
  },
  {
   "cell_type": "code",
   "execution_count": 25,
   "metadata": {
    "trusted": false
   },
   "outputs": [
    {
     "data": {
      "application/vnd.plotly.v1+json": {
       "config": {
        "plotlyServerURL": "https://plot.ly"
       },
       "data": [
        {
         "alignmentgroup": "True",
         "bingroup": "x",
         "hovertemplate": "Profit=%{x}<br>count=%{y}<extra></extra>",
         "legendgroup": "",
         "marker": {
          "color": "#636efa",
          "pattern": {
           "shape": ""
          }
         },
         "name": "",
         "nbinsx": 30,
         "offsetgroup": "",
         "orientation": "v",
         "showlegend": false,
         "type": "histogram",
         "x": [
          71672.02525287634,
          74452.35779466806,
          76162.85320628504,
          54759.89061947074,
          67890.27539737406,
          62323.39033047529,
          60258.35586990509,
          43563.92065252364,
          92428.10957493354,
          50337.482482526684,
          26651.786019118503,
          54187.65215449361,
          48340.86783842114,
          83085.69463584735,
          22733.19653068669,
          31578.012804575148,
          44204.57893396553,
          27653.203332828707,
          38992.232916020206,
          65750.60113702412,
          86083.72659366345,
          74377.71799488855,
          6747.839411212015,
          58970.81932370621,
          24935.070624186425,
          57614.86296104267,
          52906.33559160959,
          18659.10745938099,
          17097.891647323268,
          62684.1493627436,
          64108.525541871786,
          27864.682765537524,
          62615.72954627895,
          63822.40630938322,
          68748.63309484022,
          7606.197108677938,
          28723.04046300333,
          70676.82792248088,
          32790.909550994285,
          80087.66267803172,
          57042.62449606508,
          63032.46842838195,
          55904.36754942546,
          36068.84075798385,
          57826.34239375149,
          65601.32153746486,
          71883.50468558539,
          82799.57540335879,
          58398.58085872885,
          16662.49281527521,
          86369.84582615201,
          97497.39597663446,
          54193.872137808474,
          65464.481904535554,
          60681.31473532296,
          38140.095201869146,
          39066.87271579972,
          15810.355101124384,
          57334.96371186874,
          68530.93367881607,
          9242.052720515174,
          34501.4049626115,
          24655.171375012724,
          51979.558077679016,
          38494.63425082236,
          39209.932332044,
          84653.1304312204,
          22304.017681953497,
          81872.79788942821,
          59399.99817243917,
          58684.70009121741,
          63897.04610916297,
          19517.46515684668,
          48695.40688737435,
          75310.71549213422,
          24512.111758768326,
          70173.00927396817,
          23796.81367754657,
          35278.9028769827,
          73811.69951322605,
          62541.0897464992,
          29718.23779339879,
          14385.97892199608,
          90711.39418000169,
          73027.9816155401,
          35216.703043833026,
          68101.75483008288,
          34426.76516283152,
          11313.307164400583,
          76019.79359004064,
          47271.030708246166,
          61110.49358405592,
          90935.31357934047,
          37281.73750440322,
          41990.26487383607,
          123751.94554912602,
          27155.604667630745,
          34289.925529902335,
          66608.95883449027,
          100993.02659964818,
          23865.233494011336,
          47482.5101409551,
          85940.66697741905,
          26863.265451827203,
          59113.87893995037,
          95494.56134921405,
          22086.3182659297,
          55972.78736589034,
          43986.8795179415,
          43557.70066920866,
          61104.27360074106,
          52477.15674287663,
          63250.16784440586,
          42848.62257130211,
          41492.666208638344,
          54623.05098654167,
          64973.10322265304,
          27435.503916804446,
          52191.03751038783,
          29649.817976934137,
          30862.71472335339,
          62248.75053069554,
          20730.361903266166,
          106982.87053196505,
          51761.858661655104,
          27721.62314929336,
          29581.39816046937,
          20015.06382204441,
          37710.91635313607,
          75167.65587588982,
          19088.28630811395,
          49124.58573610755,
          43775.400085232686,
          90935.31357934047,
          37717.13633645116,
          43993.099501256715,
          69314.65157650248,
          60395.195502834395,
          72238.0437345386,
          52054.19787745876,
          21800.199033441255,
          37642.49653667142,
          32790.909550994285,
          27653.203332828474,
          56545.02583086747,
          43706.98026876815,
          34289.925529902335,
          45846.65452911786,
          32859.32936745917,
          68319.45424610702,
          58759.33989099716,
          60544.475102393655,
          38351.57463457808,
          92645.80899095745,
          51264.25999645726,
          17738.54992876528,
          62746.34919589339,
          51836.49846143485,
          45417.475680384785,
          43632.340468988405,
          26863.26545182732,
          49839.88381732907,
          45560.5352966293,
          38065.455402089516,
          81872.79788942821,
          33363.14801597153,
          56401.96621462307,
          68530.93367881584,
          25581.948888943298,
          78091.04803392617,
          21937.03866637044,
          45560.5352966293,
          33145.44859994773,
          85368.4285124417,
          89007.1187516998,
          89504.71741689742,
          12457.784094355186,
          57260.323912089225,
          50984.36074728356,
          71311.2662206078,
          74234.65837864415,
          32436.370502041187,
          66602.73885117518,
          8526.754639293533,
          72455.74315056251,
          44204.57893396565,
          75951.37377357623,
          84659.35041453503,
          9745.871369027882,
          52265.67731016758,
          68537.15366213094,
          57683.28277750709,
          58902.39950724132,
          39135.29253226437,
          36995.61827191466,
          62684.1493627436,
          50629.821698330576,
          72884.92199929547,
          43850.0398850122,
          84864.60986392922,
          42848.62257130211,
          77736.50898497272,
          31005.774339597672,
          33213.86841641227,
          25793.428321652114,
          83514.87348458031,
          27149.384684315883,
          46269.613394535845,
          61539.67243278911,
          39775.95081370638,
          43346.22123649949,
          48770.0466871541,
          45772.014729338116,
          82227.33693838166,
          73600.22008051723,
          77661.86918519298,
          52837.91577514517,
          47127.971092001884,
          60040.65645388095,
          52408.73692641198,
          65962.08056973317,
          39782.17079702148,
          64108.525541871786,
          51911.138261214364,
          36286.54017400788,
          52408.73692641198,
          62609.509562964085,
          81804.37807296356,
          21657.13941719674,
          63753.98649291857,
          64176.94535833644,
          88864.0591354554,
          62180.33071423089,
          50548.96191523573,
          41424.24639217381,
          42419.44372256915,
          66173.56000244222,
          18024.66916125384,
          34432.98514614662,
          33854.52669785428,
          25936.487937896512,
          52837.91577514494,
          84870.82984724431,
          40771.14814410184,
          50480.54209877108,
          68319.45424610702,
          59474.63797221868,
          76952.79108728655,
          76803.51148772705,
          94642.42363506323,
          67392.67673217645,
          57471.80334479804,
          28225.44179780595,
          46201.19357807131,
          90363.0751143631,
          58970.81932370621,
          102492.04257855611,
          70670.60793916602,
          73388.74064780818,
          35782.72152549529,
          28654.62064653891,
          11456.366780644865,
          32361.73070226144,
          36286.540174008,
          51979.558077679016,
          42133.324490080355,
          39496.0515645328,
          52408.73692641198,
          99991.60928593786,
          39427.63174806826,
          53335.51444034255,
          58398.58085872885,
          37499.436920427135,
          59543.057788683334,
          31789.492237284314,
          39203.712348729256,
          49771.46400086442,
          20232.76323806867,
          54473.771386982175,
          76094.43338982039,
          66322.83960200148,
          -21155.005739746615,
          67958.69521383871,
          58970.819323705975,
          71099.78678789898,
          67318.0369323967,
          66459.67923493101,
          26222.607170385192,
          71099.78678789898,
          36852.558655670146,
          105981.45321825473,
          54193.872137808474,
          71460.54582016729,
          41704.14564134739,
          25507.30908916355,
          2966.089555709739,
          89218.59818440862,
          27503.92373326933,
          34787.524195100064,
          45635.175096409046,
          89299.45796750323,
          13166.862192261731,
          62895.62879545265,
          41492.666208638344,
          48838.46650361898,
          19162.92610789358,
          52477.15674287663,
          44272.9987504303,
          49485.34476837586,
          69818.47022501496,
          46412.67301078013,
          52265.67731016758,
          40354.409261998604,
          50343.70246584178,
          30147.416642131982,
          65178.36267204699,
          62752.56917920825,
          57334.96371186874,
          16021.8345338332,
          34358.34534636699,
          55189.06946820393,
          56047.42716567009,
          44347.63855021016,
          56476.606014402816,
          15735.715301344753,
          39850.59061348601,
          52408.73692641198,
          58187.1014260198,
          19803.58438933536,
          74091.59876239998,
          12028.60524562234,
          47059.55127553712,
          8458.334822828998,
          5174.183632524335,
          49622.18440130493,
          35216.70304383291,
          59617.69758846308,
          58616.28027475276,
          49485.344768375624,
          77947.98841768154,
          74452.35779466806,
          40565.88869470777,
          46058.133961826796,
          27653.203332828474,
          35639.66190925089,
          21657.13941719674,
          28362.281430735253,
          84441.65099851112,
          42562.50333881343,
          85150.72909641778,
          62398.0301302548,
          71740.44506934076,
          36286.540174008,
          65103.722872267244,
          77593.44936872856,
          60040.65645388095,
          54336.93175405287,
          98281.1138743211,
          35496.60229300673,
          70595.9681393865,
          52980.97539138934,
          41212.76695946464,
          -3241.453792631044,
          54902.950235715136,
          84796.19004746433,
          70098.36947418866,
          62118.1308810811,
          5105.763816059683,
          16307.953766321763,
          60612.89491885831,
          91575.97186078271,
          41349.60659239406,
          81729.73827318405,
          44845.23721540766,
          50269.062666062266,
          25868.06812143186,
          56401.9662146233,
          92931.92822344601,
          23871.45347732643,
          51052.78056374844,
          51264.25999645726,
          52340.317109947326,
          61110.49358405592,
          36000.4209415192,
          67678.79596466501,
          45703.59491287358,
          54119.23233802896,
          62111.91089776624,
          48197.80822217674,
          5037.3439995951485,
          80877.60055903299,
          69961.52984125935,
          44845.23721540754,
          72741.86238305108,
          52551.79654265614,
          61328.19300007983,
          40068.29002951004,
          50412.12228230643,
          21874.83883322077,
          38426.21443435771,
          60040.65645388118,
          31503.3730047954,
          65103.722872267244,
          60830.59433488245,
          32361.73070226144,
          19380.62552391761,
          35714.30170903064,
          73096.40143200452,
          71672.0252528761,
          89498.49743358232,
          19797.36440602073,
          98281.1138743211,
          82588.09597064974,
          73811.69951322605,
          51979.558077679016,
          70888.30735518993,
          68033.33501361846,
          37642.49653667142,
          43489.28085274401,
          33213.868416412384,
          26869.48543514218,
          52545.57655934128,
          48340.86783842102,
          90076.95588187454,
          65396.06208807067,
          79515.42421305412,
          30010.57700920233,
          44988.29683165182,
          58255.52124248445,
          30788.074923573644,
          34289.925529902335,
          31932.551853528246,
          50126.00304981787,
          47271.030708246166,
          98921.77215576312,
          50555.18189855083,
          62827.208978988,
          30645.015307329595,
          30719.65510710911,
          41138.12715968513,
          61178.91340052057,
          12171.664861866273,
          70670.60793916578,
          10100.410417981097,
          67454.876565326,
          49124.58573610755,
          60544.475102393655,
          49765.244017549325,
          25152.770040210104,
          11387.94696417998,
          9316.692520294804,
          88080.341237769,
          81089.07999174204,
          33643.04726514546,
          20724.141919950955,
          38780.75348331116,
          -5667.247285469552,
          64537.70439060498,
          41418.0264088586,
          75590.61474130792,
          33786.106881389744,
          55761.30793318106,
          41990.26487383607,
          61042.07376759127,
          39135.29253226449,
          44770.597415627795,
          57266.54389540409,
          45492.11548016453,
          53764.693289075745,
          54119.23233802873,
          49765.244017549325,
          65744.38115370926,
          51836.49846143485,
          50548.96191523573,
          7388.497692654026,
          49914.52361710882,
          45056.71664811671,
          50909.72094750381,
          71958.1444853649,
          71603.60543641145,
          49193.0055525722,
          103991.05855746404,
          68885.47272776929,
          58473.22065850836,
          57900.982193531236,
          46773.43204304855,
          59399.99817243917,
          45628.95511309395,
          31434.953188330866,
          60258.35586990509,
          48340.86783842102,
          57403.38352833362,
          26937.90525160695,
          51699.658828505315,
          53621.63367283135,
          46344.25319431559,
          46984.9114757576,
          53764.69328907551,
          55686.66813340131,
          37144.89787147392,
          53621.63367283135,
          70956.72717165481,
          54548.41118676192,
          71093.56680458388,
          30358.8960748408,
          41990.26487383607,
          21302.60036824341,
          97783.51520912326,
          22515.497114662896,
          62609.509562964085,
          18379.20821020729,
          58255.52124248445,
          29438.338544225087,
          79515.42421305412,
          43632.340468988405,
          66602.73885117495,
          70247.64907374792,
          56545.02583086747,
          36572.659406496445,
          39639.111180777196,
          85579.90794515074,
          56047.42716567009,
          43563.92065252364,
          46841.85185951332,
          74738.47702715686,
          52980.97539138934,
          37779.33616960095,
          60619.1149021734,
          81232.1396079862,
          37070.25807169429,
          74166.2385621795,
          70029.949657724,
          70882.08737187507,
          57191.90409562457,
          100775.32718362426,
          16594.072998810792,
          41990.26487383596,
          17589.270329206134,
          13309.921808506013,
          31646.432621039683,
          26291.026986850193,
          36068.84075798385,
          54691.47080300632,
          52620.21635912103,
          83154.114452312,
          68462.51386235165,
          64680.764006849146,
          43060.10200401093,
          13882.160273483372,
          95351.50173296966,
          32007.191653307993,
          66957.27790012839,
          58398.58085872885,
          48048.528622617596,
          79372.36459680996,
          28723.04046300368,
          74738.47702715662,
          48483.92745466565,
          53833.113105540164,
          25581.948888943298,
          34146.86591365805,
          40777.36812741659,
          45560.5352966293,
          45703.59491287358,
          41635.725824882626,
          75161.43589257495,
          45205.99624767597,
          100134.66890218225,
          31148.833955842303,
          61471.25261632423,
          68742.41311152512,
          68107.9748133982,
          32287.090902481694,
          6890.899027456297,
          80162.30247781123,
          56905.78486313578,
          29220.63912820141,
          75167.65587588982,
          57826.34239375149,
          62827.208978988,
          51911.138261214364,
          19449.045340382145,
          53907.75290531991,
          84510.07081497577,
          71168.20660436363,
          10741.06869942299,
          78520.22688265913,
          36.477414358756505,
          10243.470034225378,
          28150.801998026203,
          18018.44917793898,
          28362.281430735253,
          85156.94907973288,
          52265.67731016758,
          49056.16591964266,
          74377.71799488855,
          32641.62995143514,
          36286.54017400788,
          56190.48678191425,
          44347.63855020993,
          65893.66075326852,
          6822.479210991645,
          52477.15674287663,
          48558.567254445166,
          67529.51636510575,
          36137.26057444862,
          99780.1298532288,
          87078.92392405868,
          88932.47895192006,
          47986.32878946792,
          36143.48055776348,
          68605.57347859559,
          47843.26917322364,
          50760.44134794478,
          51052.78056374844,
          100918.38679986843,
          53049.39520785399,
          12028.605245621991,
          34787.524195100064,
          69314.65157650248,
          12812.323143308284,
          27653.203332828474,
          46058.13396182703,
          63542.50706020952,
          45989.71414536226,
          53117.815024318406,
          28150.801998026203,
          47986.32878946769,
          30937.354523132904,
          18659.10745938099,
          37710.9163531363,
          40491.24889492802,
          51625.01902872557,
          31434.953188330866,
          90792.2539630963,
          74023.17894593533,
          29792.877593178535,
          65750.60113702412,
          42419.44372256915,
          74240.87836195924,
          20518.882470557,
          33499.98764890095,
          66248.19980222173,
          69457.71119274665,
          53553.21385636646,
          58684.70009121741,
          7817.676541386987,
          67821.85558090941,
          63753.98649291857,
          36068.840757984086,
          34215.28573012259,
          22801.616347151343,
          53901.53292200505,
          52265.67731016758,
          74813.11682693637,
          35496.60229300661,
          37853.97596938058,
          17663.910128985648,
          34078.446097193286,
          47488.730124270194,
          45846.65452911786,
          29575.17817715439,
          101845.16431379924,
          34283.70554658712,
          55686.668133401545,
          28797.680262783077,
          54187.65215449361,
          40995.06754344085,
          40920.42774366122,
          25152.770040210336,
          14808.937787414063,
          57900.982193531236,
          66534.3190347103,
          36211.90037422837,
          95357.72171628475,
          75379.13530859863,
          17806.969745229813,
          38992.23291602009,
          38494.63425082236,
          68960.11252754903,
          14311.339122216334,
          608.7158793358831,
          35857.36132527492,
          103847.99894121964,
          13739.100657238858,
          29861.297409643303,
          56619.665630647214,
          26726.4258188979,
          40205.12966243946,
          74595.41741091246,
          55761.30793318106,
          43986.879517941736,
          84441.65099851112,
          57185.68411230948,
          60967.433967811754,
          32355.510718946578,
          68176.39462986286,
          51618.799045410706,
          39925.23041326576,
          71883.50468558539,
          66173.56000244198,
          63038.688411696814,
          24586.75155854784,
          69389.291376282,
          10672.648882958456,
          18876.806875404785,
          32218.67108601716,
          54268.51193758822,
          45199.77626436099,
          45485.89549684955,
          24866.650807721773,
          27653.203332828474,
          32641.629951435025,
          104768.55647183536,
          56476.606014402816,
          68033.33501361846,
          31721.07242081943,
          71385.90602038777,
          36429.59979025216,
          45989.71414536226,
          36566.43942318158,
          75733.67435755208,
          51052.78056374844,
          36709.4990394261,
          10025.770618201466,
          25445.10925601388,
          42419.44372256915,
          64612.344190384494,
          65396.06208807067,
          54616.83100322657,
          46984.9114757576,
          37070.25807169429,
          49690.60421776981,
          44845.23721540754,
          68176.39462986263,
          48129.388405712205,
          63393.22746065026,
          42848.62257130211,
          73668.63989698188,
          61471.25261632423,
          59760.75720470748,
          45560.5352966293,
          44484.47818313923,
          57689.502760822186,
          61042.07376759127,
          32361.730702261208,
          75236.07569235447,
          51693.43884519045,
          33220.08839972725,
          18093.088977718726,
          72953.34181576013,
          68605.57347859582,
          20736.581886581145,
          30576.595490864944,
          97565.81579309935,
          69886.89004147961,
          68313.23426279216,
          40777.368127416936,
          67100.33751637302,
          57471.80334479804,
          19162.92610789358,
          56115.846982134506,
          53764.693289075745,
          21800.199033441022,
          45846.65452911786,
          42637.143138592946,
          67884.0554140592,
          42923.26237108151,
          64892.24343955796,
          45131.356447896105,
          55761.30793318129,
          67461.0965486411,
          59686.11740492773,
          38140.095201869146,
          34644.46457885555,
          53341.73442365765,
          82301.97673816117,
          62609.50956296385,
          35714.30170903064,
          45840.434545802884,
          6673.199611432385,
          87651.16238903604,
          71242.84640414338,
          68605.57347859582,
          81082.86000842694,
          53472.354073271854,
          69669.1906254557,
          32647.849934750004,
          48278.668005271466,
          -8242.32037786732,
          25227.40983998985,
          43775.400085232686,
          79017.82554785674,
          65109.94285558211,
          42487.863539033686,
          55835.94773296104,
          37356.37730418285,
          39564.47138099745,
          50337.482482526684,
          31646.432621039683,
          18093.088977718726,
          82158.91712191678,
          66608.95883449027,
          30433.53587462043,
          40422.82907846349,
          62472.66993003455,
          26085.76753745589,
          72387.32333409786,
          34855.9440115646,
          23013.095779860392,
          49056.165919642895,
          26937.90525160695,
          73457.16046427283,
          58044.0418097754,
          58330.161042263964,
          48340.86783842114,
          25507.309089163784,
          30290.476258376148,
          50126.003049817635,
          14665.878171169665,
          75024.59625964542,
          76741.31165457726,
          37997.03558562475,
          48347.087821736,
          44988.29683165194,
          43134.741803790675,
          58187.1014260198,
          5895.701697061071,
          38855.3932830909,
          23946.09327710583,
          82874.21520313853,
          35645.88189256587,
          19231.345924358116,
          91289.85262829368,
          79664.70381261362,
          62180.330714231124,
          63679.346693138825,
          23230.795195884304,
          31291.893572086352,
          40565.88869470777,
          46126.55377829156,
          54262.291954273125,
          49839.88381732907,
          27012.545051386463,
          69103.17214379343,
          65464.481904535554,
          71883.50468558539,
          55120.64965173905,
          57334.96371186874,
          79944.60306178732,
          71317.48620392289,
          29935.937209422817,
          64108.52554187202,
          19660.524773091078,
          56824.92508004117,
          42494.08352234878,
          62323.39033047529,
          27149.384684315883,
          41349.60659239406,
          66534.31903471053,
          34209.065746807726,
          4035.9266858848277,
          27796.262949072756,
          64823.82362309354,
          65750.60113702412,
          9745.871369027882,
          21302.600368243642,
          47557.14994073473,
          39850.590613486245,
          57334.96371186874,
          32859.32936745882,
          24225.99252627953,
          66465.89921824588,
          53621.63367283135,
          25581.948888943298,
          76517.39225523826,
          63679.346693138825,
          43563.92065252352,
          16662.49281527521,
          31360.31338855112,
          65675.9613372446,
          15381.17625239119,
          59617.69758846308,
          79017.82554785674,
          74520.77761113271,
          71242.84640414338,
          84584.71061475552,
          62895.62879545265,
          46412.67301078013,
          59045.45912348572,
          62472.66993003455,
          16737.132615054958,
          66534.31903471053,
          22876.256146930973,
          44061.51931772125,
          57689.502760822186,
          42344.80392278917,
          40783.5881107318,
          56047.42716566962,
          43912.23971816199,
          89859.25646585063,
          58473.22065850836,
          63107.1082281617,
          55549.82850047224,
          59754.537221392384,
          54909.17021903023,
          70739.02775563044,
          13384.56160828576,
          39135.29253226449,
          71528.96563663194,
          78377.16726641473,
          37070.25807169429,
          101279.14583213697,
          40136.70984597481,
          24729.81117479247,
          69103.17214379343,
          67318.0369323967,
          63038.688411696814,
          62895.62879545265,
          51264.25999645726,
          35285.12286029779,
          83160.3344356271,
          13739.100657238858,
          63250.16784440586,
          43775.400085232686,
          74738.47702715662,
          61471.25261632423,
          59039.239140170626,
          54834.530419250485,
          90860.67377956095,
          49267.645352351945,
          43850.039885012084,
          86649.74507532571,
          86369.84582615225,
          75161.43589257495,
          55618.24831693689,
          21302.600368243642,
          46698.79224326881,
          59399.99817243917,
          51768.078644969966,
          57614.86296104267,
          52837.91577514494,
          38065.455402089516,
          40995.067543440615,
          48060.96858924755,
          47986.32878946792,
          38712.33366684662,
          96066.79981419118,
          67392.67673217645,
          44633.757782698725,
          73737.05971344654,
          30999.55435628281,
          61253.55320030032,
          74166.2385621795,
          64823.82362309354,
          26651.786019118153,
          65750.60113702412,
          75951.37377357623,
          50978.140763968695,
          49342.285152131226,
          78165.68783370568,
          33499.98764890083,
          10031.990601516445,
          62329.610313790385,
          58541.64047497325,
          83657.93310082494,
          23156.15539610479,
          53982.392705099424,
          65321.422288291156,
          46916.491659292835,
          26160.407337235636,
          30937.354523133137,
          33002.38898370345,
          67529.51636510575,
          49199.22553588729,
          61757.371848813025,
          60967.433967811754,
          21943.258649685304,
          57764.14256060193,
          41349.60659239406,
          79590.06401283387,
          40995.06754344085,
          53267.0946238779,
          62752.56917920825,
          81157.49980820646,
          91215.21282851417,
          45703.59491287358,
          81089.07999174204,
          17806.969745229813,
          31074.19415606244,
          24225.992526279762,
          33288.508216192015,
          58821.53972414695,
          41990.26487383607,
          73314.10084802844,
          63100.8882448466,
          41063.48735990538,
          50698.241514794994,
          37424.797120647505,
          51842.71844474971
         ],
         "xaxis": "x",
         "yaxis": "y"
        }
       ],
       "layout": {
        "barmode": "relative",
        "legend": {
         "tracegroupgap": 0
        },
        "template": {
         "data": {
          "bar": [
           {
            "error_x": {
             "color": "#2a3f5f"
            },
            "error_y": {
             "color": "#2a3f5f"
            },
            "marker": {
             "line": {
              "color": "#E5ECF6",
              "width": 0.5
             },
             "pattern": {
              "fillmode": "overlay",
              "size": 10,
              "solidity": 0.2
             }
            },
            "type": "bar"
           }
          ],
          "barpolar": [
           {
            "marker": {
             "line": {
              "color": "#E5ECF6",
              "width": 0.5
             },
             "pattern": {
              "fillmode": "overlay",
              "size": 10,
              "solidity": 0.2
             }
            },
            "type": "barpolar"
           }
          ],
          "carpet": [
           {
            "aaxis": {
             "endlinecolor": "#2a3f5f",
             "gridcolor": "white",
             "linecolor": "white",
             "minorgridcolor": "white",
             "startlinecolor": "#2a3f5f"
            },
            "baxis": {
             "endlinecolor": "#2a3f5f",
             "gridcolor": "white",
             "linecolor": "white",
             "minorgridcolor": "white",
             "startlinecolor": "#2a3f5f"
            },
            "type": "carpet"
           }
          ],
          "choropleth": [
           {
            "colorbar": {
             "outlinewidth": 0,
             "ticks": ""
            },
            "type": "choropleth"
           }
          ],
          "contour": [
           {
            "colorbar": {
             "outlinewidth": 0,
             "ticks": ""
            },
            "colorscale": [
             [
              0,
              "#0d0887"
             ],
             [
              0.1111111111111111,
              "#46039f"
             ],
             [
              0.2222222222222222,
              "#7201a8"
             ],
             [
              0.3333333333333333,
              "#9c179e"
             ],
             [
              0.4444444444444444,
              "#bd3786"
             ],
             [
              0.5555555555555556,
              "#d8576b"
             ],
             [
              0.6666666666666666,
              "#ed7953"
             ],
             [
              0.7777777777777778,
              "#fb9f3a"
             ],
             [
              0.8888888888888888,
              "#fdca26"
             ],
             [
              1,
              "#f0f921"
             ]
            ],
            "type": "contour"
           }
          ],
          "contourcarpet": [
           {
            "colorbar": {
             "outlinewidth": 0,
             "ticks": ""
            },
            "type": "contourcarpet"
           }
          ],
          "heatmap": [
           {
            "colorbar": {
             "outlinewidth": 0,
             "ticks": ""
            },
            "colorscale": [
             [
              0,
              "#0d0887"
             ],
             [
              0.1111111111111111,
              "#46039f"
             ],
             [
              0.2222222222222222,
              "#7201a8"
             ],
             [
              0.3333333333333333,
              "#9c179e"
             ],
             [
              0.4444444444444444,
              "#bd3786"
             ],
             [
              0.5555555555555556,
              "#d8576b"
             ],
             [
              0.6666666666666666,
              "#ed7953"
             ],
             [
              0.7777777777777778,
              "#fb9f3a"
             ],
             [
              0.8888888888888888,
              "#fdca26"
             ],
             [
              1,
              "#f0f921"
             ]
            ],
            "type": "heatmap"
           }
          ],
          "heatmapgl": [
           {
            "colorbar": {
             "outlinewidth": 0,
             "ticks": ""
            },
            "colorscale": [
             [
              0,
              "#0d0887"
             ],
             [
              0.1111111111111111,
              "#46039f"
             ],
             [
              0.2222222222222222,
              "#7201a8"
             ],
             [
              0.3333333333333333,
              "#9c179e"
             ],
             [
              0.4444444444444444,
              "#bd3786"
             ],
             [
              0.5555555555555556,
              "#d8576b"
             ],
             [
              0.6666666666666666,
              "#ed7953"
             ],
             [
              0.7777777777777778,
              "#fb9f3a"
             ],
             [
              0.8888888888888888,
              "#fdca26"
             ],
             [
              1,
              "#f0f921"
             ]
            ],
            "type": "heatmapgl"
           }
          ],
          "histogram": [
           {
            "marker": {
             "pattern": {
              "fillmode": "overlay",
              "size": 10,
              "solidity": 0.2
             }
            },
            "type": "histogram"
           }
          ],
          "histogram2d": [
           {
            "colorbar": {
             "outlinewidth": 0,
             "ticks": ""
            },
            "colorscale": [
             [
              0,
              "#0d0887"
             ],
             [
              0.1111111111111111,
              "#46039f"
             ],
             [
              0.2222222222222222,
              "#7201a8"
             ],
             [
              0.3333333333333333,
              "#9c179e"
             ],
             [
              0.4444444444444444,
              "#bd3786"
             ],
             [
              0.5555555555555556,
              "#d8576b"
             ],
             [
              0.6666666666666666,
              "#ed7953"
             ],
             [
              0.7777777777777778,
              "#fb9f3a"
             ],
             [
              0.8888888888888888,
              "#fdca26"
             ],
             [
              1,
              "#f0f921"
             ]
            ],
            "type": "histogram2d"
           }
          ],
          "histogram2dcontour": [
           {
            "colorbar": {
             "outlinewidth": 0,
             "ticks": ""
            },
            "colorscale": [
             [
              0,
              "#0d0887"
             ],
             [
              0.1111111111111111,
              "#46039f"
             ],
             [
              0.2222222222222222,
              "#7201a8"
             ],
             [
              0.3333333333333333,
              "#9c179e"
             ],
             [
              0.4444444444444444,
              "#bd3786"
             ],
             [
              0.5555555555555556,
              "#d8576b"
             ],
             [
              0.6666666666666666,
              "#ed7953"
             ],
             [
              0.7777777777777778,
              "#fb9f3a"
             ],
             [
              0.8888888888888888,
              "#fdca26"
             ],
             [
              1,
              "#f0f921"
             ]
            ],
            "type": "histogram2dcontour"
           }
          ],
          "mesh3d": [
           {
            "colorbar": {
             "outlinewidth": 0,
             "ticks": ""
            },
            "type": "mesh3d"
           }
          ],
          "parcoords": [
           {
            "line": {
             "colorbar": {
              "outlinewidth": 0,
              "ticks": ""
             }
            },
            "type": "parcoords"
           }
          ],
          "pie": [
           {
            "automargin": true,
            "type": "pie"
           }
          ],
          "scatter": [
           {
            "fillpattern": {
             "fillmode": "overlay",
             "size": 10,
             "solidity": 0.2
            },
            "type": "scatter"
           }
          ],
          "scatter3d": [
           {
            "line": {
             "colorbar": {
              "outlinewidth": 0,
              "ticks": ""
             }
            },
            "marker": {
             "colorbar": {
              "outlinewidth": 0,
              "ticks": ""
             }
            },
            "type": "scatter3d"
           }
          ],
          "scattercarpet": [
           {
            "marker": {
             "colorbar": {
              "outlinewidth": 0,
              "ticks": ""
             }
            },
            "type": "scattercarpet"
           }
          ],
          "scattergeo": [
           {
            "marker": {
             "colorbar": {
              "outlinewidth": 0,
              "ticks": ""
             }
            },
            "type": "scattergeo"
           }
          ],
          "scattergl": [
           {
            "marker": {
             "colorbar": {
              "outlinewidth": 0,
              "ticks": ""
             }
            },
            "type": "scattergl"
           }
          ],
          "scattermapbox": [
           {
            "marker": {
             "colorbar": {
              "outlinewidth": 0,
              "ticks": ""
             }
            },
            "type": "scattermapbox"
           }
          ],
          "scatterpolar": [
           {
            "marker": {
             "colorbar": {
              "outlinewidth": 0,
              "ticks": ""
             }
            },
            "type": "scatterpolar"
           }
          ],
          "scatterpolargl": [
           {
            "marker": {
             "colorbar": {
              "outlinewidth": 0,
              "ticks": ""
             }
            },
            "type": "scatterpolargl"
           }
          ],
          "scatterternary": [
           {
            "marker": {
             "colorbar": {
              "outlinewidth": 0,
              "ticks": ""
             }
            },
            "type": "scatterternary"
           }
          ],
          "surface": [
           {
            "colorbar": {
             "outlinewidth": 0,
             "ticks": ""
            },
            "colorscale": [
             [
              0,
              "#0d0887"
             ],
             [
              0.1111111111111111,
              "#46039f"
             ],
             [
              0.2222222222222222,
              "#7201a8"
             ],
             [
              0.3333333333333333,
              "#9c179e"
             ],
             [
              0.4444444444444444,
              "#bd3786"
             ],
             [
              0.5555555555555556,
              "#d8576b"
             ],
             [
              0.6666666666666666,
              "#ed7953"
             ],
             [
              0.7777777777777778,
              "#fb9f3a"
             ],
             [
              0.8888888888888888,
              "#fdca26"
             ],
             [
              1,
              "#f0f921"
             ]
            ],
            "type": "surface"
           }
          ],
          "table": [
           {
            "cells": {
             "fill": {
              "color": "#EBF0F8"
             },
             "line": {
              "color": "white"
             }
            },
            "header": {
             "fill": {
              "color": "#C8D4E3"
             },
             "line": {
              "color": "white"
             }
            },
            "type": "table"
           }
          ]
         },
         "layout": {
          "annotationdefaults": {
           "arrowcolor": "#2a3f5f",
           "arrowhead": 0,
           "arrowwidth": 1
          },
          "autotypenumbers": "strict",
          "coloraxis": {
           "colorbar": {
            "outlinewidth": 0,
            "ticks": ""
           }
          },
          "colorscale": {
           "diverging": [
            [
             0,
             "#8e0152"
            ],
            [
             0.1,
             "#c51b7d"
            ],
            [
             0.2,
             "#de77ae"
            ],
            [
             0.3,
             "#f1b6da"
            ],
            [
             0.4,
             "#fde0ef"
            ],
            [
             0.5,
             "#f7f7f7"
            ],
            [
             0.6,
             "#e6f5d0"
            ],
            [
             0.7,
             "#b8e186"
            ],
            [
             0.8,
             "#7fbc41"
            ],
            [
             0.9,
             "#4d9221"
            ],
            [
             1,
             "#276419"
            ]
           ],
           "sequential": [
            [
             0,
             "#0d0887"
            ],
            [
             0.1111111111111111,
             "#46039f"
            ],
            [
             0.2222222222222222,
             "#7201a8"
            ],
            [
             0.3333333333333333,
             "#9c179e"
            ],
            [
             0.4444444444444444,
             "#bd3786"
            ],
            [
             0.5555555555555556,
             "#d8576b"
            ],
            [
             0.6666666666666666,
             "#ed7953"
            ],
            [
             0.7777777777777778,
             "#fb9f3a"
            ],
            [
             0.8888888888888888,
             "#fdca26"
            ],
            [
             1,
             "#f0f921"
            ]
           ],
           "sequentialminus": [
            [
             0,
             "#0d0887"
            ],
            [
             0.1111111111111111,
             "#46039f"
            ],
            [
             0.2222222222222222,
             "#7201a8"
            ],
            [
             0.3333333333333333,
             "#9c179e"
            ],
            [
             0.4444444444444444,
             "#bd3786"
            ],
            [
             0.5555555555555556,
             "#d8576b"
            ],
            [
             0.6666666666666666,
             "#ed7953"
            ],
            [
             0.7777777777777778,
             "#fb9f3a"
            ],
            [
             0.8888888888888888,
             "#fdca26"
            ],
            [
             1,
             "#f0f921"
            ]
           ]
          },
          "colorway": [
           "#636efa",
           "#EF553B",
           "#00cc96",
           "#ab63fa",
           "#FFA15A",
           "#19d3f3",
           "#FF6692",
           "#B6E880",
           "#FF97FF",
           "#FECB52"
          ],
          "font": {
           "color": "#2a3f5f"
          },
          "geo": {
           "bgcolor": "white",
           "lakecolor": "white",
           "landcolor": "#E5ECF6",
           "showlakes": true,
           "showland": true,
           "subunitcolor": "white"
          },
          "hoverlabel": {
           "align": "left"
          },
          "hovermode": "closest",
          "mapbox": {
           "style": "light"
          },
          "paper_bgcolor": "white",
          "plot_bgcolor": "#E5ECF6",
          "polar": {
           "angularaxis": {
            "gridcolor": "white",
            "linecolor": "white",
            "ticks": ""
           },
           "bgcolor": "#E5ECF6",
           "radialaxis": {
            "gridcolor": "white",
            "linecolor": "white",
            "ticks": ""
           }
          },
          "scene": {
           "xaxis": {
            "backgroundcolor": "#E5ECF6",
            "gridcolor": "white",
            "gridwidth": 2,
            "linecolor": "white",
            "showbackground": true,
            "ticks": "",
            "zerolinecolor": "white"
           },
           "yaxis": {
            "backgroundcolor": "#E5ECF6",
            "gridcolor": "white",
            "gridwidth": 2,
            "linecolor": "white",
            "showbackground": true,
            "ticks": "",
            "zerolinecolor": "white"
           },
           "zaxis": {
            "backgroundcolor": "#E5ECF6",
            "gridcolor": "white",
            "gridwidth": 2,
            "linecolor": "white",
            "showbackground": true,
            "ticks": "",
            "zerolinecolor": "white"
           }
          },
          "shapedefaults": {
           "line": {
            "color": "#2a3f5f"
           }
          },
          "ternary": {
           "aaxis": {
            "gridcolor": "white",
            "linecolor": "white",
            "ticks": ""
           },
           "baxis": {
            "gridcolor": "white",
            "linecolor": "white",
            "ticks": ""
           },
           "bgcolor": "#E5ECF6",
           "caxis": {
            "gridcolor": "white",
            "linecolor": "white",
            "ticks": ""
           }
          },
          "title": {
           "x": 0.05
          },
          "xaxis": {
           "automargin": true,
           "gridcolor": "white",
           "linecolor": "white",
           "ticks": "",
           "title": {
            "standoff": 15
           },
           "zerolinecolor": "white",
           "zerolinewidth": 2
          },
          "yaxis": {
           "automargin": true,
           "gridcolor": "white",
           "linecolor": "white",
           "ticks": "",
           "title": {
            "standoff": 15
           },
           "zerolinecolor": "white",
           "zerolinewidth": 2
          }
         }
        },
        "title": {
         "text": "Profit Distribution for Region 1"
        },
        "xaxis": {
         "anchor": "y",
         "domain": [
          0,
          1
         ],
         "title": {
          "text": "Profit"
         }
        },
        "yaxis": {
         "anchor": "x",
         "domain": [
          0,
          1
         ],
         "title": {
          "text": "count"
         }
        }
       }
      }
     },
     "metadata": {},
     "output_type": "display_data"
    }
   ],
   "source": [
    "# Convert profit values to a DataFrame\n",
    "df_profit_1 = pd.DataFrame({'Profit': profit_values})\n",
    "\n",
    "fig = px.histogram(df_profit_1, x='Profit', title='Profit Distribution for Region 1', nbins=30)\n",
    "fig.show()"
   ]
  },
  {
   "cell_type": "code",
   "execution_count": null,
   "metadata": {
    "trusted": false
   },
   "outputs": [
    {
     "name": "stdout",
     "output_type": "stream",
     "text": [
      "Mean profit = 41822.96248648426 for region  2\n",
      "95% confidence interval: (np.float64(-13790.339424570426), np.float64(95561.81276046397))\n",
      "Risk of losses = 7.199999999999999 %\n"
     ]
    }
   ],
   "source": [
    "target = gd_2_target_valid\n",
    "predictions = gd_2_predictions_valid\n",
    "region = 2\n",
    "sample_size = 500\n",
    "boostrap_size = 1000\n",
    "state = np.random.RandomState(42)\n",
    "profit_values = []\n",
    "for i in range(boostrap_size):\n",
    "    target_sample = target.sample(sample_size, replace=True, random_state=state)\n",
    "    predictions_sample = predictions[target_sample.index]\n",
    "    profit_values.append(profit(target_sample, predictions_sample))\n",
    "profit_values = pd.Series(profit_values)\n",
    "        \n",
    "mean_profit = profit_values.mean()\n",
    "confidence_interval = (profit_values.quantile(0.025), profit_values.quantile(0.975))\n",
    "negative_profit_chance = (profit_values < 0).mean()\n",
    "\n",
    "print(\"Mean profit =\", mean_profit, \"for region \", region)\n",
    "print(\"95% confidence interval:\", confidence_interval)\n",
    "print(\"Risk of losses =\", negative_profit_chance * 100, \"%\")"
   ]
  },
  {
   "cell_type": "code",
   "execution_count": 27,
   "metadata": {
    "trusted": false
   },
   "outputs": [
    {
     "data": {
      "application/vnd.plotly.v1+json": {
       "config": {
        "plotlyServerURL": "https://plot.ly"
       },
       "data": [
        {
         "alignmentgroup": "True",
         "bingroup": "x",
         "hovertemplate": "Profit=%{x}<br>count=%{y}<extra></extra>",
         "legendgroup": "",
         "marker": {
          "color": "#636efa",
          "pattern": {
           "shape": ""
          }
         },
         "name": "",
         "nbinsx": 30,
         "offsetgroup": "",
         "orientation": "v",
         "showlegend": false,
         "type": "histogram",
         "x": [
          29760.645350117935,
          47895.06387776637,
          48351.83244645363,
          51690.13138647843,
          35397.05666138313,
          87065.36869578762,
          -8035.005218428909,
          -5012.148643352557,
          67544.58451325912,
          81839.6487166353,
          88024.42122049839,
          52070.33189965016,
          -19008.861531279515,
          40713.08622899256,
          32676.272120529437,
          83458.41497473791,
          14932.112226701458,
          41167.664340362186,
          65848.40040468331,
          13325.83970173751,
          9254.744549090741,
          -24825.44382338482,
          36697.625035922974,
          -8110.798480757861,
          64624.940272777574,
          16096.933911886998,
          57842.51469313004,
          54818.05228477763,
          26352.883172863745,
          43362.57258247177,
          33556.36969743366,
          24857.423579645343,
          37592.54879209376,
          38458.96544607391,
          51115.7036374053,
          6405.510464901337,
          69772.63038894325,
          22250.661504663993,
          43178.234654997475,
          69530.27751064533,
          52726.86423567892,
          26307.129052132717,
          7098.707701468375,
          90736.2192835249,
          -7465.396207087673,
          56853.36936520296,
          89642.56548117357,
          63918.758446563035,
          27735.490268470603,
          37547.57580439793,
          56964.491293242434,
          5547.326274081366,
          60668.05673609348,
          52464.32150630932,
          69655.94452276314,
          53054.96206790791,
          44797.96890598652,
          -3391.7852585923392,
          32267.884579834994,
          22334.33210662182,
          70777.89113966585,
          52342.23255879013,
          48401.3073742094,
          24977.96266888152,
          40823.86842384201,
          33527.83725371596,
          57684.9397261159,
          100452.16136019118,
          841.5952339969808,
          46852.47485556686,
          37511.13678415946,
          34783.17631416966,
          70260.72840790753,
          82639.60326374671,
          43119.329798183055,
          30512.566898903693,
          49295.725547947455,
          8209.176058889949,
          58910.90280606737,
          71768.54590479913,
          25938.293218982406,
          35787.6657321346,
          82724.93989550113,
          46307.83727397618,
          59248.193611959694,
          20768.247733815922,
          11145.595994130708,
          -16179.758779280353,
          3377.269643844571,
          8773.98309873126,
          42234.87737534288,
          67145.16742309951,
          51994.68983343663,
          48872.10212740279,
          56964.96452212427,
          -109.25045732350554,
          29462.407706356375,
          24898.42804189888,
          62361.45574562764,
          -11596.486334530287,
          4985.016623336822,
          66058.5529462013,
          49398.86756337597,
          87634.64473493723,
          19193.565445309505,
          -26008.45241492975,
          60024.197605808266,
          44359.632196847815,
          46368.58546347718,
          68971.10162077914,
          -39808.00058078242,
          90737.903190471,
          35783.97350226971,
          24268.032450153027,
          43123.200400858535,
          57201.25452723005,
          52631.285013454966,
          6237.566853941884,
          19757.92084791127,
          54712.93985298555,
          7308.177252541063,
          22930.397727975156,
          -25582.6742929467,
          74859.36478403979,
          26411.745391306235,
          27309.2925236827,
          17202.6623772186,
          17176.88458920573,
          6332.313678445527,
          4142.240932615241,
          -3212.4357431943063,
          80210.72989388835,
          67712.02101613535,
          102807.3013064526,
          33996.93604897766,
          19731.390560550382,
          28142.747703952366,
          20328.816837283317,
          -15292.928929355578,
          36328.94571954617,
          31567.663013392128,
          48323.840837405995,
          39507.20771404437,
          50114.2759334303,
          34816.78526192135,
          72777.77892801724,
          24914.3391323142,
          67161.73089704313,
          66812.49109664722,
          65142.79376419098,
          -9893.425508676795,
          54086.56041360623,
          36638.32347996242,
          94281.40541887586,
          53391.21242019744,
          33305.403294570046,
          -40780.18214259099,
          7004.1210873042,
          44523.12487138808,
          44025.40115222824,
          -11225.066173781874,
          64594.08136933693,
          75271.69247513986,
          69086.92502520815,
          78084.1724371016,
          21099.879142371123,
          34925.11572523357,
          64879.23019559332,
          28887.01628784032,
          7686.233518375433,
          42887.01035617513,
          83937.12416554638,
          67354.64398950106,
          50770.346904240316,
          71600.5730970907,
          41118.647889509215,
          51275.34999854863,
          22991.159394411836,
          60392.69408937753,
          59379.369979779236,
          -3311.191701743868,
          478.0188056365587,
          66403.08587515773,
          39278.810611918336,
          38069.1883303473,
          47938.598812468816,
          49320.0902892563,
          30198.533358439454,
          79912.14838432078,
          79623.22343383473,
          37816.108754493296,
          44967.34562146035,
          97666.17070594104,
          46207.32712160132,
          84722.93659499683,
          30119.100425544428,
          33751.604930101545,
          24748.249930953607,
          -3726.1695316528203,
          15679.106524224626,
          60692.4199528317,
          57308.69939962588,
          84670.72524321335,
          39835.08535423211,
          46179.24771693826,
          32693.48866636888,
          38490.85118504451,
          88587.75037567364,
          31811.27671277919,
          81605.42773410515,
          46443.83224723069,
          47631.452418376924,
          60202.9960022734,
          61331.9545137682,
          31793.672888287692,
          33611.69132726046,
          34024.67867267993,
          48697.220197677845,
          58159.76939522661,
          7558.153277683188,
          18461.22563115717,
          476.9893598075723,
          28914.85437503725,
          4459.89495946886,
          23026.57006931724,
          70438.30275603407,
          15407.237212709733,
          18919.774322635494,
          81930.15698022954,
          81527.87954022642,
          -74.33170225215144,
          48008.26208832755,
          80714.60785985482,
          62628.341640491504,
          47729.15744022757,
          59344.66148189991,
          7628.969138270244,
          12937.897131139762,
          22987.680581368855,
          50118.83562773862,
          -10158.185255353572,
          10204.143880550633,
          15229.443184010335,
          59572.442213160684,
          94163.00523416442,
          55794.55416232324,
          18023.25282425934,
          70722.0383741199,
          83161.39024491026,
          19111.667510445695,
          8512.553485849523,
          36165.2263147434,
          86267.92049172823,
          41386.24056679336,
          48952.29050489422,
          47598.91228045488,
          53597.09778122697,
          56000.21490547899,
          76730.78420936875,
          53268.43071236345,
          42472.08126544778,
          -19163.646366061177,
          46365.208673124085,
          18811.900354823447,
          80138.55398643482,
          25555.42430179799,
          82489.38123959862,
          74547.48397315573,
          41507.760030734236,
          17940.513202622533,
          14560.605267843348,
          74462.30396131589,
          61826.380202275235,
          83618.93616696028,
          68131.59217480128,
          50314.11501011229,
          -890.5317009704886,
          65713.08449087129,
          60683.73209992633,
          8332.68069725053,
          37863.06282069569,
          54531.05100093363,
          -2099.496188997524,
          45490.92180345126,
          86785.85103973211,
          26349.93710925593,
          26776.42612696532,
          -14362.602257521707,
          40540.9104169074,
          109377.72375361482,
          39971.44455535954,
          40239.63530805975,
          42672.17647958733,
          18762.263270217692,
          35320.96968865837,
          56015.05516668549,
          -25097.599310418358,
          39620.042144149775,
          47604.23871581629,
          -13775.666018597316,
          73414.24931059894,
          125421.07316263625,
          85108.73014787771,
          80616.30950928596,
          20679.921187889646,
          -10456.561292979517,
          55900.222767030355,
          38840.59412773058,
          16994.65453084209,
          78985.15473481221,
          18440.447882809327,
          33856.6609833776,
          49297.50484508998,
          33959.78481182561,
          8328.988907667808,
          25471.816127304337,
          65400.07250402914,
          34367.40484168648,
          76097.11367230304,
          64913.26320104487,
          25781.63025749044,
          49117.24805156118,
          23702.622667798423,
          41781.985356327146,
          37726.90575823735,
          36235.26316434657,
          81134.05425851909,
          34797.95922511292,
          65737.21898594126,
          39887.12798445183,
          69517.89294547075,
          34181.718989480054,
          86080.88453948381,
          53164.59477348719,
          -13730.680484305136,
          15910.072133257869,
          71145.60522818053,
          -9679.454114638735,
          70476.83271520794,
          66355.11778839561,
          44590.986161276116,
          41490.85576293676,
          72376.79826817662,
          100110.79743177444,
          137399.28690212802,
          57611.39361280762,
          25678.33306955744,
          97315.80949847656,
          99326.16556549817,
          71441.74021130381,
          71075.39367789286,
          47378.841972516966,
          50359.401455299696,
          33086.28963427385,
          44974.16159378097,
          5948.731991349137,
          33367.68258416059,
          44896.09910205996,
          52577.55512651522,
          27201.15131655673,
          2618.361060173018,
          49057.850338028045,
          55615.50456390553,
          -25427.99017136765,
          27496.28751370893,
          97799.2943850318,
          52053.11476612813,
          23902.252703837003,
          43113.77544079302,
          66345.27020886075,
          48698.43150042789,
          68385.14460283238,
          55729.72111755959,
          18566.206196346902,
          50369.59421139001,
          86422.63301809295,
          28729.7602004403,
          42081.985647833324,
          24231.219086508267,
          45965.566576491925,
          -10124.74364770914,
          48024.32101049798,
          26870.930543849943,
          30648.314702897216,
          31618.16618511628,
          82270.15184134524,
          32024.643705756636,
          3017.4108212095452,
          27683.888920057216,
          38429.79729677783,
          77912.75968726212,
          15061.34863227245,
          17191.918104858836,
          33002.79934044182,
          45078.8025329822,
          42918.997892101994,
          20814.33371417341,
          92462.87913942942,
          34083.29870117223,
          36719.11721514864,
          27017.948330381885,
          80101.84674685099,
          22589.011519355467,
          51583.92578737554,
          61016.497813736554,
          12963.832839732058,
          5197.44193741295,
          111341.83004873362,
          -1793.3686886224896,
          40305.073775424156,
          39411.38501434389,
          17021.24891251698,
          39665.225122033735,
          84622.14300618623,
          54602.17211983632,
          13218.956709973281,
          56673.81255756342,
          38777.46483502549,
          -28296.5133367558,
          28803.361831275164,
          70181.97082550498,
          84447.79577071057,
          3941.623476669076,
          31039.833007221692,
          41068.59309602436,
          69408.49059027247,
          16306.517134284484,
          60581.79956182768,
          38674.023974998854,
          41427.48204584385,
          68103.22197692888,
          -12576.948676387081,
          55158.31127007492,
          90115.74440977233,
          40882.36554354709,
          31372.6809307175,
          33633.534429804655,
          40673.7072536262,
          95336.48450263264,
          79980.10407922161,
          79158.9659739912,
          43824.8914012817,
          23633.926888161455,
          84134.27329985728,
          36329.12735674309,
          68978.2815670704,
          31509.96685760969,
          42160.259551130584,
          24352.19666081248,
          59567.85654967511,
          51463.74230378005,
          39606.61578217638,
          -21327.73686630046,
          29919.646378898993,
          80807.57759606489,
          73401.4600855303,
          -8372.311860532034,
          46051.2970493976,
          46647.76847008383,
          26520.0344469758,
          62458.49411506718,
          101187.65016372153,
          78983.51645125542,
          50748.7469045748,
          51441.79049613443,
          26501.021809848957,
          474.494487229269,
          8000.34818495845,
          62505.71770122205,
          31151.033324559103,
          72241.00693845516,
          70153.04106051335,
          22097.478778626653,
          -41441.29607393872,
          64282.78359685023,
          -18498.28133013763,
          11116.054972222424,
          33815.74679374334,
          -3594.36538503028,
          77070.27794058062,
          279.9186089034192,
          76310.62330934708,
          91400.50808562501,
          6605.4132425860735,
          21152.168942977907,
          12305.737737815245,
          48081.03442068794,
          -5719.60089810472,
          25991.500752520515,
          46097.6122576897,
          49360.36860750662,
          78021.53476404538,
          40624.33416068903,
          23849.567345591728,
          65441.733981460566,
          -37056.96152155008,
          50791.357164409244,
          46792.09446503373,
          95545.59283922007,
          49516.056625325466,
          4502.611967055942,
          36451.32924104342,
          96094.63400384574,
          26290.132420097943,
          23411.823091416154,
          19331.924305989523,
          17166.313382511842,
          30650.436026075622,
          34931.10812191735,
          52819.00146948756,
          20922.020508265356,
          51970.385062455665,
          23803.96316664724,
          37085.466995750554,
          51652.111728186486,
          14267.639011396794,
          1433.0160519345663,
          87522.16000260902,
          59496.13640573528,
          70171.43948581815,
          33227.2169563428,
          63849.00378163671,
          -4565.207902517868,
          6567.996077195508,
          30182.830277091358,
          18993.426801389083,
          6860.491965648835,
          38087.299948046915,
          38823.21062808635,
          42897.715047825244,
          63789.21143231983,
          31377.70603958913,
          19003.58597543498,
          94028.03751773015,
          6381.278861204046,
          3451.000955260475,
          22893.9592320394,
          76922.0335635508,
          37845.42972073518,
          35828.01133882452,
          27017.27102038113,
          68921.69328696094,
          43922.2175662911,
          32075.82220316422,
          80225.4722324803,
          42006.97377450112,
          31147.22933183401,
          65450.78059802228,
          39128.505537619465,
          57365.22949081659,
          45094.2518829843,
          63733.19174935273,
          73365.31061642594,
          5292.704129301477,
          28881.015212655067,
          56923.06214873376,
          36995.9105158489,
          386.6048758145189,
          102461.55092337704,
          29542.342955109896,
          57488.82485026936,
          19573.588260950288,
          47367.86076720955,
          60653.34545298247,
          -903.8487107787514,
          32716.068606587127,
          47094.94338280917,
          45294.09080533218,
          48135.27680122072,
          36760.84401330352,
          5394.5362057372695,
          4080.1489952473203,
          46608.69011115201,
          28399.54814690526,
          82851.12587822834,
          20286.312727064127,
          28440.814956963877,
          46646.815213421825,
          19870.43301673245,
          31712.72243283165,
          44968.46031926409,
          33774.79652308824,
          32643.58988077147,
          114644.12902307604,
          70800.77604138898,
          27888.700183218578,
          54718.68810270191,
          17258.289697951404,
          41448.52100401127,
          31761.32693942322,
          69036.69044263544,
          28182.357975951163,
          63022.97805311112,
          29491.180692666676,
          25445.774872293347,
          -4229.182081207284,
          47354.266397376894,
          14944.995432405733,
          45271.375839705346,
          36850.344033092144,
          34793.4207174757,
          72457.30579138896,
          50119.85341344401,
          39267.47512109019,
          20170.546206874424,
          64229.80677389982,
          49930.28919802606,
          65982.98173906282,
          11217.886019519996,
          94015.22034047311,
          16960.756921305205,
          24965.24459235405,
          49644.41924650525,
          58151.41852354654,
          53953.910385788186,
          8020.288109054556,
          31018.838765554712,
          58667.56255187187,
          95205.98267911747,
          -5226.295561844134,
          44706.48991370213,
          30814.030977468705,
          30586.619619984413,
          50223.315066020004,
          22328.694289429463,
          11172.605048327241,
          31640.69433758664,
          18560.65907769371,
          70580.19518212159,
          33082.06594226882,
          5175.73230182007,
          65800.57953936001,
          16535.191046053078,
          66119.81653106702,
          74794.75198461371,
          40491.22968838271,
          41901.95799902058,
          50028.04100802983,
          31987.828612860176,
          49967.75643755216,
          47579.11125220533,
          51612.105394934304,
          -17450.577341396012,
          82276.38903550035,
          59805.63214546791,
          64957.81916349451,
          43784.65963053494,
          48355.56405544677,
          28056.25747185247,
          61895.1545485782,
          14609.52075103682,
          70188.85141943395,
          75566.19623318547,
          74952.24185689236,
          59006.303633100586,
          -36674.79237095418,
          90192.78491258807,
          37934.30889734288,
          39116.42078114324,
          46161.125305052265,
          58085.39118576306,
          32601.8438968549,
          40213.96081189299,
          89138.15980565944,
          41894.58526749839,
          57822.43113793642,
          49546.44708488905,
          58379.12245414662,
          75943.72126898682,
          -26113.85849115369,
          40374.06727242505,
          68939.22297494649,
          931.0560412728228,
          87025.9635648909,
          7982.794598935405,
          40275.18365558644,
          38747.553214971325,
          67496.87626870349,
          88865.6276096385,
          25896.507962535834,
          96932.95045511564,
          -5857.752674153773,
          40923.37447904388,
          33131.23076903599,
          64406.23059423384,
          41438.75803354767,
          46267.0073503654,
          5404.810165658244,
          74398.19021166349,
          -5552.959760889644,
          91135.75819823495,
          94705.51891321293,
          16779.88608287787,
          16305.727310776478,
          -1691.940232782741,
          23761.615837249905,
          20480.152561595663,
          48247.63142229128,
          8257.564461152884,
          31989.594177007442,
          70934.39060873538,
          80390.48820733,
          19710.00161686237,
          6630.6596151194535,
          35947.10719437967,
          48485.407683618716,
          46338.94056214811,
          40812.34763682773,
          27908.19297741924,
          37412.591842583264,
          62709.960750015685,
          -1920.996850031428,
          24106.945092928014,
          17814.51925837295,
          28756.386260380736,
          52615.939461923204,
          7849.570750515908,
          24670.11460641655,
          58278.875269284705,
          17106.351102314657,
          16807.472412563395,
          81828.75809103111,
          59915.63759430754,
          64911.09871431952,
          41104.64741651958,
          69693.01937530702,
          41263.48502831161,
          -13630.911826310097,
          95761.71561046527,
          16338.4007061671,
          19954.456469636643,
          20332.357919342816,
          24095.22606899403,
          47282.66546957998,
          93568.43264846131,
          46191.92180689727,
          46573.91199693782,
          -7340.339261693298,
          28703.169201593497,
          20955.1264987936,
          51485.67803917476,
          46305.51229921228,
          105458.16482533794,
          52328.51984774461,
          -4208.559973919648,
          17091.5442032204,
          10484.64352343767,
          72992.34773397655,
          42341.047663559904,
          42764.202347162995,
          56346.7495976917,
          53475.74497175985,
          22037.033364769188,
          -14427.776216610335,
          2103.6561854688916,
          78672.0212293216,
          11057.535637755063,
          50852.98769029812,
          75854.17691124533,
          33739.266927267425,
          25604.105880095274,
          39840.923024202115,
          81743.70411966159,
          35878.6378698101,
          11021.973164807423,
          51589.670167815406,
          46728.64198606589,
          24490.39357560966,
          34359.24492486892,
          32195.49468338734,
          -3029.523258690955,
          74226.3338492394,
          83362.99129411764,
          39827.141398180975,
          10430.858232600847,
          58916.54456416378,
          41728.37723914138,
          3379.1175386679824,
          53063.336022150936,
          43148.8496726132,
          63997.43840652192,
          78355.33522693999,
          59296.183060059324,
          19973.26229808922,
          47522.73457376892,
          33714.943108933396,
          60462.343818960944,
          79720.16869341861,
          50287.6394701947,
          69459.38274248852,
          -9414.871526364353,
          29620.101785419043,
          33874.88381773059,
          29855.464313900913,
          14254.88231425092,
          78968.51042093849,
          39825.92705046234,
          90394.16910180706,
          52712.60509337415,
          37568.42877595546,
          19658.895023480523,
          24657.544317330117,
          21937.223352981964,
          17081.124239447876,
          85705.14933706285,
          66870.89234035299,
          42618.04483011109,
          67640.52630320564,
          -6714.546736308839,
          50130.75616866234,
          32473.259907770902,
          37363.85566180234,
          95692.96739150514,
          30504.949919008417,
          59630.956435109954,
          111433.68875671411,
          68662.40118368459,
          82809.5679290623,
          109408.02510988014,
          18179.50301856862,
          28255.499043488177,
          30826.76690816204,
          44934.00583716773,
          46296.18734095525,
          30119.483199306065,
          78788.85463389475,
          18059.554826530744,
          71205.31235532858,
          75800.72382744332,
          49387.771528594196,
          23188.00589299004,
          15625.696172233904,
          87894.05798471952,
          798.0139290604275,
          12120.400929715252,
          60482.19737177971,
          39537.60073306563,
          38745.507201069035,
          37829.14083912375,
          20653.651313726907,
          -8289.922688433668,
          27977.56495395,
          39196.18457937683,
          63415.03397168266,
          28955.46492661431,
          82422.6684009831,
          25418.801578723593,
          37850.417243990465,
          97047.18572913017,
          32203.867684498895,
          24005.546376109007,
          49742.27982973284,
          89846.85386789078,
          28450.305870462093,
          28974.223340590717,
          91833.45146225975,
          10411.92301746877,
          58974.30450904439,
          60432.84572345973,
          -823.4505085370038,
          -25780.72194968781,
          12898.32692313462,
          37347.095029173535,
          30275.598500475986,
          78360.56597764557,
          12894.005584450322,
          16626.387952553807,
          95558.44982120651,
          53096.846809525276,
          27523.667025222094,
          24380.044514846406,
          60541.547812893055,
          5520.149941741256,
          -16480.69828145532,
          25389.039599801647,
          63877.220790516585,
          54889.437104149256,
          35886.98325932445,
          62746.64608697686,
          18378.96822218399,
          46767.28636101342,
          -547.430251868791,
          69271.9523991216,
          62322.20309986803,
          2074.8583401957294,
          24775.1898314649,
          67767.89401030121,
          74455.17643822008,
          51942.87415538076,
          42762.228823342826,
          33133.51900545368,
          8862.28258861648,
          67712.49774277303,
          59767.52651705267,
          45282.600971604465,
          31976.52202968439,
          80674.21747918078,
          98879.4934892985,
          30611.456395932822,
          84975.4409682306,
          22079.018776753917,
          39258.593097293866,
          68300.86451757583,
          48540.31406412611,
          7311.392793914187,
          10933.374553609057,
          32613.699250447098,
          59355.0029593287,
          26127.24196995166,
          64292.57141874707,
          70457.49060710077,
          63182.04241323215,
          40584.26432343887,
          59288.78412615624,
          10074.788411854184,
          75270.30005783658,
          83375.9997608685,
          23432.71442313108,
          25327.88253671059,
          83875.77871248871,
          285.79791769199073,
          20788.180531502934,
          -44708.45236043597,
          56950.89074178762,
          56973.29759317916,
          94202.1047013225,
          63094.00167210284,
          104620.51569425222,
          53886.188442401355,
          49481.03061069967,
          25818.285970993107,
          -1298.8371061821235,
          65535.94760765019,
          66341.02017134824,
          48997.66502412874,
          54495.00825721235,
          25171.1975592511,
          53429.19457902014,
          56563.03802362317,
          20918.857216880424,
          38631.60995664075,
          12037.458115155809,
          51908.825961116,
          -13230.93516447919,
          34613.27696346922,
          35459.235954833566,
          24379.206253345707,
          61359.373424093705,
          50333.62697198801,
          59202.1233251479,
          62701.40257855225,
          27652.40773430199,
          79606.14250131766,
          66766.39499684144,
          15301.408508450957,
          30105.56941208511,
          42513.84283474425,
          60214.65476944158,
          11940.539346652804,
          35426.94953317556,
          36280.801572119,
          63724.57807627623,
          17811.18450588314,
          -15868.290313554462,
          82079.95606258512,
          51342.034280098276,
          52736.72529032477,
          4185.597392115858,
          20627.233575599268,
          62181.15948156337,
          27470.256173769943,
          54056.16009499505,
          25208.336149413488,
          54383.24198754504,
          99143.96763837454,
          68740.5886370365,
          8887.655130330822,
          44477.542686339235,
          60869.42014618497,
          62148.67430478893,
          45379.71413090534,
          35506.41522033571,
          23980.10629131901,
          -6349.3790820961585,
          62918.20525340014,
          25642.572048572125,
          54735.75435214839,
          84120.94045008486,
          52466.78303166409,
          30902.607785030617,
          16450.483423292753,
          59817.68494590791,
          84850.56547571346,
          43518.182030651136,
          21506.650220183074,
          73255.58397618285,
          28609.364162875223,
          54868.42854918027,
          -1551.0970807962585,
          20032.991209484637
         ],
         "xaxis": "x",
         "yaxis": "y"
        }
       ],
       "layout": {
        "barmode": "relative",
        "legend": {
         "tracegroupgap": 0
        },
        "template": {
         "data": {
          "bar": [
           {
            "error_x": {
             "color": "#2a3f5f"
            },
            "error_y": {
             "color": "#2a3f5f"
            },
            "marker": {
             "line": {
              "color": "#E5ECF6",
              "width": 0.5
             },
             "pattern": {
              "fillmode": "overlay",
              "size": 10,
              "solidity": 0.2
             }
            },
            "type": "bar"
           }
          ],
          "barpolar": [
           {
            "marker": {
             "line": {
              "color": "#E5ECF6",
              "width": 0.5
             },
             "pattern": {
              "fillmode": "overlay",
              "size": 10,
              "solidity": 0.2
             }
            },
            "type": "barpolar"
           }
          ],
          "carpet": [
           {
            "aaxis": {
             "endlinecolor": "#2a3f5f",
             "gridcolor": "white",
             "linecolor": "white",
             "minorgridcolor": "white",
             "startlinecolor": "#2a3f5f"
            },
            "baxis": {
             "endlinecolor": "#2a3f5f",
             "gridcolor": "white",
             "linecolor": "white",
             "minorgridcolor": "white",
             "startlinecolor": "#2a3f5f"
            },
            "type": "carpet"
           }
          ],
          "choropleth": [
           {
            "colorbar": {
             "outlinewidth": 0,
             "ticks": ""
            },
            "type": "choropleth"
           }
          ],
          "contour": [
           {
            "colorbar": {
             "outlinewidth": 0,
             "ticks": ""
            },
            "colorscale": [
             [
              0,
              "#0d0887"
             ],
             [
              0.1111111111111111,
              "#46039f"
             ],
             [
              0.2222222222222222,
              "#7201a8"
             ],
             [
              0.3333333333333333,
              "#9c179e"
             ],
             [
              0.4444444444444444,
              "#bd3786"
             ],
             [
              0.5555555555555556,
              "#d8576b"
             ],
             [
              0.6666666666666666,
              "#ed7953"
             ],
             [
              0.7777777777777778,
              "#fb9f3a"
             ],
             [
              0.8888888888888888,
              "#fdca26"
             ],
             [
              1,
              "#f0f921"
             ]
            ],
            "type": "contour"
           }
          ],
          "contourcarpet": [
           {
            "colorbar": {
             "outlinewidth": 0,
             "ticks": ""
            },
            "type": "contourcarpet"
           }
          ],
          "heatmap": [
           {
            "colorbar": {
             "outlinewidth": 0,
             "ticks": ""
            },
            "colorscale": [
             [
              0,
              "#0d0887"
             ],
             [
              0.1111111111111111,
              "#46039f"
             ],
             [
              0.2222222222222222,
              "#7201a8"
             ],
             [
              0.3333333333333333,
              "#9c179e"
             ],
             [
              0.4444444444444444,
              "#bd3786"
             ],
             [
              0.5555555555555556,
              "#d8576b"
             ],
             [
              0.6666666666666666,
              "#ed7953"
             ],
             [
              0.7777777777777778,
              "#fb9f3a"
             ],
             [
              0.8888888888888888,
              "#fdca26"
             ],
             [
              1,
              "#f0f921"
             ]
            ],
            "type": "heatmap"
           }
          ],
          "heatmapgl": [
           {
            "colorbar": {
             "outlinewidth": 0,
             "ticks": ""
            },
            "colorscale": [
             [
              0,
              "#0d0887"
             ],
             [
              0.1111111111111111,
              "#46039f"
             ],
             [
              0.2222222222222222,
              "#7201a8"
             ],
             [
              0.3333333333333333,
              "#9c179e"
             ],
             [
              0.4444444444444444,
              "#bd3786"
             ],
             [
              0.5555555555555556,
              "#d8576b"
             ],
             [
              0.6666666666666666,
              "#ed7953"
             ],
             [
              0.7777777777777778,
              "#fb9f3a"
             ],
             [
              0.8888888888888888,
              "#fdca26"
             ],
             [
              1,
              "#f0f921"
             ]
            ],
            "type": "heatmapgl"
           }
          ],
          "histogram": [
           {
            "marker": {
             "pattern": {
              "fillmode": "overlay",
              "size": 10,
              "solidity": 0.2
             }
            },
            "type": "histogram"
           }
          ],
          "histogram2d": [
           {
            "colorbar": {
             "outlinewidth": 0,
             "ticks": ""
            },
            "colorscale": [
             [
              0,
              "#0d0887"
             ],
             [
              0.1111111111111111,
              "#46039f"
             ],
             [
              0.2222222222222222,
              "#7201a8"
             ],
             [
              0.3333333333333333,
              "#9c179e"
             ],
             [
              0.4444444444444444,
              "#bd3786"
             ],
             [
              0.5555555555555556,
              "#d8576b"
             ],
             [
              0.6666666666666666,
              "#ed7953"
             ],
             [
              0.7777777777777778,
              "#fb9f3a"
             ],
             [
              0.8888888888888888,
              "#fdca26"
             ],
             [
              1,
              "#f0f921"
             ]
            ],
            "type": "histogram2d"
           }
          ],
          "histogram2dcontour": [
           {
            "colorbar": {
             "outlinewidth": 0,
             "ticks": ""
            },
            "colorscale": [
             [
              0,
              "#0d0887"
             ],
             [
              0.1111111111111111,
              "#46039f"
             ],
             [
              0.2222222222222222,
              "#7201a8"
             ],
             [
              0.3333333333333333,
              "#9c179e"
             ],
             [
              0.4444444444444444,
              "#bd3786"
             ],
             [
              0.5555555555555556,
              "#d8576b"
             ],
             [
              0.6666666666666666,
              "#ed7953"
             ],
             [
              0.7777777777777778,
              "#fb9f3a"
             ],
             [
              0.8888888888888888,
              "#fdca26"
             ],
             [
              1,
              "#f0f921"
             ]
            ],
            "type": "histogram2dcontour"
           }
          ],
          "mesh3d": [
           {
            "colorbar": {
             "outlinewidth": 0,
             "ticks": ""
            },
            "type": "mesh3d"
           }
          ],
          "parcoords": [
           {
            "line": {
             "colorbar": {
              "outlinewidth": 0,
              "ticks": ""
             }
            },
            "type": "parcoords"
           }
          ],
          "pie": [
           {
            "automargin": true,
            "type": "pie"
           }
          ],
          "scatter": [
           {
            "fillpattern": {
             "fillmode": "overlay",
             "size": 10,
             "solidity": 0.2
            },
            "type": "scatter"
           }
          ],
          "scatter3d": [
           {
            "line": {
             "colorbar": {
              "outlinewidth": 0,
              "ticks": ""
             }
            },
            "marker": {
             "colorbar": {
              "outlinewidth": 0,
              "ticks": ""
             }
            },
            "type": "scatter3d"
           }
          ],
          "scattercarpet": [
           {
            "marker": {
             "colorbar": {
              "outlinewidth": 0,
              "ticks": ""
             }
            },
            "type": "scattercarpet"
           }
          ],
          "scattergeo": [
           {
            "marker": {
             "colorbar": {
              "outlinewidth": 0,
              "ticks": ""
             }
            },
            "type": "scattergeo"
           }
          ],
          "scattergl": [
           {
            "marker": {
             "colorbar": {
              "outlinewidth": 0,
              "ticks": ""
             }
            },
            "type": "scattergl"
           }
          ],
          "scattermapbox": [
           {
            "marker": {
             "colorbar": {
              "outlinewidth": 0,
              "ticks": ""
             }
            },
            "type": "scattermapbox"
           }
          ],
          "scatterpolar": [
           {
            "marker": {
             "colorbar": {
              "outlinewidth": 0,
              "ticks": ""
             }
            },
            "type": "scatterpolar"
           }
          ],
          "scatterpolargl": [
           {
            "marker": {
             "colorbar": {
              "outlinewidth": 0,
              "ticks": ""
             }
            },
            "type": "scatterpolargl"
           }
          ],
          "scatterternary": [
           {
            "marker": {
             "colorbar": {
              "outlinewidth": 0,
              "ticks": ""
             }
            },
            "type": "scatterternary"
           }
          ],
          "surface": [
           {
            "colorbar": {
             "outlinewidth": 0,
             "ticks": ""
            },
            "colorscale": [
             [
              0,
              "#0d0887"
             ],
             [
              0.1111111111111111,
              "#46039f"
             ],
             [
              0.2222222222222222,
              "#7201a8"
             ],
             [
              0.3333333333333333,
              "#9c179e"
             ],
             [
              0.4444444444444444,
              "#bd3786"
             ],
             [
              0.5555555555555556,
              "#d8576b"
             ],
             [
              0.6666666666666666,
              "#ed7953"
             ],
             [
              0.7777777777777778,
              "#fb9f3a"
             ],
             [
              0.8888888888888888,
              "#fdca26"
             ],
             [
              1,
              "#f0f921"
             ]
            ],
            "type": "surface"
           }
          ],
          "table": [
           {
            "cells": {
             "fill": {
              "color": "#EBF0F8"
             },
             "line": {
              "color": "white"
             }
            },
            "header": {
             "fill": {
              "color": "#C8D4E3"
             },
             "line": {
              "color": "white"
             }
            },
            "type": "table"
           }
          ]
         },
         "layout": {
          "annotationdefaults": {
           "arrowcolor": "#2a3f5f",
           "arrowhead": 0,
           "arrowwidth": 1
          },
          "autotypenumbers": "strict",
          "coloraxis": {
           "colorbar": {
            "outlinewidth": 0,
            "ticks": ""
           }
          },
          "colorscale": {
           "diverging": [
            [
             0,
             "#8e0152"
            ],
            [
             0.1,
             "#c51b7d"
            ],
            [
             0.2,
             "#de77ae"
            ],
            [
             0.3,
             "#f1b6da"
            ],
            [
             0.4,
             "#fde0ef"
            ],
            [
             0.5,
             "#f7f7f7"
            ],
            [
             0.6,
             "#e6f5d0"
            ],
            [
             0.7,
             "#b8e186"
            ],
            [
             0.8,
             "#7fbc41"
            ],
            [
             0.9,
             "#4d9221"
            ],
            [
             1,
             "#276419"
            ]
           ],
           "sequential": [
            [
             0,
             "#0d0887"
            ],
            [
             0.1111111111111111,
             "#46039f"
            ],
            [
             0.2222222222222222,
             "#7201a8"
            ],
            [
             0.3333333333333333,
             "#9c179e"
            ],
            [
             0.4444444444444444,
             "#bd3786"
            ],
            [
             0.5555555555555556,
             "#d8576b"
            ],
            [
             0.6666666666666666,
             "#ed7953"
            ],
            [
             0.7777777777777778,
             "#fb9f3a"
            ],
            [
             0.8888888888888888,
             "#fdca26"
            ],
            [
             1,
             "#f0f921"
            ]
           ],
           "sequentialminus": [
            [
             0,
             "#0d0887"
            ],
            [
             0.1111111111111111,
             "#46039f"
            ],
            [
             0.2222222222222222,
             "#7201a8"
            ],
            [
             0.3333333333333333,
             "#9c179e"
            ],
            [
             0.4444444444444444,
             "#bd3786"
            ],
            [
             0.5555555555555556,
             "#d8576b"
            ],
            [
             0.6666666666666666,
             "#ed7953"
            ],
            [
             0.7777777777777778,
             "#fb9f3a"
            ],
            [
             0.8888888888888888,
             "#fdca26"
            ],
            [
             1,
             "#f0f921"
            ]
           ]
          },
          "colorway": [
           "#636efa",
           "#EF553B",
           "#00cc96",
           "#ab63fa",
           "#FFA15A",
           "#19d3f3",
           "#FF6692",
           "#B6E880",
           "#FF97FF",
           "#FECB52"
          ],
          "font": {
           "color": "#2a3f5f"
          },
          "geo": {
           "bgcolor": "white",
           "lakecolor": "white",
           "landcolor": "#E5ECF6",
           "showlakes": true,
           "showland": true,
           "subunitcolor": "white"
          },
          "hoverlabel": {
           "align": "left"
          },
          "hovermode": "closest",
          "mapbox": {
           "style": "light"
          },
          "paper_bgcolor": "white",
          "plot_bgcolor": "#E5ECF6",
          "polar": {
           "angularaxis": {
            "gridcolor": "white",
            "linecolor": "white",
            "ticks": ""
           },
           "bgcolor": "#E5ECF6",
           "radialaxis": {
            "gridcolor": "white",
            "linecolor": "white",
            "ticks": ""
           }
          },
          "scene": {
           "xaxis": {
            "backgroundcolor": "#E5ECF6",
            "gridcolor": "white",
            "gridwidth": 2,
            "linecolor": "white",
            "showbackground": true,
            "ticks": "",
            "zerolinecolor": "white"
           },
           "yaxis": {
            "backgroundcolor": "#E5ECF6",
            "gridcolor": "white",
            "gridwidth": 2,
            "linecolor": "white",
            "showbackground": true,
            "ticks": "",
            "zerolinecolor": "white"
           },
           "zaxis": {
            "backgroundcolor": "#E5ECF6",
            "gridcolor": "white",
            "gridwidth": 2,
            "linecolor": "white",
            "showbackground": true,
            "ticks": "",
            "zerolinecolor": "white"
           }
          },
          "shapedefaults": {
           "line": {
            "color": "#2a3f5f"
           }
          },
          "ternary": {
           "aaxis": {
            "gridcolor": "white",
            "linecolor": "white",
            "ticks": ""
           },
           "baxis": {
            "gridcolor": "white",
            "linecolor": "white",
            "ticks": ""
           },
           "bgcolor": "#E5ECF6",
           "caxis": {
            "gridcolor": "white",
            "linecolor": "white",
            "ticks": ""
           }
          },
          "title": {
           "x": 0.05
          },
          "xaxis": {
           "automargin": true,
           "gridcolor": "white",
           "linecolor": "white",
           "ticks": "",
           "title": {
            "standoff": 15
           },
           "zerolinecolor": "white",
           "zerolinewidth": 2
          },
          "yaxis": {
           "automargin": true,
           "gridcolor": "white",
           "linecolor": "white",
           "ticks": "",
           "title": {
            "standoff": 15
           },
           "zerolinecolor": "white",
           "zerolinewidth": 2
          }
         }
        },
        "title": {
         "text": "Profit Distribution for Region 2"
        },
        "xaxis": {
         "anchor": "y",
         "domain": [
          0,
          1
         ],
         "title": {
          "text": "Profit"
         }
        },
        "yaxis": {
         "anchor": "x",
         "domain": [
          0,
          1
         ],
         "title": {
          "text": "count"
         }
        }
       }
      }
     },
     "metadata": {},
     "output_type": "display_data"
    }
   ],
   "source": [
    "# Convert profit values to a DataFrame\n",
    "df_profit_2 = pd.DataFrame({'Profit': profit_values})\n",
    "\n",
    "fig = px.histogram(df_profit_2, x='Profit', title='Profit Distribution for Region 2', nbins=30)\n",
    "fig.show()"
   ]
  },
  {
   "cell_type": "markdown",
   "metadata": {},
   "source": [
    "# Conclusion\n",
    "\n",
    "Based on the analysis of oil reserves and profit projections across the three regions, Region 0 emerges as the most profitable option, with an estimated profit of $332,082.60. However, none of the regions meet the break-even requirement of 111.11 thousand barrels per well, indicating potential financial risk in all cases.\n",
    "\n",
    "While Region 1 has the lowest risk of losses (0.4%) and a relatively stable profit margin, its low average predicted reserves (68.73 thousand barrels) make it an unviable option. Region 2 has the highest average predicted reserves (94.97 thousand barrels) but comes with a higher risk of losses (7.2%).\n",
    "\n",
    "Despite Region 0 being the most profitable, the risk of losses and the failure to meet the break-even point suggest that further investment in oil extraction should be carefully evaluated. A more in-depth economic feasibility study or alternative cost-cutting measures may be necessary before proceeding with oil well development."
   ]
  }
 ],
 "metadata": {
  "ExecuteTimeLog": [
   {
    "duration": 7,
    "start_time": "2025-02-01T09:19:17.723Z"
   }
  ],
  "kernelspec": {
   "display_name": "Python 3 (ipykernel)",
   "language": "python",
   "name": "python3"
  },
  "language_info": {
   "codemirror_mode": {
    "name": "ipython",
    "version": 3
   },
   "file_extension": ".py",
   "mimetype": "text/x-python",
   "name": "python",
   "nbconvert_exporter": "python",
   "pygments_lexer": "ipython3",
   "version": "3.9.19"
  },
  "toc": {
   "base_numbering": 1,
   "nav_menu": {},
   "number_sections": true,
   "sideBar": true,
   "skip_h1_title": true,
   "title_cell": "Table of Contents",
   "title_sidebar": "Contents",
   "toc_cell": false,
   "toc_position": {},
   "toc_section_display": true,
   "toc_window_display": false
  }
 },
 "nbformat": 4,
 "nbformat_minor": 4
}
