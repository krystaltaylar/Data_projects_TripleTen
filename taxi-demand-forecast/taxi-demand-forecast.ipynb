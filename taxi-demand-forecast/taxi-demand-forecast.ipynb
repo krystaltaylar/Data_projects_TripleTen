{
 "cells": [
  {
   "cell_type": "markdown",
   "metadata": {},
   "source": [
    "# Project description\n",
    "\n",
    "Sweet Lift Taxi company has collected historical data on taxi orders at airports. To attract more drivers during peak hours, we need to predict the amount of taxi orders for the next hour. Build a model for such a prediction.\n",
    "\n",
    "The RMSE metric on the test set should not be more than 48.\n",
    "\n",
    "## Project instructions\n",
    "\n",
    "1. Download the data and resample it by one hour.\n",
    "2. Analyze the data.\n",
    "3. Train different models with different hyperparameters. The test sample should be 10% of the initial dataset. \n",
    "4. Test the data using the test sample and provide a conclusion.\n",
    "\n",
    "## Data description\n",
    "\n",
    "The data is stored in file `taxi.csv`. The number of orders is in the '*num_orders*' column."
   ]
  },
  {
   "cell_type": "markdown",
   "metadata": {},
   "source": [
    "## Preparation"
   ]
  },
  {
   "cell_type": "code",
   "execution_count": 22,
   "metadata": {
    "trusted": true
   },
   "outputs": [],
   "source": [
    "import pandas as pd\n",
    "import numpy as np\n",
    "from matplotlib import pyplot as plt\n",
    "from sklearn.model_selection import train_test_split, RandomizedSearchCV\n",
    "from sklearn.metrics import mean_squared_error\n",
    "from statsmodels.tsa.seasonal import seasonal_decompose\n",
    "from pmdarima import auto_arima\n",
    "from statsmodels.tsa.stattools import adfuller, arma_order_select_ic\n",
    "from statsmodels.tsa.arima.model import ARIMA\n",
    "from statsmodels.graphics.tsaplots import plot_pacf\n",
    "from sklearn.linear_model import LinearRegression\n",
    "from statsmodels.tsa.ar_model import AutoReg, ar_select_order\n",
    "from catboost import CatBoostRegressor, Pool"
   ]
  },
  {
   "cell_type": "code",
   "execution_count": 23,
   "metadata": {
    "trusted": true
   },
   "outputs": [],
   "source": [
    "data = pd.read_csv('/datasets/taxi.csv', index_col=[0], parse_dates=[0])"
   ]
  },
  {
   "cell_type": "code",
   "execution_count": 24,
   "metadata": {
    "scrolled": false,
    "trusted": true
   },
   "outputs": [
    {
     "data": {
      "text/html": [
       "<div>\n",
       "<style scoped>\n",
       "    .dataframe tbody tr th:only-of-type {\n",
       "        vertical-align: middle;\n",
       "    }\n",
       "\n",
       "    .dataframe tbody tr th {\n",
       "        vertical-align: top;\n",
       "    }\n",
       "\n",
       "    .dataframe thead th {\n",
       "        text-align: right;\n",
       "    }\n",
       "</style>\n",
       "<table border=\"1\" class=\"dataframe\">\n",
       "  <thead>\n",
       "    <tr style=\"text-align: right;\">\n",
       "      <th></th>\n",
       "      <th>num_orders</th>\n",
       "    </tr>\n",
       "    <tr>\n",
       "      <th>datetime</th>\n",
       "      <th></th>\n",
       "    </tr>\n",
       "  </thead>\n",
       "  <tbody>\n",
       "    <tr>\n",
       "      <th>2018-03-01 00:00:00</th>\n",
       "      <td>124</td>\n",
       "    </tr>\n",
       "    <tr>\n",
       "      <th>2018-03-01 01:00:00</th>\n",
       "      <td>85</td>\n",
       "    </tr>\n",
       "    <tr>\n",
       "      <th>2018-03-01 02:00:00</th>\n",
       "      <td>71</td>\n",
       "    </tr>\n",
       "    <tr>\n",
       "      <th>2018-03-01 03:00:00</th>\n",
       "      <td>66</td>\n",
       "    </tr>\n",
       "    <tr>\n",
       "      <th>2018-03-01 04:00:00</th>\n",
       "      <td>43</td>\n",
       "    </tr>\n",
       "    <tr>\n",
       "      <th>2018-03-01 05:00:00</th>\n",
       "      <td>6</td>\n",
       "    </tr>\n",
       "    <tr>\n",
       "      <th>2018-03-01 06:00:00</th>\n",
       "      <td>12</td>\n",
       "    </tr>\n",
       "    <tr>\n",
       "      <th>2018-03-01 07:00:00</th>\n",
       "      <td>15</td>\n",
       "    </tr>\n",
       "    <tr>\n",
       "      <th>2018-03-01 08:00:00</th>\n",
       "      <td>34</td>\n",
       "    </tr>\n",
       "    <tr>\n",
       "      <th>2018-03-01 09:00:00</th>\n",
       "      <td>69</td>\n",
       "    </tr>\n",
       "  </tbody>\n",
       "</table>\n",
       "</div>"
      ],
      "text/plain": [
       "                     num_orders\n",
       "datetime                       \n",
       "2018-03-01 00:00:00         124\n",
       "2018-03-01 01:00:00          85\n",
       "2018-03-01 02:00:00          71\n",
       "2018-03-01 03:00:00          66\n",
       "2018-03-01 04:00:00          43\n",
       "2018-03-01 05:00:00           6\n",
       "2018-03-01 06:00:00          12\n",
       "2018-03-01 07:00:00          15\n",
       "2018-03-01 08:00:00          34\n",
       "2018-03-01 09:00:00          69"
      ]
     },
     "metadata": {},
     "output_type": "display_data"
    },
    {
     "name": "stdout",
     "output_type": "stream",
     "text": [
      "<class 'pandas.core.frame.DataFrame'>\n",
      "DatetimeIndex: 4416 entries, 2018-03-01 00:00:00 to 2018-08-31 23:00:00\n",
      "Freq: H\n",
      "Data columns (total 1 columns):\n",
      " #   Column      Non-Null Count  Dtype\n",
      "---  ------      --------------  -----\n",
      " 0   num_orders  4416 non-null   int64\n",
      "dtypes: int64(1)\n",
      "memory usage: 69.0 KB\n"
     ]
    },
    {
     "data": {
      "text/plain": [
       "None"
      ]
     },
     "metadata": {},
     "output_type": "display_data"
    },
    {
     "data": {
      "text/html": [
       "<div>\n",
       "<style scoped>\n",
       "    .dataframe tbody tr th:only-of-type {\n",
       "        vertical-align: middle;\n",
       "    }\n",
       "\n",
       "    .dataframe tbody tr th {\n",
       "        vertical-align: top;\n",
       "    }\n",
       "\n",
       "    .dataframe thead th {\n",
       "        text-align: right;\n",
       "    }\n",
       "</style>\n",
       "<table border=\"1\" class=\"dataframe\">\n",
       "  <thead>\n",
       "    <tr style=\"text-align: right;\">\n",
       "      <th></th>\n",
       "      <th>num_orders</th>\n",
       "    </tr>\n",
       "  </thead>\n",
       "  <tbody>\n",
       "    <tr>\n",
       "      <th>count</th>\n",
       "      <td>4416.000000</td>\n",
       "    </tr>\n",
       "    <tr>\n",
       "      <th>mean</th>\n",
       "      <td>84.422781</td>\n",
       "    </tr>\n",
       "    <tr>\n",
       "      <th>std</th>\n",
       "      <td>45.023853</td>\n",
       "    </tr>\n",
       "    <tr>\n",
       "      <th>min</th>\n",
       "      <td>0.000000</td>\n",
       "    </tr>\n",
       "    <tr>\n",
       "      <th>25%</th>\n",
       "      <td>54.000000</td>\n",
       "    </tr>\n",
       "    <tr>\n",
       "      <th>50%</th>\n",
       "      <td>78.000000</td>\n",
       "    </tr>\n",
       "    <tr>\n",
       "      <th>75%</th>\n",
       "      <td>107.000000</td>\n",
       "    </tr>\n",
       "    <tr>\n",
       "      <th>max</th>\n",
       "      <td>462.000000</td>\n",
       "    </tr>\n",
       "  </tbody>\n",
       "</table>\n",
       "</div>"
      ],
      "text/plain": [
       "        num_orders\n",
       "count  4416.000000\n",
       "mean     84.422781\n",
       "std      45.023853\n",
       "min       0.000000\n",
       "25%      54.000000\n",
       "50%      78.000000\n",
       "75%     107.000000\n",
       "max     462.000000"
      ]
     },
     "metadata": {},
     "output_type": "display_data"
    }
   ],
   "source": [
    "data.sort_index(inplace=True)\n",
    "data = data.resample('1H').sum()\n",
    "display(data.head(10))\n",
    "display(data.info())\n",
    "display(data.describe())"
   ]
  },
  {
   "cell_type": "code",
   "execution_count": 25,
   "metadata": {
    "trusted": true
   },
   "outputs": [
    {
     "data": {
      "text/plain": [
       "num_orders    0\n",
       "dtype: int64"
      ]
     },
     "execution_count": 25,
     "metadata": {},
     "output_type": "execute_result"
    }
   ],
   "source": [
    "data.isna().sum()"
   ]
  },
  {
   "cell_type": "code",
   "execution_count": 26,
   "metadata": {
    "trusted": true
   },
   "outputs": [
    {
     "data": {
      "text/plain": [
       "4165"
      ]
     },
     "execution_count": 26,
     "metadata": {},
     "output_type": "execute_result"
    }
   ],
   "source": [
    "data.duplicated().sum()"
   ]
  },
  {
   "cell_type": "markdown",
   "metadata": {},
   "source": [
    "It's not unexpected that duplicate values would be present across the num_orders column."
   ]
  },
  {
   "cell_type": "code",
   "execution_count": 27,
   "metadata": {
    "scrolled": false,
    "trusted": true
   },
   "outputs": [
    {
     "data": {
      "text/plain": [
       "<AxesSubplot:xlabel='datetime'>"
      ]
     },
     "execution_count": 27,
     "metadata": {},
     "output_type": "execute_result"
    },
    {
     "data": {
      "image/png": "[encoded data removed]",
      "text/plain": [
       "<Figure size 640x480 with 1 Axes>"
      ]
     },
     "metadata": {},
     "output_type": "display_data"
    }
   ],
   "source": [
    "data.plot()"
   ]
  },
  {
   "cell_type": "code",
   "execution_count": 28,
   "metadata": {
    "trusted": true
   },
   "outputs": [
    {
     "data": {
      "text/plain": [
       "<AxesSubplot:xlabel='datetime'>"
      ]
     },
     "execution_count": 28,
     "metadata": {},
     "output_type": "execute_result"
    },
    {
     "data": {
      "image/png": "[encoded data removed]",
      "text/plain": [
       "<Figure size 640x480 with 1 Axes>"
      ]
     },
     "metadata": {},
     "output_type": "display_data"
    }
   ],
   "source": [
    "data['rolling_mean'] = data.rolling(10).mean()\n",
    "data.plot()"
   ]
  },
  {
   "cell_type": "markdown",
   "metadata": {},
   "source": [
    "## Analysis"
   ]
  },
  {
   "cell_type": "code",
   "execution_count": 29,
   "metadata": {
    "scrolled": false,
    "trusted": true
   },
   "outputs": [
    {
     "data": {
      "image/png": "[encoded data removed]",
      "text/plain": [
       "<Figure size 600x600 with 3 Axes>"
      ]
     },
     "metadata": {},
     "output_type": "display_data"
    }
   ],
   "source": [
    "data = data.fillna(method='bfill')\n",
    "\n",
    "decomposed = seasonal_decompose(data['num_orders'], period = 24)\n",
    "\n",
    "plt.figure(figsize=(6, 6))\n",
    "\n",
    "plt.subplot(311)\n",
    "decomposed.trend.plot(ax=plt.gca())\n",
    "plt.title('Trend')\n",
    "plt.subplot(312)\n",
    "decomposed.seasonal.plot(ax=plt.gca())\n",
    "plt.title('Seasonality')\n",
    "plt.subplot(313)\n",
    "decomposed.resid.plot(ax=plt.gca())\n",
    "plt.title('Residuals')\n",
    "\n",
    "plt.tight_layout()"
   ]
  },
  {
   "cell_type": "markdown",
   "metadata": {},
   "source": [
    "The trend graph shows that taxi orders are increasing as time goes on.\n",
    "The seasonality graph indicates that there is a clear periodic pattern, specific spikes throughout the day or week. This data will be most beneficial to predicting future data.\n",
    "The residuals graph shows there are periods of unexpected demands, especially towards the end of summer and into the fall."
   ]
  },
  {
   "cell_type": "code",
   "execution_count": 30,
   "metadata": {
    "scrolled": true,
    "trusted": true
   },
   "outputs": [
    {
     "name": "stdout",
     "output_type": "stream",
     "text": [
      "datetime\n",
      "2018-03-05 04:00:00    34.0\n",
      "2018-03-05 05:00:00    16.0\n",
      "2018-03-05 06:00:00     3.0\n",
      "2018-03-05 07:00:00    14.0\n",
      "2018-03-05 08:00:00    31.0\n",
      "Freq: H, dtype: float64\n",
      "\n",
      "                     num_orders  rolling_mean\n",
      "datetime                                     \n",
      "2018-03-05 04:00:00          34          73.8\n",
      "2018-03-05 05:00:00          16          69.8\n",
      "2018-03-05 06:00:00           3          62.4\n",
      "2018-03-05 07:00:00          14          56.3\n",
      "2018-03-05 08:00:00          31          51.1\n"
     ]
    }
   ],
   "source": [
    "# verify correctness of decomposed data compared to original data\n",
    "print(decomposed.trend[100:105]+decomposed.seasonal[100:105]+decomposed.resid[100:105])\n",
    "print()\n",
    "print(data[100:105])"
   ]
  },
  {
   "cell_type": "code",
   "execution_count": 31,
   "metadata": {
    "scrolled": false,
    "trusted": true
   },
   "outputs": [
    {
     "name": "stdout",
     "output_type": "stream",
     "text": [
      "P-value: 1.095877674651026e-28\n"
     ]
    },
    {
     "data": {
      "image/png": "[encoded data removed]",
      "text/plain": [
       "<Figure size 640x480 with 1 Axes>"
      ]
     },
     "metadata": {},
     "output_type": "display_data"
    }
   ],
   "source": [
    "# perform time series difference\n",
    "data['num_orders'] -= data['num_orders'].shift()\n",
    "\n",
    "# checking if data is stationary\n",
    "\n",
    "data['mean'] = data['num_orders'].rolling(15).mean()\n",
    "data['std'] = data['num_orders'].rolling(15).std()\n",
    "data.plot()\n",
    "\n",
    "data_stationarityTest = adfuller(data['num_orders'].dropna())\n",
    "print(\"P-value:\", data_stationarityTest[1])"
   ]
  },
  {
   "cell_type": "markdown",
   "metadata": {},
   "source": [
    "Based on the P-value (< 0.05) and the graph (distribution isn't changing much overtime), the data is likely stationary."
   ]
  },
  {
   "cell_type": "markdown",
   "metadata": {},
   "source": [
    "## Training"
   ]
  },
  {
   "cell_type": "code",
   "execution_count": 32,
   "metadata": {
    "trusted": true
   },
   "outputs": [
    {
     "name": "stdout",
     "output_type": "stream",
     "text": [
      "                     num_orders  rolling_mean  mean  std  year  month  day  \\\n",
      "datetime                                                                     \n",
      "2018-03-01 00:00:00         NaN           NaN   NaN  NaN  2018      3    1   \n",
      "2018-03-01 01:00:00       -39.0           NaN   NaN  NaN  2018      3    1   \n",
      "2018-03-01 02:00:00       -14.0           NaN   NaN  NaN  2018      3    1   \n",
      "2018-03-01 03:00:00        -5.0           NaN   NaN  NaN  2018      3    1   \n",
      "2018-03-01 04:00:00       -23.0           NaN   NaN  NaN  2018      3    1   \n",
      "2018-03-01 05:00:00       -37.0           NaN   NaN  NaN  2018      3    1   \n",
      "2018-03-01 06:00:00         6.0         -23.6   NaN  NaN  2018      3    1   \n",
      "2018-03-01 07:00:00         3.0         -14.6   NaN  NaN  2018      3    1   \n",
      "2018-03-01 08:00:00        19.0         -11.2   NaN  NaN  2018      3    1   \n",
      "2018-03-01 09:00:00        35.0          -6.4   NaN  NaN  2018      3    1   \n",
      "\n",
      "                     dayofweek  hour  lag_1  lag_2  lag_3  lag_4  lag_5  \n",
      "datetime                                                                 \n",
      "2018-03-01 00:00:00          3     0    NaN    NaN    NaN    NaN    NaN  \n",
      "2018-03-01 01:00:00          3     1    NaN    NaN    NaN    NaN    NaN  \n",
      "2018-03-01 02:00:00          3     2  -39.0    NaN    NaN    NaN    NaN  \n",
      "2018-03-01 03:00:00          3     3  -14.0  -39.0    NaN    NaN    NaN  \n",
      "2018-03-01 04:00:00          3     4   -5.0  -14.0  -39.0    NaN    NaN  \n",
      "2018-03-01 05:00:00          3     5  -23.0   -5.0  -14.0  -39.0    NaN  \n",
      "2018-03-01 06:00:00          3     6  -37.0  -23.0   -5.0  -14.0  -39.0  \n",
      "2018-03-01 07:00:00          3     7    6.0  -37.0  -23.0   -5.0  -14.0  \n",
      "2018-03-01 08:00:00          3     8    3.0    6.0  -37.0  -23.0   -5.0  \n",
      "2018-03-01 09:00:00          3     9   19.0    3.0    6.0  -37.0  -23.0  \n"
     ]
    }
   ],
   "source": [
    "def make_features(data, max_lag, rolling_mean_size):\n",
    "    data['year'] = data.index.year\n",
    "    data['month'] = data.index.month\n",
    "    data['day'] = data.index.day\n",
    "    data['dayofweek'] = data.index.dayofweek\n",
    "    data['hour'] = data.index.hour\n",
    "    \n",
    "    for lag in range(1, max_lag + 1):\n",
    "        data['lag_{}'.format(lag)] = data['num_orders'].shift(lag)\n",
    "        \n",
    "    data['rolling_mean'] = (data['num_orders'].shift().rolling(rolling_mean_size).mean())\n",
    "\n",
    "    \n",
    "\n",
    "make_features(data,5, 5)\n",
    "print(data.head(10))"
   ]
  },
  {
   "cell_type": "code",
   "execution_count": 33,
   "metadata": {
    "trusted": true
   },
   "outputs": [
    {
     "name": "stdout",
     "output_type": "stream",
     "text": [
      "(3960, 13)\n",
      "(3960,)\n",
      "(441, 13)\n",
      "(441,)\n"
     ]
    }
   ],
   "source": [
    "data = data.dropna()\n",
    "features = data.drop(['num_orders'], axis=1)\n",
    "target = data['num_orders']\n",
    "\n",
    "features_train, features_test, target_train, target_test = train_test_split(features, target, shuffle=False, test_size=0.1)\n",
    "print(features_train.shape)\n",
    "print(target_train.shape)\n",
    "print(features_test.shape)\n",
    "print(target_test.shape)\n",
    "\n"
   ]
  },
  {
   "cell_type": "code",
   "execution_count": 34,
   "metadata": {
    "trusted": true
   },
   "outputs": [
    {
     "name": "stdout",
     "output_type": "stream",
     "text": [
      "RMSE for the Linear Regression training set: 27.053386554690768\n"
     ]
    }
   ],
   "source": [
    "# train linear model\n",
    "lin_model = LinearRegression()\n",
    "lin_model.fit(features_train, target_train)\n",
    "lin_pred_train = lin_model.predict(features_train)\n",
    "\n",
    "print('RMSE for the Linear Regression training set:', np.sqrt(mean_squared_error(target_train, lin_pred_train))) "
   ]
  },
  {
   "cell_type": "code",
   "execution_count": 35,
   "metadata": {
    "trusted": true
   },
   "outputs": [
    {
     "name": "stdout",
     "output_type": "stream",
     "text": [
      "RMSE for the Linear Regression test set: 45.487739326592575\n"
     ]
    }
   ],
   "source": [
    "final_lin_model = lin_model.predict(features_test)\n",
    "print('RMSE for the Linear Regression test set:', np.sqrt(mean_squared_error(target_test, final_lin_model)))"
   ]
  },
  {
   "cell_type": "code",
   "execution_count": 36,
   "metadata": {
    "trusted": true
   },
   "outputs": [],
   "source": [
    "# Split the data into train and test by time (90% for training and 10% for testing)\n",
    "train_size = int(len(data) * 0.9)\n",
    "train, test = data[:train_size], data[train_size:]"
   ]
  },
  {
   "cell_type": "code",
   "execution_count": 37,
   "metadata": {
    "scrolled": false,
    "trusted": true
   },
   "outputs": [
    {
     "data": {
      "image/png": "[encoded data removed]",
      "text/plain": [
       "<Figure size 640x480 with 1 Axes>"
      ]
     },
     "metadata": {},
     "output_type": "display_data"
    }
   ],
   "source": [
    "# AR model\n",
    "lags_to_check = 50 \n",
    "acf = plot_pacf(x=train['num_orders'], lags=lags_to_check)\n",
    "plt.xlabel(\"Lags\")\n",
    "plt.ylabel(\"PACF\")\n",
    "plt.show()"
   ]
  },
  {
   "cell_type": "markdown",
   "metadata": {},
   "source": [
    "The 3rd lags falls within the confidence interval, therefore, we stop counting at 7."
   ]
  },
  {
   "cell_type": "code",
   "execution_count": 38,
   "metadata": {
    "trusted": true
   },
   "outputs": [
    {
     "name": "stdout",
     "output_type": "stream",
     "text": [
      "Lags that define the AR model order [1, 2, 3, 4, 5, 6, 7, 8, 9, 10, 11, 12, 13, 14, 15, 16, 17, 18, 19, 20, 21, 22, 23, 24, 25, 26, 27, 28, 29, 30, 31, 32, 33, 34, 35, 36, 37, 38, 39, 40, 41, 42, 43, 44, 45, 46, 47]\n"
     ]
    }
   ],
   "source": [
    "# double checking with automated function\n",
    "mod = ar_select_order(endog=train['num_orders'], maxlag=50)\n",
    "ar_order = mod.ar_lags\n",
    "print('Lags that define the AR model order', ar_order)"
   ]
  },
  {
   "cell_type": "code",
   "execution_count": 39,
   "metadata": {
    "scrolled": false,
    "trusted": true
   },
   "outputs": [
    {
     "data": {
      "image/png": "[encoded data removed]",
      "text/plain": [
       "<Figure size 640x480 with 1 Axes>"
      ]
     },
     "metadata": {},
     "output_type": "display_data"
    },
    {
     "name": "stdout",
     "output_type": "stream",
     "text": [
      "RMSE of AR Model: 55.55043793001354\n"
     ]
    }
   ],
   "source": [
    "# AR model \n",
    "ar_model = AutoReg(train['num_orders'], lags=ar_order)\n",
    "ar_model = ar_model.fit()\n",
    "ar_pred = ar_model.predict(start=len(train['num_orders']), end=len(train['num_orders']) + len(test['num_orders']) - 1)\n",
    "\n",
    "plt.plot(ar_pred, color='blue', label='pred')\n",
    "plt.plot(test['num_orders'], color='red', label='test')\n",
    "plt.legend(loc=\"upper left\")\n",
    "plt.xticks(rotation=90)\n",
    "plt.show()\n",
    "\n",
    "print('RMSE of AR Model:', np.sqrt(mean_squared_error(test['num_orders'], ar_pred)))\n"
   ]
  },
  {
   "cell_type": "code",
   "execution_count": 40,
   "metadata": {
    "scrolled": false,
    "trusted": true
   },
   "outputs": [
    {
     "name": "stderr",
     "output_type": "stream",
     "text": [
      "/opt/conda/envs/python3/lib/python3.9/site-packages/statsmodels/tsa/statespace/sarimax.py:978: UserWarning: Non-invertible starting MA parameters found. Using zeros as starting parameters.\n",
      "  warn('Non-invertible starting MA parameters found.'\n",
      "/opt/conda/envs/python3/lib/python3.9/site-packages/statsmodels/base/model.py:604: ConvergenceWarning: Maximum Likelihood optimization failed to converge. Check mle_retvals\n",
      "  warnings.warn(\"Maximum Likelihood optimization failed to \"\n",
      "/opt/conda/envs/python3/lib/python3.9/site-packages/statsmodels/base/model.py:604: ConvergenceWarning: Maximum Likelihood optimization failed to converge. Check mle_retvals\n",
      "  warnings.warn(\"Maximum Likelihood optimization failed to \"\n"
     ]
    },
    {
     "name": "stdout",
     "output_type": "stream",
     "text": [
      "Output of the arma_order_select_ic: (0, 9)\n"
     ]
    },
    {
     "name": "stderr",
     "output_type": "stream",
     "text": [
      "/opt/conda/envs/python3/lib/python3.9/site-packages/statsmodels/tsa/statespace/sarimax.py:978: UserWarning: Non-invertible starting MA parameters found. Using zeros as starting parameters.\n",
      "  warn('Non-invertible starting MA parameters found.'\n"
     ]
    },
    {
     "data": {
      "image/png": "[encoded data removed]",
      "text/plain": [
       "<Figure size 640x480 with 1 Axes>"
      ]
     },
     "metadata": {},
     "output_type": "display_data"
    },
    {
     "name": "stdout",
     "output_type": "stream",
     "text": [
      "RMSE of MA model: 58.95362437442407\n"
     ]
    }
   ],
   "source": [
    "# MA model training\n",
    "res = arma_order_select_ic(y=train['num_orders'], max_ar=0, max_ma=10)\n",
    "ma_order = res.bic_min_order[1]\n",
    "print('Output of the arma_order_select_ic:', res.bic_min_order)\n",
    "\n",
    "ma_model = ARIMA(train['num_orders'], order=(1, 1, ma_order))\n",
    "ma_model = ma_model.fit()\n",
    "\n",
    "ma_pred = ma_model.predict(start=len(train['num_orders']), end=len(train['num_orders']) + len(test['num_orders']) - 1)\n",
    "\n",
    "plt.plot(ma_pred, color=\"blue\", label=\"pred\")\n",
    "plt.plot(test['num_orders'], color=\"red\", label=\"test\")\n",
    "plt.legend(loc=\"upper left\")\n",
    "plt.xticks(rotation=90)\n",
    "plt.show()\n",
    "\n",
    "print('RMSE of MA model:', np.sqrt(mean_squared_error(test['num_orders'], ma_pred)))\n"
   ]
  },
  {
   "cell_type": "code",
   "execution_count": 41,
   "metadata": {
    "trusted": true
   },
   "outputs": [
    {
     "name": "stdout",
     "output_type": "stream",
     "text": [
      "Performing stepwise search to minimize aic\n",
      " ARIMA(0,0,0)(0,0,0)[0] intercept   : AIC=39660.201, Time=0.05 sec\n",
      " ARIMA(1,0,0)(0,0,0)[0] intercept   : AIC=39282.185, Time=0.09 sec\n",
      " ARIMA(0,0,1)(0,0,0)[0] intercept   : AIC=39121.490, Time=0.87 sec\n",
      " ARIMA(0,0,0)(0,0,0)[0]             : AIC=39658.201, Time=0.10 sec\n",
      " ARIMA(1,0,1)(0,0,0)[0] intercept   : AIC=inf, Time=2.32 sec\n",
      " ARIMA(0,0,2)(0,0,0)[0] intercept   : AIC=inf, Time=5.36 sec\n",
      " ARIMA(1,0,2)(0,0,0)[0] intercept   : AIC=inf, Time=6.92 sec\n",
      " ARIMA(0,0,1)(0,0,0)[0]             : AIC=39119.492, Time=0.42 sec\n",
      " ARIMA(1,0,1)(0,0,0)[0]             : AIC=inf, Time=0.97 sec\n",
      " ARIMA(0,0,2)(0,0,0)[0]             : AIC=inf, Time=1.68 sec\n",
      " ARIMA(1,0,0)(0,0,0)[0]             : AIC=39280.186, Time=0.13 sec\n",
      " ARIMA(1,0,2)(0,0,0)[0]             : AIC=inf, Time=2.46 sec\n",
      "\n",
      "Best model:  ARIMA(0,0,1)(0,0,0)[0]          \n",
      "Total fit time: 21.382 seconds\n",
      "RMSE on test set using AutoARIMA: 58.89814431816767\n"
     ]
    }
   ],
   "source": [
    "# AutoARIMA model\n",
    "arima_model = auto_arima(train['num_orders'], seasonal=True, scoring='mse', \n",
    "                         stepwise=True, trace=True, start_p=0, max_p=3, start_q=0, max_q=3, max_order=5)\n",
    "\n",
    "predictions = arima_model.predict(len(test['num_orders']))\n",
    "auto_arima_rmse = np.sqrt(mean_squared_error(test['num_orders'], predictions))\n",
    "print(f\"RMSE on test set using AutoARIMA: {auto_arima_rmse}\")"
   ]
  },
  {
   "cell_type": "code",
   "execution_count": 42,
   "metadata": {
    "trusted": true
   },
   "outputs": [
    {
     "data": {
      "text/html": [
       "<table class=\"simpletable\">\n",
       "<caption>SARIMAX Results</caption>\n",
       "<tr>\n",
       "  <th>Dep. Variable:</th>           <td>y</td>        <th>  No. Observations:  </th>    <td>3960</td>   \n",
       "</tr>\n",
       "<tr>\n",
       "  <th>Model:</th>           <td>SARIMAX(0, 0, 1)</td> <th>  Log Likelihood     </th> <td>-19557.746</td>\n",
       "</tr>\n",
       "<tr>\n",
       "  <th>Date:</th>            <td>Wed, 02 Apr 2025</td> <th>  AIC                </th>  <td>39119.492</td>\n",
       "</tr>\n",
       "<tr>\n",
       "  <th>Time:</th>                <td>02:12:22</td>     <th>  BIC                </th>  <td>39132.060</td>\n",
       "</tr>\n",
       "<tr>\n",
       "  <th>Sample:</th>             <td>03-01-2018</td>    <th>  HQIC               </th>  <td>39123.949</td>\n",
       "</tr>\n",
       "<tr>\n",
       "  <th></th>                   <td>- 08-13-2018</td>   <th>                     </th>      <td> </td>    \n",
       "</tr>\n",
       "<tr>\n",
       "  <th>Covariance Type:</th>        <td>opg</td>       <th>                     </th>      <td> </td>    \n",
       "</tr>\n",
       "</table>\n",
       "<table class=\"simpletable\">\n",
       "<tr>\n",
       "     <td></td>       <th>coef</th>     <th>std err</th>      <th>z</th>      <th>P>|z|</th>  <th>[0.025</th>    <th>0.975]</th>  \n",
       "</tr>\n",
       "<tr>\n",
       "  <th>ma.L1</th>  <td>   -0.4878</td> <td>    0.010</td> <td>  -46.797</td> <td> 0.000</td> <td>   -0.508</td> <td>   -0.467</td>\n",
       "</tr>\n",
       "<tr>\n",
       "  <th>sigma2</th> <td> 1140.9993</td> <td>   20.488</td> <td>   55.691</td> <td> 0.000</td> <td> 1100.843</td> <td> 1181.155</td>\n",
       "</tr>\n",
       "</table>\n",
       "<table class=\"simpletable\">\n",
       "<tr>\n",
       "  <th>Ljung-Box (L1) (Q):</th>     <td>34.91</td> <th>  Jarque-Bera (JB):  </th> <td>217.77</td>\n",
       "</tr>\n",
       "<tr>\n",
       "  <th>Prob(Q):</th>                <td>0.00</td>  <th>  Prob(JB):          </th>  <td>0.00</td> \n",
       "</tr>\n",
       "<tr>\n",
       "  <th>Heteroskedasticity (H):</th> <td>1.94</td>  <th>  Skew:              </th>  <td>0.09</td> \n",
       "</tr>\n",
       "<tr>\n",
       "  <th>Prob(H) (two-sided):</th>    <td>0.00</td>  <th>  Kurtosis:          </th>  <td>4.14</td> \n",
       "</tr>\n",
       "</table><br/><br/>Warnings:<br/>[1] Covariance matrix calculated using the outer product of gradients (complex-step)."
      ],
      "text/plain": [
       "<class 'statsmodels.iolib.summary.Summary'>\n",
       "\"\"\"\n",
       "                               SARIMAX Results                                \n",
       "==============================================================================\n",
       "Dep. Variable:                      y   No. Observations:                 3960\n",
       "Model:               SARIMAX(0, 0, 1)   Log Likelihood              -19557.746\n",
       "Date:                Wed, 02 Apr 2025   AIC                          39119.492\n",
       "Time:                        02:12:22   BIC                          39132.060\n",
       "Sample:                    03-01-2018   HQIC                         39123.949\n",
       "                         - 08-13-2018                                         \n",
       "Covariance Type:                  opg                                         \n",
       "==============================================================================\n",
       "                 coef    std err          z      P>|z|      [0.025      0.975]\n",
       "------------------------------------------------------------------------------\n",
       "ma.L1         -0.4878      0.010    -46.797      0.000      -0.508      -0.467\n",
       "sigma2      1140.9993     20.488     55.691      0.000    1100.843    1181.155\n",
       "===================================================================================\n",
       "Ljung-Box (L1) (Q):                  34.91   Jarque-Bera (JB):               217.77\n",
       "Prob(Q):                              0.00   Prob(JB):                         0.00\n",
       "Heteroskedasticity (H):               1.94   Skew:                             0.09\n",
       "Prob(H) (two-sided):                  0.00   Kurtosis:                         4.14\n",
       "===================================================================================\n",
       "\n",
       "Warnings:\n",
       "[1] Covariance matrix calculated using the outer product of gradients (complex-step).\n",
       "\"\"\""
      ]
     },
     "execution_count": 42,
     "metadata": {},
     "output_type": "execute_result"
    }
   ],
   "source": [
    "arima_model.summary()"
   ]
  },
  {
   "cell_type": "markdown",
   "metadata": {},
   "source": [
    "#### Conclusion\n",
    "In conclusion, the models were successfully trained and tested. However, the time series models couldn't achieve an RMSE less than 48. The linear model did achieve an RMSE less than 48."
   ]
  }
 ],
 "metadata": {
  "ExecuteTimeLog": [
   {
    "duration": 2799,
    "start_time": "2025-04-01T14:37:28.352Z"
   },
   {
    "duration": 29,
    "start_time": "2025-04-01T14:38:14.455Z"
   },
   {
    "duration": 23,
    "start_time": "2025-04-01T14:38:48.966Z"
   },
   {
    "duration": 19,
    "start_time": "2025-04-01T14:38:56.871Z"
   },
   {
    "duration": 21,
    "start_time": "2025-04-01T14:54:22.251Z"
   },
   {
    "duration": 18,
    "start_time": "2025-04-01T14:54:38.382Z"
   },
   {
    "duration": 398,
    "start_time": "2025-04-01T14:56:08.124Z"
   },
   {
    "duration": 392,
    "start_time": "2025-04-01T14:56:19.739Z"
   },
   {
    "duration": 20,
    "start_time": "2025-04-01T14:57:04.746Z"
   },
   {
    "duration": 21,
    "start_time": "2025-04-01T14:57:44.077Z"
   },
   {
    "duration": 20,
    "start_time": "2025-04-01T14:58:09.967Z"
   },
   {
    "duration": 363,
    "start_time": "2025-04-01T14:58:38.594Z"
   },
   {
    "duration": 19,
    "start_time": "2025-04-01T14:58:47.747Z"
   },
   {
    "duration": 3,
    "start_time": "2025-04-01T14:58:55.613Z"
   },
   {
    "duration": 20,
    "start_time": "2025-04-01T14:58:56.079Z"
   },
   {
    "duration": 21,
    "start_time": "2025-04-01T14:58:56.539Z"
   },
   {
    "duration": 19,
    "start_time": "2025-04-01T14:59:03.240Z"
   },
   {
    "duration": 18,
    "start_time": "2025-04-01T14:59:07.823Z"
   },
   {
    "duration": 3,
    "start_time": "2025-04-01T14:59:14.245Z"
   },
   {
    "duration": 19,
    "start_time": "2025-04-01T14:59:14.771Z"
   },
   {
    "duration": 20,
    "start_time": "2025-04-01T14:59:15.043Z"
   },
   {
    "duration": 174,
    "start_time": "2025-04-01T14:59:24.926Z"
   },
   {
    "duration": 3,
    "start_time": "2025-04-01T15:03:33.247Z"
   },
   {
    "duration": 16,
    "start_time": "2025-04-01T15:03:41.503Z"
   },
   {
    "duration": 16,
    "start_time": "2025-04-01T15:03:58.664Z"
   },
   {
    "duration": 20,
    "start_time": "2025-04-01T15:04:06.669Z"
   },
   {
    "duration": 6,
    "start_time": "2025-04-01T15:05:15.008Z"
   },
   {
    "duration": 15,
    "start_time": "2025-04-01T15:05:34.032Z"
   },
   {
    "duration": 9,
    "start_time": "2025-04-01T15:05:38.639Z"
   },
   {
    "duration": 3,
    "start_time": "2025-04-01T15:06:01.297Z"
   },
   {
    "duration": 20,
    "start_time": "2025-04-01T15:06:02.183Z"
   },
   {
    "duration": 18,
    "start_time": "2025-04-01T15:06:17.872Z"
   },
   {
    "duration": 6,
    "start_time": "2025-04-01T15:07:07.931Z"
   },
   {
    "duration": 5,
    "start_time": "2025-04-01T15:07:24.984Z"
   },
   {
    "duration": 20,
    "start_time": "2025-04-01T15:07:53.840Z"
   },
   {
    "duration": 10,
    "start_time": "2025-04-01T15:08:00.129Z"
   },
   {
    "duration": 6,
    "start_time": "2025-04-01T15:08:02.737Z"
   },
   {
    "duration": 169,
    "start_time": "2025-04-01T15:09:34.880Z"
   },
   {
    "duration": 244,
    "start_time": "2025-04-01T15:13:15.736Z"
   },
   {
    "duration": 627,
    "start_time": "2025-04-01T15:13:34.377Z"
   },
   {
    "duration": 5,
    "start_time": "2025-04-01T15:15:43.153Z"
   },
   {
    "duration": 570,
    "start_time": "2025-04-01T15:19:20.384Z"
   },
   {
    "duration": 6,
    "start_time": "2025-04-01T15:19:25.496Z"
   },
   {
    "duration": 1123,
    "start_time": "2025-04-01T15:19:34.657Z"
   },
   {
    "duration": 22,
    "start_time": "2025-04-01T15:19:35.783Z"
   },
   {
    "duration": 25,
    "start_time": "2025-04-01T15:19:36.752Z"
   },
   {
    "duration": 5,
    "start_time": "2025-04-01T15:19:37.802Z"
   },
   {
    "duration": 4,
    "start_time": "2025-04-01T15:19:38.499Z"
   },
   {
    "duration": 178,
    "start_time": "2025-04-01T15:19:39.897Z"
   },
   {
    "duration": 562,
    "start_time": "2025-04-01T15:19:41.077Z"
   },
   {
    "duration": 5,
    "start_time": "2025-04-01T15:19:44.341Z"
   },
   {
    "duration": 607,
    "start_time": "2025-04-01T15:25:53.561Z"
   },
   {
    "duration": 5,
    "start_time": "2025-04-01T15:25:58.265Z"
   },
   {
    "duration": 536,
    "start_time": "2025-04-01T15:26:42.766Z"
   },
   {
    "duration": 5,
    "start_time": "2025-04-01T15:29:59.242Z"
   },
   {
    "duration": 691,
    "start_time": "2025-04-01T16:30:36.147Z"
   },
   {
    "duration": 6,
    "start_time": "2025-04-01T16:30:41.198Z"
   },
   {
    "duration": 1170,
    "start_time": "2025-04-01T16:30:55.882Z"
   },
   {
    "duration": 49,
    "start_time": "2025-04-01T16:30:57.053Z"
   },
   {
    "duration": 25,
    "start_time": "2025-04-01T16:30:57.104Z"
   },
   {
    "duration": 6,
    "start_time": "2025-04-01T16:30:57.377Z"
   },
   {
    "duration": 7,
    "start_time": "2025-04-01T16:30:57.956Z"
   },
   {
    "duration": 249,
    "start_time": "2025-04-01T16:30:59.322Z"
   },
   {
    "duration": 684,
    "start_time": "2025-04-01T16:31:03.520Z"
   },
   {
    "duration": 7,
    "start_time": "2025-04-01T16:31:07.721Z"
   },
   {
    "duration": 645,
    "start_time": "2025-04-01T16:33:31.051Z"
   },
   {
    "duration": 581,
    "start_time": "2025-04-01T16:37:56.806Z"
   },
   {
    "duration": 6,
    "start_time": "2025-04-01T16:38:25.506Z"
   },
   {
    "duration": 600,
    "start_time": "2025-04-01T16:39:30.054Z"
   },
   {
    "duration": 628,
    "start_time": "2025-04-01T16:42:03.080Z"
   },
   {
    "duration": 588,
    "start_time": "2025-04-01T16:42:25.624Z"
   },
   {
    "duration": 6,
    "start_time": "2025-04-01T16:45:29.894Z"
   },
   {
    "duration": 1167,
    "start_time": "2025-04-01T16:54:28.625Z"
   },
   {
    "duration": 734,
    "start_time": "2025-04-01T17:01:19.156Z"
   },
   {
    "duration": 1103,
    "start_time": "2025-04-01T17:01:48.204Z"
   },
   {
    "duration": 53,
    "start_time": "2025-04-01T17:01:49.309Z"
   },
   {
    "duration": 38,
    "start_time": "2025-04-01T17:01:49.722Z"
   },
   {
    "duration": 6,
    "start_time": "2025-04-01T17:01:50.625Z"
   },
   {
    "duration": 5,
    "start_time": "2025-04-01T17:01:51.370Z"
   },
   {
    "duration": 195,
    "start_time": "2025-04-01T17:01:52.858Z"
   },
   {
    "duration": 542,
    "start_time": "2025-04-01T17:01:54.977Z"
   },
   {
    "duration": 17,
    "start_time": "2025-04-01T17:01:58.647Z"
   },
   {
    "duration": 706,
    "start_time": "2025-04-01T17:02:00.066Z"
   },
   {
    "duration": 1695,
    "start_time": "2025-04-01T17:03:59.379Z"
   },
   {
    "duration": 8,
    "start_time": "2025-04-01T17:10:23.387Z"
   },
   {
    "duration": 41,
    "start_time": "2025-04-01T17:13:28.139Z"
   },
   {
    "duration": 47,
    "start_time": "2025-04-01T17:13:49.015Z"
   },
   {
    "duration": 12,
    "start_time": "2025-04-01T17:13:55.894Z"
   },
   {
    "duration": 10,
    "start_time": "2025-04-01T17:42:11.807Z"
   },
   {
    "duration": 16,
    "start_time": "2025-04-01T17:42:16.391Z"
   },
   {
    "duration": 11,
    "start_time": "2025-04-01T17:42:27.533Z"
   },
   {
    "duration": 12,
    "start_time": "2025-04-01T17:43:02.857Z"
   },
   {
    "duration": 3,
    "start_time": "2025-04-01T17:44:53.008Z"
   },
   {
    "duration": 15,
    "start_time": "2025-04-01T17:47:53.148Z"
   },
   {
    "duration": 6,
    "start_time": "2025-04-01T17:48:03.727Z"
   },
   {
    "duration": 16,
    "start_time": "2025-04-01T17:50:20.168Z"
   },
   {
    "duration": 29,
    "start_time": "2025-04-01T17:55:10.479Z"
   },
   {
    "duration": 3,
    "start_time": "2025-04-01T17:55:17.890Z"
   },
   {
    "duration": 14,
    "start_time": "2025-04-01T17:55:22.114Z"
   },
   {
    "duration": 15,
    "start_time": "2025-04-01T18:00:14.335Z"
   },
   {
    "duration": 7,
    "start_time": "2025-04-01T18:02:30.874Z"
   },
   {
    "duration": 11,
    "start_time": "2025-04-01T18:02:34.462Z"
   },
   {
    "duration": 14,
    "start_time": "2025-04-01T18:05:21.378Z"
   },
   {
    "duration": 3,
    "start_time": "2025-04-01T18:05:58.416Z"
   },
   {
    "duration": 150,
    "start_time": "2025-04-01T18:06:02.618Z"
   },
   {
    "duration": 3,
    "start_time": "2025-04-01T18:07:40.369Z"
   },
   {
    "duration": 145,
    "start_time": "2025-04-01T18:07:52.704Z"
   },
   {
    "duration": 12,
    "start_time": "2025-04-01T18:11:20.448Z"
   },
   {
    "duration": 291,
    "start_time": "2025-04-01T18:13:36.115Z"
   },
   {
    "duration": 2,
    "start_time": "2025-04-01T18:17:09.067Z"
   },
   {
    "duration": 792,
    "start_time": "2025-04-01T18:19:11.140Z"
   },
   {
    "duration": 53,
    "start_time": "2025-04-01T18:24:29.779Z"
   },
   {
    "duration": 69,
    "start_time": "2025-04-01T18:25:41.765Z"
   },
   {
    "duration": 352,
    "start_time": "2025-04-01T18:26:37.970Z"
   },
   {
    "duration": 128,
    "start_time": "2025-04-01T18:27:29.317Z"
   },
   {
    "duration": 281,
    "start_time": "2025-04-01T18:29:47.723Z"
   },
   {
    "duration": 642,
    "start_time": "2025-04-01T18:30:23.808Z"
   },
   {
    "duration": 374,
    "start_time": "2025-04-01T18:30:50.023Z"
   },
   {
    "duration": 4,
    "start_time": "2025-04-01T18:32:19.551Z"
   },
   {
    "duration": 398,
    "start_time": "2025-04-01T18:35:02.738Z"
   },
   {
    "duration": 64,
    "start_time": "2025-04-01T18:35:18.076Z"
   },
   {
    "duration": 3,
    "start_time": "2025-04-01T18:59:08.553Z"
   },
   {
    "duration": 87230,
    "start_time": "2025-04-01T19:04:21.424Z"
   },
   {
    "duration": 371,
    "start_time": "2025-04-01T19:06:33.152Z"
   },
   {
    "duration": 314,
    "start_time": "2025-04-01T19:07:15.625Z"
   },
   {
    "duration": 86721,
    "start_time": "2025-04-01T19:10:42.397Z"
   },
   {
    "duration": 86218,
    "start_time": "2025-04-01T19:15:08.401Z"
   },
   {
    "duration": 1071,
    "start_time": "2025-04-01T19:17:10.368Z"
   },
   {
    "duration": 82,
    "start_time": "2025-04-01T19:19:26.359Z"
   },
   {
    "duration": 3,
    "start_time": "2025-04-01T19:19:27.404Z"
   },
   {
    "duration": 22,
    "start_time": "2025-04-01T19:19:28.066Z"
   },
   {
    "duration": 24,
    "start_time": "2025-04-01T19:19:28.632Z"
   },
   {
    "duration": 5,
    "start_time": "2025-04-01T19:19:29.107Z"
   },
   {
    "duration": 5,
    "start_time": "2025-04-01T19:19:29.499Z"
   },
   {
    "duration": 180,
    "start_time": "2025-04-01T19:19:30.168Z"
   },
   {
    "duration": 637,
    "start_time": "2025-04-01T19:19:31.631Z"
   },
   {
    "duration": 5,
    "start_time": "2025-04-01T19:19:33.300Z"
   },
   {
    "duration": 861,
    "start_time": "2025-04-01T19:19:36.063Z"
   },
   {
    "duration": 15,
    "start_time": "2025-04-01T19:19:48.751Z"
   },
   {
    "duration": 961,
    "start_time": "2025-04-01T19:23:28.908Z"
   },
   {
    "duration": 37,
    "start_time": "2025-04-01T19:23:53.353Z"
   },
   {
    "duration": 102,
    "start_time": "2025-04-01T19:24:49.675Z"
   },
   {
    "duration": 8,
    "start_time": "2025-04-01T19:24:59.471Z"
   },
   {
    "duration": 6,
    "start_time": "2025-04-01T19:28:41.821Z"
   },
   {
    "duration": 157,
    "start_time": "2025-04-01T19:29:56.363Z"
   },
   {
    "duration": 8,
    "start_time": "2025-04-01T19:30:56.457Z"
   },
   {
    "duration": 17,
    "start_time": "2025-04-01T19:30:58.032Z"
   },
   {
    "duration": 4,
    "start_time": "2025-04-01T19:33:10.818Z"
   },
   {
    "duration": 528,
    "start_time": "2025-04-01T19:38:44.952Z"
   },
   {
    "duration": 8691,
    "start_time": "2025-04-01T19:59:32.867Z"
   },
   {
    "duration": 10703,
    "start_time": "2025-04-01T20:02:32.176Z"
   },
   {
    "duration": 1849,
    "start_time": "2025-04-01T20:09:37.901Z"
   },
   {
    "duration": 4,
    "start_time": "2025-04-01T20:10:14.932Z"
   },
   {
    "duration": 1762,
    "start_time": "2025-04-01T20:10:18.484Z"
   },
   {
    "duration": 273,
    "start_time": "2025-04-01T20:11:34.953Z"
   },
   {
    "duration": 2932,
    "start_time": "2025-04-01T21:17:32.375Z"
   },
   {
    "duration": 31,
    "start_time": "2025-04-01T21:17:36.824Z"
   },
   {
    "duration": 24,
    "start_time": "2025-04-01T21:17:37.302Z"
   },
   {
    "duration": 5,
    "start_time": "2025-04-01T21:17:37.807Z"
   },
   {
    "duration": 5,
    "start_time": "2025-04-01T21:17:38.187Z"
   },
   {
    "duration": 180,
    "start_time": "2025-04-01T21:17:38.676Z"
   },
   {
    "duration": 515,
    "start_time": "2025-04-01T21:17:39.064Z"
   },
   {
    "duration": 6,
    "start_time": "2025-04-01T21:17:39.581Z"
   },
   {
    "duration": 824,
    "start_time": "2025-04-01T21:17:39.594Z"
   },
   {
    "duration": 23,
    "start_time": "2025-04-01T21:17:40.421Z"
   },
   {
    "duration": 10,
    "start_time": "2025-04-01T21:17:40.446Z"
   },
   {
    "duration": 8,
    "start_time": "2025-04-01T21:17:40.459Z"
   },
   {
    "duration": 4,
    "start_time": "2025-04-01T21:17:40.564Z"
   },
   {
    "duration": 322,
    "start_time": "2025-04-01T21:17:40.756Z"
   },
   {
    "duration": 10679,
    "start_time": "2025-04-01T21:17:41.335Z"
   },
   {
    "duration": 1792,
    "start_time": "2025-04-01T21:17:52.016Z"
   },
   {
    "duration": 207,
    "start_time": "2025-04-01T21:31:34.015Z"
   },
   {
    "duration": 666,
    "start_time": "2025-04-01T21:31:37.998Z"
   },
   {
    "duration": 328,
    "start_time": "2025-04-01T21:31:40.240Z"
   },
   {
    "duration": 298,
    "start_time": "2025-04-01T21:31:49.049Z"
   },
   {
    "duration": 11511,
    "start_time": "2025-04-01T21:32:51.655Z"
   },
   {
    "duration": 88178,
    "start_time": "2025-04-01T21:34:13.438Z"
   },
   {
    "duration": 1154,
    "start_time": "2025-04-01T21:56:00.388Z"
   },
   {
    "duration": 23,
    "start_time": "2025-04-01T21:56:01.544Z"
   },
   {
    "duration": 24,
    "start_time": "2025-04-01T21:56:01.569Z"
   },
   {
    "duration": 4,
    "start_time": "2025-04-01T21:56:01.595Z"
   },
   {
    "duration": 4,
    "start_time": "2025-04-01T21:56:01.603Z"
   },
   {
    "duration": 218,
    "start_time": "2025-04-01T21:56:01.609Z"
   },
   {
    "duration": 638,
    "start_time": "2025-04-01T21:56:01.829Z"
   },
   {
    "duration": 6,
    "start_time": "2025-04-01T21:56:02.469Z"
   },
   {
    "duration": 807,
    "start_time": "2025-04-01T21:56:02.477Z"
   },
   {
    "duration": 15,
    "start_time": "2025-04-01T21:56:03.285Z"
   },
   {
    "duration": 8,
    "start_time": "2025-04-01T21:56:03.302Z"
   },
   {
    "duration": 41,
    "start_time": "2025-04-01T21:56:03.311Z"
   },
   {
    "duration": 360,
    "start_time": "2025-04-01T21:56:03.353Z"
   },
   {
    "duration": 840,
    "start_time": "2025-04-01T21:56:03.716Z"
   },
   {
    "duration": 368,
    "start_time": "2025-04-01T21:56:04.558Z"
   },
   {
    "duration": 11544,
    "start_time": "2025-04-01T21:56:04.928Z"
   },
   {
    "duration": 87745,
    "start_time": "2025-04-01T21:56:16.474Z"
   },
   {
    "duration": 58054,
    "start_time": "2025-04-01T21:57:44.221Z"
   },
   {
    "duration": 1205,
    "start_time": "2025-04-01T22:04:05.269Z"
   },
   {
    "duration": 22,
    "start_time": "2025-04-01T22:04:06.476Z"
   },
   {
    "duration": 24,
    "start_time": "2025-04-01T22:04:06.500Z"
   },
   {
    "duration": 4,
    "start_time": "2025-04-01T22:04:06.542Z"
   },
   {
    "duration": 4,
    "start_time": "2025-04-01T22:04:06.548Z"
   },
   {
    "duration": 210,
    "start_time": "2025-04-01T22:04:06.554Z"
   },
   {
    "duration": 633,
    "start_time": "2025-04-01T22:04:06.766Z"
   },
   {
    "duration": 7,
    "start_time": "2025-04-01T22:04:07.402Z"
   },
   {
    "duration": 693,
    "start_time": "2025-04-01T22:04:07.411Z"
   },
   {
    "duration": 16,
    "start_time": "2025-04-01T22:04:08.108Z"
   },
   {
    "duration": 21,
    "start_time": "2025-04-01T22:04:08.126Z"
   },
   {
    "duration": 10,
    "start_time": "2025-04-01T22:04:08.150Z"
   },
   {
    "duration": 1232,
    "start_time": "2025-04-01T22:04:08.162Z"
   },
   {
    "duration": 1663,
    "start_time": "2025-04-01T22:04:09.396Z"
   },
   {
    "duration": 449,
    "start_time": "2025-04-01T22:04:11.062Z"
   },
   {
    "duration": 11068,
    "start_time": "2025-04-01T22:04:11.515Z"
   },
   {
    "duration": 97775,
    "start_time": "2025-04-01T22:04:22.644Z"
   },
   {
    "duration": 527235,
    "start_time": "2025-04-01T22:06:00.420Z"
   },
   {
    "duration": 389,
    "start_time": "2025-04-01T22:17:48.705Z"
   },
   {
    "duration": 312,
    "start_time": "2025-04-01T22:18:22.967Z"
   },
   {
    "duration": 722,
    "start_time": "2025-04-01T22:20:15.731Z"
   },
   {
    "duration": 1213,
    "start_time": "2025-04-01T22:27:17.269Z"
   },
   {
    "duration": 25,
    "start_time": "2025-04-01T22:27:18.484Z"
   },
   {
    "duration": 33,
    "start_time": "2025-04-01T22:27:18.511Z"
   },
   {
    "duration": 4,
    "start_time": "2025-04-01T22:27:18.547Z"
   },
   {
    "duration": 5,
    "start_time": "2025-04-01T22:27:18.553Z"
   },
   {
    "duration": 196,
    "start_time": "2025-04-01T22:27:18.559Z"
   },
   {
    "duration": 683,
    "start_time": "2025-04-01T22:27:18.757Z"
   },
   {
    "duration": 6,
    "start_time": "2025-04-01T22:27:19.442Z"
   },
   {
    "duration": 827,
    "start_time": "2025-04-01T22:27:19.450Z"
   },
   {
    "duration": 14,
    "start_time": "2025-04-01T22:27:20.281Z"
   },
   {
    "duration": 8,
    "start_time": "2025-04-01T22:27:20.297Z"
   },
   {
    "duration": 52,
    "start_time": "2025-04-01T22:27:20.307Z"
   },
   {
    "duration": 447,
    "start_time": "2025-04-01T22:27:20.364Z"
   },
   {
    "duration": 841,
    "start_time": "2025-04-01T22:27:20.812Z"
   },
   {
    "duration": 386,
    "start_time": "2025-04-01T22:27:21.657Z"
   },
   {
    "duration": 88065,
    "start_time": "2025-04-01T22:27:22.044Z"
   },
   {
    "duration": 1151,
    "start_time": "2025-04-01T22:33:40.830Z"
   },
   {
    "duration": 25,
    "start_time": "2025-04-01T22:33:41.984Z"
   },
   {
    "duration": 36,
    "start_time": "2025-04-01T22:33:42.010Z"
   },
   {
    "duration": 5,
    "start_time": "2025-04-01T22:33:42.049Z"
   },
   {
    "duration": 4,
    "start_time": "2025-04-01T22:33:42.057Z"
   },
   {
    "duration": 221,
    "start_time": "2025-04-01T22:33:42.063Z"
   },
   {
    "duration": 585,
    "start_time": "2025-04-01T22:33:42.286Z"
   },
   {
    "duration": 5,
    "start_time": "2025-04-01T22:33:42.873Z"
   },
   {
    "duration": 780,
    "start_time": "2025-04-01T22:33:42.880Z"
   },
   {
    "duration": 14,
    "start_time": "2025-04-01T22:33:43.663Z"
   },
   {
    "duration": 8,
    "start_time": "2025-04-01T22:33:43.679Z"
   },
   {
    "duration": 63,
    "start_time": "2025-04-01T22:33:43.689Z"
   },
   {
    "duration": 361,
    "start_time": "2025-04-01T22:33:43.753Z"
   },
   {
    "duration": 831,
    "start_time": "2025-04-01T22:33:44.118Z"
   },
   {
    "duration": 394,
    "start_time": "2025-04-01T22:33:44.955Z"
   },
   {
    "duration": 86521,
    "start_time": "2025-04-01T22:33:45.350Z"
   },
   {
    "duration": 169,
    "start_time": "2025-04-01T22:39:29.929Z"
   },
   {
    "duration": 1191,
    "start_time": "2025-04-01T22:39:42.566Z"
   },
   {
    "duration": 26,
    "start_time": "2025-04-01T22:39:43.759Z"
   },
   {
    "duration": 23,
    "start_time": "2025-04-01T22:39:43.786Z"
   },
   {
    "duration": 5,
    "start_time": "2025-04-01T22:39:43.810Z"
   },
   {
    "duration": 4,
    "start_time": "2025-04-01T22:39:43.818Z"
   },
   {
    "duration": 188,
    "start_time": "2025-04-01T22:39:43.843Z"
   },
   {
    "duration": 602,
    "start_time": "2025-04-01T22:39:44.033Z"
   },
   {
    "duration": 6,
    "start_time": "2025-04-01T22:39:44.637Z"
   },
   {
    "duration": 752,
    "start_time": "2025-04-01T22:39:44.644Z"
   },
   {
    "duration": 14,
    "start_time": "2025-04-01T22:39:45.398Z"
   },
   {
    "duration": 9,
    "start_time": "2025-04-01T22:39:45.413Z"
   },
   {
    "duration": 28,
    "start_time": "2025-04-01T22:39:45.424Z"
   },
   {
    "duration": 354,
    "start_time": "2025-04-01T22:39:45.454Z"
   },
   {
    "duration": 932,
    "start_time": "2025-04-01T22:39:45.812Z"
   },
   {
    "duration": 414,
    "start_time": "2025-04-01T22:39:46.746Z"
   },
   {
    "duration": 86865,
    "start_time": "2025-04-01T22:39:47.162Z"
   },
   {
    "duration": 0,
    "start_time": "2025-04-01T22:41:48.776Z"
   },
   {
    "duration": 1221,
    "start_time": "2025-04-01T22:46:38.070Z"
   },
   {
    "duration": 24,
    "start_time": "2025-04-01T22:46:39.294Z"
   },
   {
    "duration": 29,
    "start_time": "2025-04-01T22:46:39.319Z"
   },
   {
    "duration": 5,
    "start_time": "2025-04-01T22:46:39.350Z"
   },
   {
    "duration": 4,
    "start_time": "2025-04-01T22:46:39.358Z"
   },
   {
    "duration": 211,
    "start_time": "2025-04-01T22:46:39.364Z"
   },
   {
    "duration": 607,
    "start_time": "2025-04-01T22:46:39.577Z"
   },
   {
    "duration": 6,
    "start_time": "2025-04-01T22:46:40.185Z"
   },
   {
    "duration": 844,
    "start_time": "2025-04-01T22:46:40.193Z"
   },
   {
    "duration": 14,
    "start_time": "2025-04-01T22:46:41.043Z"
   },
   {
    "duration": 9,
    "start_time": "2025-04-01T22:46:41.059Z"
   },
   {
    "duration": 14,
    "start_time": "2025-04-01T22:46:41.069Z"
   },
   {
    "duration": 398,
    "start_time": "2025-04-01T22:46:41.084Z"
   },
   {
    "duration": 768,
    "start_time": "2025-04-01T22:46:41.484Z"
   },
   {
    "duration": 379,
    "start_time": "2025-04-01T22:46:42.254Z"
   },
   {
    "duration": 87189,
    "start_time": "2025-04-01T22:46:42.643Z"
   },
   {
    "duration": 1203,
    "start_time": "2025-04-01T22:54:39.689Z"
   },
   {
    "duration": 25,
    "start_time": "2025-04-01T22:54:40.894Z"
   },
   {
    "duration": 29,
    "start_time": "2025-04-01T22:54:40.920Z"
   },
   {
    "duration": 4,
    "start_time": "2025-04-01T22:54:40.952Z"
   },
   {
    "duration": 5,
    "start_time": "2025-04-01T22:54:40.958Z"
   },
   {
    "duration": 210,
    "start_time": "2025-04-01T22:54:40.964Z"
   },
   {
    "duration": 584,
    "start_time": "2025-04-01T22:54:41.176Z"
   },
   {
    "duration": 5,
    "start_time": "2025-04-01T22:54:41.762Z"
   },
   {
    "duration": 730,
    "start_time": "2025-04-01T22:54:41.769Z"
   },
   {
    "duration": 14,
    "start_time": "2025-04-01T22:54:42.502Z"
   },
   {
    "duration": 8,
    "start_time": "2025-04-01T22:54:42.518Z"
   },
   {
    "duration": 17,
    "start_time": "2025-04-01T22:54:42.543Z"
   },
   {
    "duration": 354,
    "start_time": "2025-04-01T22:54:42.561Z"
   },
   {
    "duration": 933,
    "start_time": "2025-04-01T22:54:42.917Z"
   },
   {
    "duration": 381,
    "start_time": "2025-04-01T22:54:43.855Z"
   },
   {
    "duration": 86813,
    "start_time": "2025-04-01T22:54:44.237Z"
   },
   {
    "duration": 24415,
    "start_time": "2025-04-01T22:56:11.052Z"
   },
   {
    "duration": 20719,
    "start_time": "2025-04-01T23:02:08.125Z"
   },
   {
    "duration": 1193,
    "start_time": "2025-04-01T23:09:32.982Z"
   },
   {
    "duration": 23,
    "start_time": "2025-04-01T23:09:34.177Z"
   },
   {
    "duration": 24,
    "start_time": "2025-04-01T23:09:34.201Z"
   },
   {
    "duration": 5,
    "start_time": "2025-04-01T23:09:34.273Z"
   },
   {
    "duration": 5,
    "start_time": "2025-04-01T23:09:34.833Z"
   },
   {
    "duration": 201,
    "start_time": "2025-04-01T23:09:36.056Z"
   },
   {
    "duration": 6,
    "start_time": "2025-04-01T23:09:39.313Z"
   },
   {
    "duration": 218,
    "start_time": "2025-04-01T23:10:01.809Z"
   },
   {
    "duration": 342,
    "start_time": "2025-04-01T23:11:02.601Z"
   },
   {
    "duration": 27,
    "start_time": "2025-04-01T23:13:18.321Z"
   },
   {
    "duration": 532,
    "start_time": "2025-04-01T23:13:30.024Z"
   },
   {
    "duration": 490,
    "start_time": "2025-04-01T23:14:32.260Z"
   },
   {
    "duration": 613,
    "start_time": "2025-04-01T23:14:44.032Z"
   },
   {
    "duration": 7,
    "start_time": "2025-04-01T23:14:48.146Z"
   },
   {
    "duration": 753,
    "start_time": "2025-04-01T23:15:11.462Z"
   },
   {
    "duration": 14,
    "start_time": "2025-04-01T23:16:02.485Z"
   },
   {
    "duration": 12,
    "start_time": "2025-04-01T23:16:05.318Z"
   },
   {
    "duration": 10,
    "start_time": "2025-04-01T23:16:07.803Z"
   },
   {
    "duration": 227,
    "start_time": "2025-04-01T23:16:09.285Z"
   },
   {
    "duration": 737,
    "start_time": "2025-04-01T23:16:12.028Z"
   },
   {
    "duration": 268,
    "start_time": "2025-04-01T23:16:14.409Z"
   },
   {
    "duration": 85846,
    "start_time": "2025-04-01T23:16:34.805Z"
   },
   {
    "duration": 23999,
    "start_time": "2025-04-01T23:18:00.653Z"
   },
   {
    "duration": 16,
    "start_time": "2025-04-01T23:19:40.414Z"
   },
   {
    "duration": 15298,
    "start_time": "2025-04-01T23:20:00.972Z"
   },
   {
    "duration": 14,
    "start_time": "2025-04-01T23:25:22.164Z"
   },
   {
    "duration": 167,
    "start_time": "2025-04-01T23:31:57.040Z"
   },
   {
    "duration": 1135,
    "start_time": "2025-04-01T23:32:07.415Z"
   },
   {
    "duration": 29,
    "start_time": "2025-04-01T23:32:08.553Z"
   },
   {
    "duration": 24,
    "start_time": "2025-04-01T23:32:08.584Z"
   },
   {
    "duration": 5,
    "start_time": "2025-04-01T23:32:08.609Z"
   },
   {
    "duration": 4,
    "start_time": "2025-04-01T23:32:08.616Z"
   },
   {
    "duration": 206,
    "start_time": "2025-04-01T23:32:08.622Z"
   },
   {
    "duration": 220,
    "start_time": "2025-04-01T23:32:08.831Z"
   },
   {
    "duration": 593,
    "start_time": "2025-04-01T23:32:09.053Z"
   },
   {
    "duration": 6,
    "start_time": "2025-04-01T23:32:09.648Z"
   },
   {
    "duration": 875,
    "start_time": "2025-04-01T23:32:09.656Z"
   },
   {
    "duration": 25,
    "start_time": "2025-04-01T23:32:10.533Z"
   },
   {
    "duration": 8,
    "start_time": "2025-04-01T23:32:10.559Z"
   },
   {
    "duration": 16,
    "start_time": "2025-04-01T23:32:10.569Z"
   },
   {
    "duration": 330,
    "start_time": "2025-04-01T23:32:10.642Z"
   },
   {
    "duration": 790,
    "start_time": "2025-04-01T23:32:10.973Z"
   },
   {
    "duration": 402,
    "start_time": "2025-04-01T23:32:11.765Z"
   },
   {
    "duration": 86876,
    "start_time": "2025-04-01T23:32:12.169Z"
   },
   {
    "duration": 2869,
    "start_time": "2025-04-02T00:23:04.251Z"
   },
   {
    "duration": 32,
    "start_time": "2025-04-02T00:23:07.123Z"
   },
   {
    "duration": 26,
    "start_time": "2025-04-02T00:23:07.157Z"
   },
   {
    "duration": 4,
    "start_time": "2025-04-02T00:23:07.185Z"
   },
   {
    "duration": 4,
    "start_time": "2025-04-02T00:23:07.191Z"
   },
   {
    "duration": 186,
    "start_time": "2025-04-02T00:23:12.567Z"
   },
   {
    "duration": 215,
    "start_time": "2025-04-02T00:23:17.424Z"
   },
   {
    "duration": 490,
    "start_time": "2025-04-02T00:23:25.669Z"
   },
   {
    "duration": 7,
    "start_time": "2025-04-02T00:23:39.486Z"
   },
   {
    "duration": 1565,
    "start_time": "2025-04-02T00:27:26.192Z"
   },
   {
    "duration": 766,
    "start_time": "2025-04-02T00:28:37.696Z"
   },
   {
    "duration": 786,
    "start_time": "2025-04-02T00:28:53.876Z"
   },
   {
    "duration": 847,
    "start_time": "2025-04-02T00:29:16.657Z"
   },
   {
    "duration": 14,
    "start_time": "2025-04-02T00:30:20.512Z"
   },
   {
    "duration": 9,
    "start_time": "2025-04-02T00:30:26.384Z"
   },
   {
    "duration": 15,
    "start_time": "2025-04-02T00:30:29.300Z"
   },
   {
    "duration": 264,
    "start_time": "2025-04-02T00:30:30.348Z"
   },
   {
    "duration": 672,
    "start_time": "2025-04-02T00:30:40.488Z"
   },
   {
    "duration": 268,
    "start_time": "2025-04-02T00:30:42.407Z"
   },
   {
    "duration": 1114,
    "start_time": "2025-04-02T00:32:03.708Z"
   },
   {
    "duration": 22,
    "start_time": "2025-04-02T00:32:04.824Z"
   },
   {
    "duration": 26,
    "start_time": "2025-04-02T00:32:04.948Z"
   },
   {
    "duration": 5,
    "start_time": "2025-04-02T00:32:05.437Z"
   },
   {
    "duration": 5,
    "start_time": "2025-04-02T00:32:05.840Z"
   },
   {
    "duration": 179,
    "start_time": "2025-04-02T00:32:06.563Z"
   },
   {
    "duration": 213,
    "start_time": "2025-04-02T00:32:07.014Z"
   },
   {
    "duration": 556,
    "start_time": "2025-04-02T00:32:08.292Z"
   },
   {
    "duration": 6,
    "start_time": "2025-04-02T00:32:10.036Z"
   },
   {
    "duration": 785,
    "start_time": "2025-04-02T00:32:12.165Z"
   },
   {
    "duration": 927,
    "start_time": "2025-04-02T00:32:39.717Z"
   },
   {
    "duration": 1123,
    "start_time": "2025-04-02T00:32:58.216Z"
   },
   {
    "duration": 22,
    "start_time": "2025-04-02T00:33:01.345Z"
   },
   {
    "duration": 25,
    "start_time": "2025-04-02T00:33:02.421Z"
   },
   {
    "duration": 5,
    "start_time": "2025-04-02T00:33:03.035Z"
   },
   {
    "duration": 4,
    "start_time": "2025-04-02T00:33:03.849Z"
   },
   {
    "duration": 186,
    "start_time": "2025-04-02T00:33:05.045Z"
   },
   {
    "duration": 217,
    "start_time": "2025-04-02T00:33:05.710Z"
   },
   {
    "duration": 579,
    "start_time": "2025-04-02T00:33:07.288Z"
   },
   {
    "duration": 6,
    "start_time": "2025-04-02T00:33:10.782Z"
   },
   {
    "duration": 863,
    "start_time": "2025-04-02T00:33:25.065Z"
   },
   {
    "duration": 15,
    "start_time": "2025-04-02T00:33:31.754Z"
   },
   {
    "duration": 9,
    "start_time": "2025-04-02T00:33:36.472Z"
   },
   {
    "duration": 11,
    "start_time": "2025-04-02T00:33:41.463Z"
   },
   {
    "duration": 586,
    "start_time": "2025-04-02T00:33:47.778Z"
   },
   {
    "duration": 686,
    "start_time": "2025-04-02T00:34:19.075Z"
   },
   {
    "duration": 322,
    "start_time": "2025-04-02T00:34:26.280Z"
   },
   {
    "duration": 202177,
    "start_time": "2025-04-02T00:34:31.521Z"
   },
   {
    "duration": 163,
    "start_time": "2025-04-02T00:42:07.076Z"
   },
   {
    "duration": 1172,
    "start_time": "2025-04-02T00:42:20.733Z"
   },
   {
    "duration": 29,
    "start_time": "2025-04-02T00:42:21.907Z"
   },
   {
    "duration": 23,
    "start_time": "2025-04-02T00:42:21.937Z"
   },
   {
    "duration": 5,
    "start_time": "2025-04-02T00:42:21.962Z"
   },
   {
    "duration": 4,
    "start_time": "2025-04-02T00:42:21.970Z"
   },
   {
    "duration": 208,
    "start_time": "2025-04-02T00:42:21.975Z"
   },
   {
    "duration": 214,
    "start_time": "2025-04-02T00:42:22.185Z"
   },
   {
    "duration": 551,
    "start_time": "2025-04-02T00:42:22.400Z"
   },
   {
    "duration": 8,
    "start_time": "2025-04-02T00:42:22.953Z"
   },
   {
    "duration": 802,
    "start_time": "2025-04-02T00:42:22.966Z"
   },
   {
    "duration": 14,
    "start_time": "2025-04-02T00:42:23.770Z"
   },
   {
    "duration": 9,
    "start_time": "2025-04-02T00:42:23.785Z"
   },
   {
    "duration": 52,
    "start_time": "2025-04-02T00:42:23.796Z"
   },
   {
    "duration": 339,
    "start_time": "2025-04-02T00:42:23.853Z"
   },
   {
    "duration": 1054,
    "start_time": "2025-04-02T00:42:24.194Z"
   },
   {
    "duration": 378,
    "start_time": "2025-04-02T00:42:25.250Z"
   },
   {
    "duration": 206091,
    "start_time": "2025-04-02T00:42:25.630Z"
   },
   {
    "duration": 1198,
    "start_time": "2025-04-02T00:50:08.197Z"
   },
   {
    "duration": 25,
    "start_time": "2025-04-02T00:50:09.397Z"
   },
   {
    "duration": 30,
    "start_time": "2025-04-02T00:50:09.423Z"
   },
   {
    "duration": 11,
    "start_time": "2025-04-02T00:50:09.456Z"
   },
   {
    "duration": 6,
    "start_time": "2025-04-02T00:50:09.471Z"
   },
   {
    "duration": 223,
    "start_time": "2025-04-02T00:50:09.479Z"
   },
   {
    "duration": 236,
    "start_time": "2025-04-02T00:50:09.703Z"
   },
   {
    "duration": 629,
    "start_time": "2025-04-02T00:50:09.942Z"
   },
   {
    "duration": 8,
    "start_time": "2025-04-02T00:50:10.573Z"
   },
   {
    "duration": 864,
    "start_time": "2025-04-02T00:50:10.583Z"
   },
   {
    "duration": 16,
    "start_time": "2025-04-02T00:50:11.449Z"
   },
   {
    "duration": 8,
    "start_time": "2025-04-02T00:50:11.466Z"
   },
   {
    "duration": 14,
    "start_time": "2025-04-02T00:50:11.475Z"
   },
   {
    "duration": 399,
    "start_time": "2025-04-02T00:50:11.491Z"
   },
   {
    "duration": 764,
    "start_time": "2025-04-02T00:50:11.891Z"
   },
   {
    "duration": 410,
    "start_time": "2025-04-02T00:50:12.658Z"
   },
   {
    "duration": 203684,
    "start_time": "2025-04-02T00:50:13.070Z"
   },
   {
    "duration": 14815,
    "start_time": "2025-04-02T00:53:36.756Z"
   },
   {
    "duration": 15480,
    "start_time": "2025-04-02T00:55:02.283Z"
   },
   {
    "duration": 8,
    "start_time": "2025-04-02T00:55:59.027Z"
   },
   {
    "duration": 62157,
    "start_time": "2025-04-02T00:56:51.825Z"
   },
   {
    "duration": 263,
    "start_time": "2025-04-02T00:59:17.908Z"
   },
   {
    "duration": 17384,
    "start_time": "2025-04-02T00:59:29.259Z"
   },
   {
    "duration": 17797,
    "start_time": "2025-04-02T01:00:29.864Z"
   },
   {
    "duration": 19,
    "start_time": "2025-04-02T01:02:07.159Z"
   },
   {
    "duration": 3,
    "start_time": "2025-04-02T01:18:05.369Z"
   },
   {
    "duration": 237,
    "start_time": "2025-04-02T01:18:58.438Z"
   },
   {
    "duration": 268,
    "start_time": "2025-04-02T01:19:07.730Z"
   },
   {
    "duration": 657,
    "start_time": "2025-04-02T01:19:39.309Z"
   },
   {
    "duration": 249,
    "start_time": "2025-04-02T01:21:07.337Z"
   },
   {
    "duration": 336,
    "start_time": "2025-04-02T01:21:14.609Z"
   },
   {
    "duration": 205151,
    "start_time": "2025-04-02T01:21:47.367Z"
   },
   {
    "duration": 269,
    "start_time": "2025-04-02T01:27:09.317Z"
   },
   {
    "duration": 212116,
    "start_time": "2025-04-02T01:28:13.005Z"
   },
   {
    "duration": 15320,
    "start_time": "2025-04-02T01:31:59.138Z"
   },
   {
    "duration": 14,
    "start_time": "2025-04-02T01:32:38.441Z"
   },
   {
    "duration": 1138,
    "start_time": "2025-04-02T01:33:19.951Z"
   },
   {
    "duration": 22,
    "start_time": "2025-04-02T01:33:21.091Z"
   },
   {
    "duration": 32,
    "start_time": "2025-04-02T01:33:21.115Z"
   },
   {
    "duration": 4,
    "start_time": "2025-04-02T01:33:21.148Z"
   },
   {
    "duration": 4,
    "start_time": "2025-04-02T01:33:21.156Z"
   },
   {
    "duration": 198,
    "start_time": "2025-04-02T01:33:21.161Z"
   },
   {
    "duration": 230,
    "start_time": "2025-04-02T01:33:21.361Z"
   },
   {
    "duration": 570,
    "start_time": "2025-04-02T01:33:21.593Z"
   },
   {
    "duration": 6,
    "start_time": "2025-04-02T01:33:22.165Z"
   },
   {
    "duration": 843,
    "start_time": "2025-04-02T01:33:22.173Z"
   },
   {
    "duration": 15,
    "start_time": "2025-04-02T01:33:23.017Z"
   },
   {
    "duration": 8,
    "start_time": "2025-04-02T01:33:23.042Z"
   },
   {
    "duration": 18,
    "start_time": "2025-04-02T01:33:23.052Z"
   },
   {
    "duration": 67,
    "start_time": "2025-04-02T01:33:23.076Z"
   },
   {
    "duration": 318,
    "start_time": "2025-04-02T01:33:23.145Z"
   },
   {
    "duration": 781,
    "start_time": "2025-04-02T01:33:23.465Z"
   },
   {
    "duration": 328,
    "start_time": "2025-04-02T01:33:24.248Z"
   },
   {
    "duration": 212532,
    "start_time": "2025-04-02T01:33:24.578Z"
   },
   {
    "duration": 15044,
    "start_time": "2025-04-02T01:36:57.112Z"
   },
   {
    "duration": 12,
    "start_time": "2025-04-02T01:37:12.158Z"
   },
   {
    "duration": 463,
    "start_time": "2025-04-02T01:41:06.980Z"
   },
   {
    "duration": 16972,
    "start_time": "2025-04-02T01:41:37.276Z"
   },
   {
    "duration": 1191,
    "start_time": "2025-04-02T01:45:58.366Z"
   },
   {
    "duration": 23,
    "start_time": "2025-04-02T01:45:59.559Z"
   },
   {
    "duration": 23,
    "start_time": "2025-04-02T01:45:59.583Z"
   },
   {
    "duration": 7,
    "start_time": "2025-04-02T01:45:59.607Z"
   },
   {
    "duration": 4,
    "start_time": "2025-04-02T01:45:59.617Z"
   },
   {
    "duration": 189,
    "start_time": "2025-04-02T01:45:59.643Z"
   },
   {
    "duration": 233,
    "start_time": "2025-04-02T01:45:59.834Z"
   },
   {
    "duration": 583,
    "start_time": "2025-04-02T01:46:00.069Z"
   },
   {
    "duration": 6,
    "start_time": "2025-04-02T01:46:00.654Z"
   },
   {
    "duration": 819,
    "start_time": "2025-04-02T01:46:00.661Z"
   },
   {
    "duration": 15,
    "start_time": "2025-04-02T01:46:01.482Z"
   },
   {
    "duration": 8,
    "start_time": "2025-04-02T01:46:01.499Z"
   },
   {
    "duration": 39,
    "start_time": "2025-04-02T01:46:01.508Z"
   },
   {
    "duration": 6,
    "start_time": "2025-04-02T01:46:01.550Z"
   },
   {
    "duration": 3,
    "start_time": "2025-04-02T01:46:01.558Z"
   },
   {
    "duration": 347,
    "start_time": "2025-04-02T01:46:01.563Z"
   },
   {
    "duration": 830,
    "start_time": "2025-04-02T01:46:01.913Z"
   },
   {
    "duration": 326,
    "start_time": "2025-04-02T01:46:02.745Z"
   },
   {
    "duration": 212213,
    "start_time": "2025-04-02T01:46:03.073Z"
   },
   {
    "duration": 17973,
    "start_time": "2025-04-02T01:49:35.288Z"
   },
   {
    "duration": 12,
    "start_time": "2025-04-02T01:49:53.264Z"
   },
   {
    "duration": 1277,
    "start_time": "2025-04-02T01:51:11.346Z"
   },
   {
    "duration": 36,
    "start_time": "2025-04-02T01:51:12.625Z"
   },
   {
    "duration": 23,
    "start_time": "2025-04-02T01:51:12.663Z"
   },
   {
    "duration": 5,
    "start_time": "2025-04-02T01:51:12.689Z"
   },
   {
    "duration": 5,
    "start_time": "2025-04-02T01:51:12.695Z"
   },
   {
    "duration": 237,
    "start_time": "2025-04-02T01:51:12.702Z"
   },
   {
    "duration": 239,
    "start_time": "2025-04-02T01:51:12.941Z"
   },
   {
    "duration": 686,
    "start_time": "2025-04-02T01:51:13.182Z"
   },
   {
    "duration": 7,
    "start_time": "2025-04-02T01:51:13.871Z"
   },
   {
    "duration": 1235,
    "start_time": "2025-04-02T01:51:13.882Z"
   },
   {
    "duration": 34,
    "start_time": "2025-04-02T01:51:15.119Z"
   },
   {
    "duration": 9,
    "start_time": "2025-04-02T01:51:15.155Z"
   },
   {
    "duration": 14,
    "start_time": "2025-04-02T01:51:15.165Z"
   },
   {
    "duration": 14,
    "start_time": "2025-04-02T01:51:15.213Z"
   },
   {
    "duration": 9,
    "start_time": "2025-04-02T01:51:15.236Z"
   },
   {
    "duration": 498,
    "start_time": "2025-04-02T01:51:15.253Z"
   },
   {
    "duration": 1565,
    "start_time": "2025-04-02T01:51:15.753Z"
   },
   {
    "duration": 374,
    "start_time": "2025-04-02T01:51:17.320Z"
   },
   {
    "duration": 234861,
    "start_time": "2025-04-02T01:51:17.696Z"
   },
   {
    "duration": 20764,
    "start_time": "2025-04-02T01:55:12.559Z"
   },
   {
    "duration": 19,
    "start_time": "2025-04-02T01:55:33.336Z"
   },
   {
    "duration": 8,
    "start_time": "2025-04-02T02:07:46.828Z"
   },
   {
    "duration": 22,
    "start_time": "2025-04-02T02:07:46.839Z"
   },
   {
    "duration": 20,
    "start_time": "2025-04-02T02:07:46.863Z"
   },
   {
    "duration": 4,
    "start_time": "2025-04-02T02:07:46.885Z"
   },
   {
    "duration": 4,
    "start_time": "2025-04-02T02:07:46.892Z"
   },
   {
    "duration": 332,
    "start_time": "2025-04-02T02:07:46.897Z"
   },
   {
    "duration": 241,
    "start_time": "2025-04-02T02:07:47.231Z"
   },
   {
    "duration": 588,
    "start_time": "2025-04-02T02:07:47.474Z"
   },
   {
    "duration": 6,
    "start_time": "2025-04-02T02:07:48.065Z"
   },
   {
    "duration": 1413,
    "start_time": "2025-04-02T02:07:48.073Z"
   },
   {
    "duration": 16,
    "start_time": "2025-04-02T02:07:49.490Z"
   },
   {
    "duration": 19,
    "start_time": "2025-04-02T02:07:49.507Z"
   },
   {
    "duration": 21,
    "start_time": "2025-04-02T02:07:49.527Z"
   },
   {
    "duration": 5,
    "start_time": "2025-04-02T02:07:49.552Z"
   },
   {
    "duration": 61,
    "start_time": "2025-04-02T02:07:49.558Z"
   },
   {
    "duration": 516,
    "start_time": "2025-04-02T02:07:49.627Z"
   },
   {
    "duration": 1671,
    "start_time": "2025-04-02T02:07:50.152Z"
   },
   {
    "duration": 450,
    "start_time": "2025-04-02T02:07:51.831Z"
   },
   {
    "duration": 248842,
    "start_time": "2025-04-02T02:07:52.283Z"
   },
   {
    "duration": 21419,
    "start_time": "2025-04-02T02:12:01.128Z"
   },
   {
    "duration": 63,
    "start_time": "2025-04-02T02:12:22.552Z"
   }
  ],
  "kernelspec": {
   "display_name": "Python 3 (ipykernel)",
   "language": "python",
   "name": "python3"
  },
  "language_info": {
   "codemirror_mode": {
    "name": "ipython",
    "version": 3
   },
   "file_extension": ".py",
   "mimetype": "text/x-python",
   "name": "python",
   "nbconvert_exporter": "python",
   "pygments_lexer": "ipython3",
   "version": "3.9.19"
  },
  "toc": {
   "base_numbering": 1,
   "nav_menu": {},
   "number_sections": true,
   "sideBar": true,
   "skip_h1_title": true,
   "title_cell": "Table of Contents",
   "title_sidebar": "Contents",
   "toc_cell": false,
   "toc_position": {},
   "toc_section_display": true,
   "toc_window_display": false
  }
 },
 "nbformat": 4,
 "nbformat_minor": 2
}
